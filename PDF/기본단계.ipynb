{
 "cells": [
  {
   "cell_type": "markdown",
   "metadata": {},
   "source": [
    "## 1. 기본적인 PDF 생성"
   ]
  },
  {
   "cell_type": "code",
   "execution_count": 10,
   "metadata": {},
   "outputs": [
    {
     "data": {
      "text/plain": [
       "''"
      ]
     },
     "execution_count": 10,
     "metadata": {},
     "output_type": "execute_result"
    }
   ],
   "source": [
    "from fpdf import FPDF\n",
    "\n",
    "pdf = FPDF()\n",
    "pdf.add_page()\n",
    "# pdf.set_font(\"Arial\", size=12)\n",
    "# 폰트 추가 (NanumGothic 예시)\n",
    "pdf.add_font(\"NanumGothic\", \"\", \"./NanumGothic.ttf\", uni=True)\n",
    "pdf.set_font(\"NanumGothic\", size=12)\n",
    "pdf.cell(200, 10, txt=\"Hello, PDF!\", ln=True, align=\"C\")\n",
    "pdf.output(\"./data/basic.pdf\")"
   ]
  },
  {
   "cell_type": "code",
   "execution_count": 11,
   "metadata": {},
   "outputs": [
    {
     "name": "stderr",
     "output_type": "stream",
     "text": [
      "/opt/homebrew/lib/python3.11/site-packages/fpdf/ttfonts.py:670: UserWarning: cmap value too big/small: -43995\n",
      "  warnings.warn(\"cmap value too big/small: %s\" % cm)\n",
      "/opt/homebrew/lib/python3.11/site-packages/fpdf/ttfonts.py:670: UserWarning: cmap value too big/small: -44125\n",
      "  warnings.warn(\"cmap value too big/small: %s\" % cm)\n",
      "/opt/homebrew/lib/python3.11/site-packages/fpdf/ttfonts.py:670: UserWarning: cmap value too big/small: -44961\n",
      "  warnings.warn(\"cmap value too big/small: %s\" % cm)\n",
      "/opt/homebrew/lib/python3.11/site-packages/fpdf/ttfonts.py:670: UserWarning: cmap value too big/small: -45676\n",
      "  warnings.warn(\"cmap value too big/small: %s\" % cm)\n",
      "/opt/homebrew/lib/python3.11/site-packages/fpdf/ttfonts.py:670: UserWarning: cmap value too big/small: -45727\n",
      "  warnings.warn(\"cmap value too big/small: %s\" % cm)\n",
      "/opt/homebrew/lib/python3.11/site-packages/fpdf/ttfonts.py:670: UserWarning: cmap value too big/small: -45754\n",
      "  warnings.warn(\"cmap value too big/small: %s\" % cm)\n",
      "/opt/homebrew/lib/python3.11/site-packages/fpdf/ttfonts.py:670: UserWarning: cmap value too big/small: -46065\n",
      "  warnings.warn(\"cmap value too big/small: %s\" % cm)\n",
      "/opt/homebrew/lib/python3.11/site-packages/fpdf/ttfonts.py:670: UserWarning: cmap value too big/small: -46077\n",
      "  warnings.warn(\"cmap value too big/small: %s\" % cm)\n",
      "/opt/homebrew/lib/python3.11/site-packages/fpdf/ttfonts.py:670: UserWarning: cmap value too big/small: -46255\n",
      "  warnings.warn(\"cmap value too big/small: %s\" % cm)\n",
      "/opt/homebrew/lib/python3.11/site-packages/fpdf/ttfonts.py:670: UserWarning: cmap value too big/small: -47038\n",
      "  warnings.warn(\"cmap value too big/small: %s\" % cm)\n",
      "/opt/homebrew/lib/python3.11/site-packages/fpdf/ttfonts.py:670: UserWarning: cmap value too big/small: -47437\n",
      "  warnings.warn(\"cmap value too big/small: %s\" % cm)\n",
      "/opt/homebrew/lib/python3.11/site-packages/fpdf/ttfonts.py:670: UserWarning: cmap value too big/small: -47684\n",
      "  warnings.warn(\"cmap value too big/small: %s\" % cm)\n",
      "/opt/homebrew/lib/python3.11/site-packages/fpdf/ttfonts.py:670: UserWarning: cmap value too big/small: -47879\n",
      "  warnings.warn(\"cmap value too big/small: %s\" % cm)\n",
      "/opt/homebrew/lib/python3.11/site-packages/fpdf/ttfonts.py:670: UserWarning: cmap value too big/small: -48098\n",
      "  warnings.warn(\"cmap value too big/small: %s\" % cm)\n",
      "/opt/homebrew/lib/python3.11/site-packages/fpdf/ttfonts.py:670: UserWarning: cmap value too big/small: -48118\n",
      "  warnings.warn(\"cmap value too big/small: %s\" % cm)\n",
      "/opt/homebrew/lib/python3.11/site-packages/fpdf/ttfonts.py:670: UserWarning: cmap value too big/small: -48225\n",
      "  warnings.warn(\"cmap value too big/small: %s\" % cm)\n",
      "/opt/homebrew/lib/python3.11/site-packages/fpdf/ttfonts.py:670: UserWarning: cmap value too big/small: -48319\n",
      "  warnings.warn(\"cmap value too big/small: %s\" % cm)\n",
      "/opt/homebrew/lib/python3.11/site-packages/fpdf/ttfonts.py:670: UserWarning: cmap value too big/small: -49319\n",
      "  warnings.warn(\"cmap value too big/small: %s\" % cm)\n",
      "/opt/homebrew/lib/python3.11/site-packages/fpdf/ttfonts.py:670: UserWarning: cmap value too big/small: -49381\n",
      "  warnings.warn(\"cmap value too big/small: %s\" % cm)\n",
      "/opt/homebrew/lib/python3.11/site-packages/fpdf/ttfonts.py:670: UserWarning: cmap value too big/small: -49401\n",
      "  warnings.warn(\"cmap value too big/small: %s\" % cm)\n",
      "/opt/homebrew/lib/python3.11/site-packages/fpdf/ttfonts.py:670: UserWarning: cmap value too big/small: -49771\n",
      "  warnings.warn(\"cmap value too big/small: %s\" % cm)\n",
      "/opt/homebrew/lib/python3.11/site-packages/fpdf/ttfonts.py:670: UserWarning: cmap value too big/small: -49834\n",
      "  warnings.warn(\"cmap value too big/small: %s\" % cm)\n",
      "/opt/homebrew/lib/python3.11/site-packages/fpdf/ttfonts.py:670: UserWarning: cmap value too big/small: -50581\n",
      "  warnings.warn(\"cmap value too big/small: %s\" % cm)\n",
      "/opt/homebrew/lib/python3.11/site-packages/fpdf/ttfonts.py:670: UserWarning: cmap value too big/small: -50608\n",
      "  warnings.warn(\"cmap value too big/small: %s\" % cm)\n",
      "/opt/homebrew/lib/python3.11/site-packages/fpdf/ttfonts.py:670: UserWarning: cmap value too big/small: -50635\n",
      "  warnings.warn(\"cmap value too big/small: %s\" % cm)\n",
      "/opt/homebrew/lib/python3.11/site-packages/fpdf/ttfonts.py:670: UserWarning: cmap value too big/small: -50946\n",
      "  warnings.warn(\"cmap value too big/small: %s\" % cm)\n",
      "/opt/homebrew/lib/python3.11/site-packages/fpdf/ttfonts.py:670: UserWarning: cmap value too big/small: -50949\n",
      "  warnings.warn(\"cmap value too big/small: %s\" % cm)\n",
      "/opt/homebrew/lib/python3.11/site-packages/fpdf/ttfonts.py:670: UserWarning: cmap value too big/small: -50996\n",
      "  warnings.warn(\"cmap value too big/small: %s\" % cm)\n",
      "/opt/homebrew/lib/python3.11/site-packages/fpdf/ttfonts.py:670: UserWarning: cmap value too big/small: -51012\n",
      "  warnings.warn(\"cmap value too big/small: %s\" % cm)\n",
      "/opt/homebrew/lib/python3.11/site-packages/fpdf/ttfonts.py:670: UserWarning: cmap value too big/small: -51162\n",
      "  warnings.warn(\"cmap value too big/small: %s\" % cm)\n",
      "/opt/homebrew/lib/python3.11/site-packages/fpdf/ttfonts.py:670: UserWarning: cmap value too big/small: -51393\n",
      "  warnings.warn(\"cmap value too big/small: %s\" % cm)\n",
      "/opt/homebrew/lib/python3.11/site-packages/fpdf/ttfonts.py:670: UserWarning: cmap value too big/small: -51401\n",
      "  warnings.warn(\"cmap value too big/small: %s\" % cm)\n",
      "/opt/homebrew/lib/python3.11/site-packages/fpdf/ttfonts.py:670: UserWarning: cmap value too big/small: -52559\n",
      "  warnings.warn(\"cmap value too big/small: %s\" % cm)\n",
      "/opt/homebrew/lib/python3.11/site-packages/fpdf/ttfonts.py:670: UserWarning: cmap value too big/small: -53006\n",
      "  warnings.warn(\"cmap value too big/small: %s\" % cm)\n",
      "/opt/homebrew/lib/python3.11/site-packages/fpdf/ttfonts.py:670: UserWarning: cmap value too big/small: -53510\n",
      "  warnings.warn(\"cmap value too big/small: %s\" % cm)\n",
      "/opt/homebrew/lib/python3.11/site-packages/fpdf/ttfonts.py:670: UserWarning: cmap value too big/small: -53872\n",
      "  warnings.warn(\"cmap value too big/small: %s\" % cm)\n",
      "/opt/homebrew/lib/python3.11/site-packages/fpdf/ttfonts.py:670: UserWarning: cmap value too big/small: -54179\n",
      "  warnings.warn(\"cmap value too big/small: %s\" % cm)\n",
      "/opt/homebrew/lib/python3.11/site-packages/fpdf/ttfonts.py:670: UserWarning: cmap value too big/small: -54542\n",
      "  warnings.warn(\"cmap value too big/small: %s\" % cm)\n",
      "/opt/homebrew/lib/python3.11/site-packages/fpdf/ttfonts.py:670: UserWarning: cmap value too big/small: -54557\n",
      "  warnings.warn(\"cmap value too big/small: %s\" % cm)\n",
      "/opt/homebrew/lib/python3.11/site-packages/fpdf/ttfonts.py:670: UserWarning: cmap value too big/small: -54589\n",
      "  warnings.warn(\"cmap value too big/small: %s\" % cm)\n"
     ]
    },
    {
     "data": {
      "text/plain": [
       "''"
      ]
     },
     "execution_count": 11,
     "metadata": {},
     "output_type": "execute_result"
    }
   ],
   "source": [
    "pdf = FPDF()\n",
    "pdf.add_page()\n",
    "pdf.add_font(\"NanumGothic\", \"\", \"./NanumGothic.ttf\", uni=True)\n",
    "pdf.set_font(\"NanumGothic\", size=12)\n",
    "text = \"\"\"이것은 여러 줄 텍스트 예제입니다.\n",
    "PDF 문서에서 여러 줄을 추가하는 방법을 보여줍니다.\n",
    "이 코드를 실행하면 줄바꿈된 텍스트가 포함된 PDF가 생성됩니다.\"\"\"\n",
    "pdf.multi_cell(0, 10, text)\n",
    "pdf.output(\"./data/multiline_text.pdf\")"
   ]
  },
  {
   "cell_type": "markdown",
   "metadata": {},
   "source": [
    "## 3. 다양한 글꼴 스타일 설정"
   ]
  },
  {
   "cell_type": "code",
   "execution_count": 12,
   "metadata": {},
   "outputs": [
    {
     "data": {
      "text/plain": [
       "''"
      ]
     },
     "execution_count": 12,
     "metadata": {},
     "output_type": "execute_result"
    }
   ],
   "source": [
    "pdf = FPDF()\n",
    "pdf.add_page()\n",
    "\n",
    "pdf.set_font(\"Arial\", style=\"B\", size=16)\n",
    "pdf.cell(200, 10, \"Bold Text\", ln=True)\n",
    "\n",
    "pdf.set_font(\"Arial\", style=\"I\", size=16)\n",
    "pdf.cell(200, 10, \"Italic Text\", ln=True)\n",
    "\n",
    "pdf.set_font(\"Arial\", style=\"BI\", size=16)\n",
    "pdf.cell(200, 10, \"Bold & Italic Text\", ln=True)\n",
    "\n",
    "pdf.output(\"./data/font_styles.pdf\")"
   ]
  },
  {
   "cell_type": "markdown",
   "metadata": {},
   "source": [
    "## 4. PDF에서 줄 그리기"
   ]
  },
  {
   "cell_type": "code",
   "execution_count": 13,
   "metadata": {},
   "outputs": [
    {
     "data": {
      "text/plain": [
       "''"
      ]
     },
     "execution_count": 13,
     "metadata": {},
     "output_type": "execute_result"
    }
   ],
   "source": [
    "pdf = FPDF()\n",
    "pdf.add_page()\n",
    "pdf.set_draw_color(0, 0, 255)  # 파란색\n",
    "pdf.line(10, 20, 200, 20)  # (x1, y1, x2, y2)\n",
    "pdf.output(\"./data/line.pdf\")"
   ]
  },
  {
   "cell_type": "markdown",
   "metadata": {},
   "source": [
    "## 5. 표 생성 (셀 기반)"
   ]
  },
  {
   "cell_type": "code",
   "execution_count": 16,
   "metadata": {},
   "outputs": [
    {
     "name": "stderr",
     "output_type": "stream",
     "text": [
      "/opt/homebrew/lib/python3.11/site-packages/fpdf/ttfonts.py:670: UserWarning: cmap value too big/small: -44023\n",
      "  warnings.warn(\"cmap value too big/small: %s\" % cm)\n",
      "/opt/homebrew/lib/python3.11/site-packages/fpdf/ttfonts.py:670: UserWarning: cmap value too big/small: -44554\n",
      "  warnings.warn(\"cmap value too big/small: %s\" % cm)\n",
      "/opt/homebrew/lib/python3.11/site-packages/fpdf/ttfonts.py:670: UserWarning: cmap value too big/small: -44569\n",
      "  warnings.warn(\"cmap value too big/small: %s\" % cm)\n",
      "/opt/homebrew/lib/python3.11/site-packages/fpdf/ttfonts.py:670: UserWarning: cmap value too big/small: -45168\n",
      "  warnings.warn(\"cmap value too big/small: %s\" % cm)\n",
      "/opt/homebrew/lib/python3.11/site-packages/fpdf/ttfonts.py:670: UserWarning: cmap value too big/small: -45279\n",
      "  warnings.warn(\"cmap value too big/small: %s\" % cm)\n",
      "/opt/homebrew/lib/python3.11/site-packages/fpdf/ttfonts.py:670: UserWarning: cmap value too big/small: -46314\n",
      "  warnings.warn(\"cmap value too big/small: %s\" % cm)\n",
      "/opt/homebrew/lib/python3.11/site-packages/fpdf/ttfonts.py:670: UserWarning: cmap value too big/small: -47449\n",
      "  warnings.warn(\"cmap value too big/small: %s\" % cm)\n",
      "/opt/homebrew/lib/python3.11/site-packages/fpdf/ttfonts.py:670: UserWarning: cmap value too big/small: -48105\n",
      "  warnings.warn(\"cmap value too big/small: %s\" % cm)\n",
      "/opt/homebrew/lib/python3.11/site-packages/fpdf/ttfonts.py:670: UserWarning: cmap value too big/small: -48111\n",
      "  warnings.warn(\"cmap value too big/small: %s\" % cm)\n",
      "/opt/homebrew/lib/python3.11/site-packages/fpdf/ttfonts.py:670: UserWarning: cmap value too big/small: -49642\n",
      "  warnings.warn(\"cmap value too big/small: %s\" % cm)\n",
      "/opt/homebrew/lib/python3.11/site-packages/fpdf/ttfonts.py:670: UserWarning: cmap value too big/small: -50582\n",
      "  warnings.warn(\"cmap value too big/small: %s\" % cm)\n",
      "/opt/homebrew/lib/python3.11/site-packages/fpdf/ttfonts.py:670: UserWarning: cmap value too big/small: -50641\n",
      "  warnings.warn(\"cmap value too big/small: %s\" % cm)\n",
      "/opt/homebrew/lib/python3.11/site-packages/fpdf/ttfonts.py:670: UserWarning: cmap value too big/small: -51011\n",
      "  warnings.warn(\"cmap value too big/small: %s\" % cm)\n",
      "/opt/homebrew/lib/python3.11/site-packages/fpdf/ttfonts.py:670: UserWarning: cmap value too big/small: -51038\n",
      "  warnings.warn(\"cmap value too big/small: %s\" % cm)\n",
      "/opt/homebrew/lib/python3.11/site-packages/fpdf/ttfonts.py:670: UserWarning: cmap value too big/small: -51597\n",
      "  warnings.warn(\"cmap value too big/small: %s\" % cm)\n",
      "/opt/homebrew/lib/python3.11/site-packages/fpdf/ttfonts.py:670: UserWarning: cmap value too big/small: -52331\n",
      "  warnings.warn(\"cmap value too big/small: %s\" % cm)\n",
      "/opt/homebrew/lib/python3.11/site-packages/fpdf/ttfonts.py:670: UserWarning: cmap value too big/small: -54871\n",
      "  warnings.warn(\"cmap value too big/small: %s\" % cm)\n",
      "/opt/homebrew/lib/python3.11/site-packages/fpdf/ttfonts.py:670: UserWarning: cmap value too big/small: -54929\n",
      "  warnings.warn(\"cmap value too big/small: %s\" % cm)\n",
      "/opt/homebrew/lib/python3.11/site-packages/fpdf/ttfonts.py:670: UserWarning: cmap value too big/small: -55092\n",
      "  warnings.warn(\"cmap value too big/small: %s\" % cm)\n"
     ]
    },
    {
     "data": {
      "text/plain": [
       "''"
      ]
     },
     "execution_count": 16,
     "metadata": {},
     "output_type": "execute_result"
    }
   ],
   "source": [
    "pdf = FPDF()\n",
    "pdf.add_page()\n",
    "\n",
    "pdf.add_font(\"NanumGothic\", \"\", \"./NanumGothic.ttf\", uni=True)\n",
    "pdf.set_font(\"NanumGothic\", size=12)\n",
    "\n",
    "data = [\n",
    "    [\"이름\", \"나이\", \"직업\"],\n",
    "    [\"김철수\", \"25\", \"개발자\"],\n",
    "    [\"이영희\", \"30\", \"디자이너\"],\n",
    "    [\"박지훈\", \"28\", \"기획자\"],\n",
    "]\n",
    "\n",
    "for row in data:\n",
    "    for col in row:\n",
    "        pdf.cell(40, 10, col, border=1)\n",
    "    pdf.ln()\n",
    "\n",
    "pdf.output(\"./data/table.pdf\")"
   ]
  },
  {
   "cell_type": "markdown",
   "metadata": {},
   "source": [
    "## 6.이미지 추가하기"
   ]
  },
  {
   "cell_type": "code",
   "execution_count": 18,
   "metadata": {},
   "outputs": [
    {
     "data": {
      "text/plain": [
       "''"
      ]
     },
     "execution_count": 18,
     "metadata": {},
     "output_type": "execute_result"
    }
   ],
   "source": [
    "pdf = FPDF()\n",
    "pdf.add_page()\n",
    "\n",
    "pdf.image(\"./data/sample.jpg\", x=10, y=20, w=100)\n",
    "\n",
    "pdf.output(\"./data/image.pdf\")"
   ]
  },
  {
   "cell_type": "markdown",
   "metadata": {},
   "source": [
    "## 7. 페이지에 헤더와 푸터 추가하기"
   ]
  },
  {
   "cell_type": "code",
   "execution_count": 20,
   "metadata": {},
   "outputs": [
    {
     "data": {
      "text/plain": [
       "''"
      ]
     },
     "execution_count": 20,
     "metadata": {},
     "output_type": "execute_result"
    }
   ],
   "source": [
    "class CustomPDF(FPDF):\n",
    "    def header(self):\n",
    "        self.set_font(\"Arial\", style=\"B\", size=12)\n",
    "        self.cell(0, 10, \"PDF Header\", ln=True, align=\"C\")\n",
    "\n",
    "    def footer(self):\n",
    "        self.set_y(-15)\n",
    "        self.set_font(\"Arial\", size=10)\n",
    "        self.cell(0, 10, f\"Page {self.page_no()}\", align=\"C\")\n",
    "\n",
    "\n",
    "pdf = CustomPDF()\n",
    "pdf.add_page()\n",
    "pdf.output(\"./data/header_footer.pdf\")"
   ]
  },
  {
   "cell_type": "markdown",
   "metadata": {},
   "source": [
    "## 8. 여러 개의 컬럼 레이아웃"
   ]
  },
  {
   "cell_type": "code",
   "execution_count": 22,
   "metadata": {},
   "outputs": [
    {
     "data": {
      "text/plain": [
       "''"
      ]
     },
     "execution_count": 22,
     "metadata": {},
     "output_type": "execute_result"
    }
   ],
   "source": [
    "pdf = FPDF()\n",
    "pdf.add_page()\n",
    "pdf.set_font(\"Arial\", size=12)\n",
    "\n",
    "pdf.set_x(10)\n",
    "pdf.cell(60, 10, \"Left Column\", border=1)\n",
    "pdf.set_x(80)\n",
    "pdf.cell(60, 10, \"Right Column\", border=1)\n",
    "\n",
    "pdf.output(\"./data/columns.pdf\")"
   ]
  },
  {
   "cell_type": "markdown",
   "metadata": {},
   "source": [
    "## 9. 배경 색이 있는 셀"
   ]
  },
  {
   "cell_type": "code",
   "execution_count": 27,
   "metadata": {},
   "outputs": [
    {
     "data": {
      "text/plain": [
       "''"
      ]
     },
     "execution_count": 27,
     "metadata": {},
     "output_type": "execute_result"
    }
   ],
   "source": [
    "from fpdf import FPDF\n",
    "import os\n",
    "\n",
    "# 저장할 디렉토리가 없다면 생성\n",
    "os.makedirs(\"./data\", exist_ok=True)\n",
    "\n",
    "pdf = FPDF()\n",
    "pdf.add_page()\n",
    "\n",
    "pdf.add_font(\"NanumGothic\", \"\", \"./NanumGothic.ttf\", uni=True)\n",
    "pdf.set_font(\"NanumGothic\", size=12)\n",
    "\n",
    "\n",
    "# 배경 색상 설정 (RGB)\n",
    "pdf.set_fill_color(200, 220, 255)\n",
    "\n",
    "# fill=True -> fill=1 로 수정\n",
    "pdf.cell(60, 10, \"Colored Cell\", border=1, fill=1)\n",
    "\n",
    "# PDF 저장\n",
    "pdf.output(\"./data/colored_cell.pdf\")\n"
   ]
  },
  {
   "cell_type": "markdown",
   "metadata": {},
   "source": [
    "## 10. PDF 문서에 링크 추가하기"
   ]
  },
  {
   "cell_type": "code",
   "execution_count": 29,
   "metadata": {},
   "outputs": [
    {
     "data": {
      "text/plain": [
       "''"
      ]
     },
     "execution_count": 29,
     "metadata": {},
     "output_type": "execute_result"
    }
   ],
   "source": [
    "pdf = FPDF()\n",
    "pdf.add_page()\n",
    "pdf.set_font(\"Arial\", size=12)\n",
    "\n",
    "pdf.cell(0, 10, \"Go to Google\", ln=True, link=\"https://www.google.com\")\n",
    "\n",
    "pdf.output(\"./data/link.pdf\")\n"
   ]
  }
 ],
 "metadata": {
  "kernelspec": {
   "display_name": "Python 3",
   "language": "python",
   "name": "python3"
  },
  "language_info": {
   "codemirror_mode": {
    "name": "ipython",
    "version": 3
   },
   "file_extension": ".py",
   "mimetype": "text/x-python",
   "name": "python",
   "nbconvert_exporter": "python",
   "pygments_lexer": "ipython3",
   "version": "3.11.10"
  }
 },
 "nbformat": 4,
 "nbformat_minor": 2
}
