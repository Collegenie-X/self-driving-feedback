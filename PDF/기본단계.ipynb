{
 "cells": [
  {
   "cell_type": "markdown",
   "metadata": {},
   "source": [
    "## 1. 기본적인 PDF 생성"
   ]
  },
  {
   "cell_type": "markdown",
   "metadata": {},
   "source": [
    "## 📌 **기본 단계에서 중요한 옵션**\n",
    "\n",
    "| 옵션(함수) | 필수 여부 | 설명 및 예시 |\n",
    "|----------|-----------|-------------------------|\n",
    "| `FPDF()` | 필수 ✅ | PDF 문서를 생성 |\n",
    "| `add_page()` | 필수 ✅ | 새 페이지 추가 |\n",
    "| `add_font()` | 한글 필수 ✅ | 한글 폰트 등록 (`NanumGothic.ttf` 등) |\n",
    "| `set_font()` | 필수 ✅ | 폰트 설정 |\n",
    "| `cell()` | 필수 ✅ | 셀을 만들어 텍스트 출력 |"
   ]
  },
  {
   "cell_type": "code",
   "execution_count": 6,
   "metadata": {},
   "outputs": [
    {
     "name": "stderr",
     "output_type": "stream",
     "text": [
      "C:\\Users\\데스크\\AppData\\Local\\Temp\\ipykernel_18864\\1802551859.py:7: DeprecationWarning: \"uni\" parameter is deprecated since v2.5.1, unused and will soon be removed\n",
      "  pdf.add_font(\"NanumGothic\", \"\", \"./NanumGothic.ttf\", uni=True)\n",
      "C:\\Users\\데스크\\AppData\\Local\\Temp\\ipykernel_18864\\1802551859.py:9: DeprecationWarning: The parameter \"txt\" has been renamed to \"text\" in 2.7.6\n",
      "  pdf.cell(200, 10, txt=\"Title, PDF!\", ln=True, align=\"C\")\n",
      "C:\\Users\\데스크\\AppData\\Local\\Temp\\ipykernel_18864\\1802551859.py:9: DeprecationWarning: The parameter \"ln\" is deprecated since v2.5.2. Instead of ln=True use new_x=XPos.LMARGIN, new_y=YPos.NEXT.\n",
      "  pdf.cell(200, 10, txt=\"Title, PDF!\", ln=True, align=\"C\")\n",
      "C:\\Users\\데스크\\AppData\\Local\\Temp\\ipykernel_18864\\1802551859.py:11: DeprecationWarning: The parameter \"txt\" has been renamed to \"text\" in 2.7.6\n",
      "  pdf.cell(0, 15, txt=\"KimJongphil2, PDF!\", ln=True, align=\"L\")\n",
      "C:\\Users\\데스크\\AppData\\Local\\Temp\\ipykernel_18864\\1802551859.py:11: DeprecationWarning: The parameter \"ln\" is deprecated since v2.5.2. Instead of ln=True use new_x=XPos.LMARGIN, new_y=YPos.NEXT.\n",
      "  pdf.cell(0, 15, txt=\"KimJongphil2, PDF!\", ln=True, align=\"L\")\n",
      "TSI0 NOT subset; don't know how to subset; dropped\n",
      "TSI1 NOT subset; don't know how to subset; dropped\n",
      "TSI2 NOT subset; don't know how to subset; dropped\n",
      "TSI3 NOT subset; don't know how to subset; dropped\n",
      "TSI5 NOT subset; don't know how to subset; dropped\n"
     ]
    }
   ],
   "source": [
    "from fpdf import FPDF\n",
    "\n",
    "pdf = FPDF()\n",
    "pdf.add_page()\n",
    "# pdf.set_font(\"Arial\", size=12)\n",
    "# 폰트 추가 (NanumGothic 예시)\n",
    "pdf.add_font(\"NanumGothic\", \"\", \"./NanumGothic.ttf\", uni=True)\n",
    "pdf.set_font(\"NanumGothic\", size=20)\n",
    "pdf.cell(200, 10, txt=\"Title, PDF!\", ln=True, align=\"C\")\n",
    "pdf.set_font(\"NanumGothic\", size=14)\n",
    "pdf.cell(0, 15, txt=\"KimJongphil2, PDF!\", ln=True, align=\"L\")\n",
    "pdf.output(\"./data/basic.pdf\")"
   ]
  },
  {
   "cell_type": "code",
   "execution_count": 7,
   "metadata": {},
   "outputs": [
    {
     "name": "stderr",
     "output_type": "stream",
     "text": [
      "C:\\Users\\데스크\\AppData\\Local\\Temp\\ipykernel_18864\\1427988194.py:8: DeprecationWarning: \"uni\" parameter is deprecated since v2.5.1, unused and will soon be removed\n",
      "  pdf.add_font(\"NanumGothic\", \"\", \"./NanumGothic.ttf\", uni=True)\n",
      "C:\\Users\\데스크\\AppData\\Local\\Temp\\ipykernel_18864\\1427988194.py:14: DeprecationWarning: The parameter \"ln\" is deprecated since v2.5.2. Instead of ln=True use new_x=XPos.LMARGIN, new_y=YPos.NEXT.\n",
      "  pdf.cell(0, 10, \"안녕하세요. PDF 생성 기본 예시입니다.\", ln=True, align=\"C\")\n",
      "TSI0 NOT subset; don't know how to subset; dropped\n",
      "TSI1 NOT subset; don't know how to subset; dropped\n",
      "TSI2 NOT subset; don't know how to subset; dropped\n",
      "TSI3 NOT subset; don't know how to subset; dropped\n",
      "TSI5 NOT subset; don't know how to subset; dropped\n"
     ]
    }
   ],
   "source": [
    "# 1. PDF 객체 생성\n",
    "pdf = FPDF()\n",
    "\n",
    "# 2. 페이지 추가\n",
    "pdf.add_page()\n",
    "\n",
    "# 3. 한글 폰트 추가\n",
    "pdf.add_font(\"NanumGothic\", \"\", \"./NanumGothic.ttf\", uni=True)\n",
    "\n",
    "# 4. 폰트 설정\n",
    "pdf.set_font(\"NanumGothic\", size=14)\n",
    "\n",
    "# 5. 한 줄 텍스트 추가 (cell)\n",
    "pdf.cell(0, 10, \"안녕하세요. PDF 생성 기본 예시입니다.\", ln=True, align=\"C\")\n",
    "\n",
    "# 6. PDF 저장\n",
    "pdf.output(\"data/basic_example.pdf\")"
   ]
  },
  {
   "cell_type": "markdown",
   "metadata": {},
   "source": [
    "## 3. 다양한 글꼴 스타일 설정"
   ]
  },
  {
   "cell_type": "code",
   "execution_count": 9,
   "metadata": {},
   "outputs": [
    {
     "name": "stderr",
     "output_type": "stream",
     "text": [
      "C:\\Users\\데스크\\AppData\\Local\\Temp\\ipykernel_18864\\2284230308.py:4: DeprecationWarning: Substituting font arial by core font helvetica - This is deprecated since v2.7.8, and will soon be removed\n",
      "  pdf.set_font(\"Arial\", style=\"B\", size=16)\n",
      "C:\\Users\\데스크\\AppData\\Local\\Temp\\ipykernel_18864\\2284230308.py:5: DeprecationWarning: The parameter \"ln\" is deprecated since v2.5.2. Instead of ln=True use new_x=XPos.LMARGIN, new_y=YPos.NEXT.\n",
      "  pdf.cell(200, 10, \"Bold Text\", ln=True)\n",
      "C:\\Users\\데스크\\AppData\\Local\\Temp\\ipykernel_18864\\2284230308.py:7: DeprecationWarning: Substituting font arial by core font helvetica - This is deprecated since v2.7.8, and will soon be removed\n",
      "  pdf.set_font(\"Arial\", style=\"I\", size=16)\n",
      "C:\\Users\\데스크\\AppData\\Local\\Temp\\ipykernel_18864\\2284230308.py:8: DeprecationWarning: The parameter \"ln\" is deprecated since v2.5.2. Instead of ln=True use new_x=XPos.LMARGIN, new_y=YPos.NEXT.\n",
      "  pdf.cell(200, 10, \"Italic Text\", ln=True)\n",
      "C:\\Users\\데스크\\AppData\\Local\\Temp\\ipykernel_18864\\2284230308.py:10: DeprecationWarning: Substituting font arial by core font helvetica - This is deprecated since v2.7.8, and will soon be removed\n",
      "  pdf.set_font(\"Arial\", style=\"BI\", size=16)\n",
      "C:\\Users\\데스크\\AppData\\Local\\Temp\\ipykernel_18864\\2284230308.py:11: DeprecationWarning: The parameter \"ln\" is deprecated since v2.5.2. Instead of ln=True use new_x=XPos.LMARGIN, new_y=YPos.NEXT.\n",
      "  pdf.cell(200, 10, \"Bold & Italic Text\", ln=True)\n"
     ]
    }
   ],
   "source": [
    "pdf = FPDF()\n",
    "pdf.add_page()\n",
    "\n",
    "pdf.set_font(\"Arial\", style=\"B\", size=16)\n",
    "pdf.cell(200, 10, \"Bold Text\", ln=True)\n",
    "\n",
    "pdf.set_font(\"Arial\", style=\"I\", size=16)\n",
    "pdf.cell(200, 10, \"Italic Text\", ln=True)\n",
    "\n",
    "pdf.set_font(\"Arial\", style=\"BI\", size=16)\n",
    "pdf.cell(200, 10, \"Bold & Italic Text\", ln=True)\n",
    "\n",
    "pdf.output(\"./data/font_styles.pdf\")"
   ]
  },
  {
   "cell_type": "markdown",
   "metadata": {},
   "source": [
    "## 4. PDF에서 줄 그리기"
   ]
  },
  {
   "cell_type": "code",
   "execution_count": 10,
   "metadata": {},
   "outputs": [],
   "source": [
    "pdf = FPDF()\n",
    "pdf.add_page()\n",
    "pdf.set_draw_color(52, 152, 219)  # 파란색\n",
    "pdf.line(10, 20, 200, 20)  # (x1, y1, x2, y2)\n",
    "pdf.output(\"./data/line.pdf\")"
   ]
  },
  {
   "cell_type": "markdown",
   "metadata": {},
   "source": [
    "## 5. 표 생성 (셀 기반)\n",
    "\n",
    "| 옵션 | 기능 | 예시 코드 |\n",
    "|------|-----|---------|\n",
    "| `border` | 셀 테두리 표시 여부<br> (`0`:없음, `1`:전체 테두리, `'LRTB'`: 개별 지정 가능) | `pdf.cell(50, 10, \"텍스트\", border=1)` |\n",
    "| `fill` | 셀 배경 색상 채우기 여부 | `pdf.cell(50, 10, \"텍스트\", fill=True)` |\n",
    "| `set_fill_color(r,g,b)` | 셀 배경색 RGB 설정 | `pdf.set_fill_color(200,220,255)` |\n",
    "| `align` | 셀 내부 텍스트 정렬<br>(`L`: 왼쪽, `C`: 중앙, `R`: 오른쪽) | `pdf.cell(50,10,\"텍스트\",align='C')` |\n",
    "| `ln()` | 다음 줄로 이동 | `pdf.ln()` |\n",
    "\n",
    "---"
   ]
  },
  {
   "cell_type": "code",
   "execution_count": 19,
   "metadata": {},
   "outputs": [
    {
     "name": "stderr",
     "output_type": "stream",
     "text": [
      "C:\\Users\\데스크\\AppData\\Local\\Temp\\ipykernel_18864\\644234056.py:4: DeprecationWarning: \"uni\" parameter is deprecated since v2.5.1, unused and will soon be removed\n",
      "  pdf.add_font(\"NanumGothic\", \"\", \"./NanumGothic.ttf\", uni=True)\n",
      "TSI0 NOT subset; don't know how to subset; dropped\n",
      "TSI1 NOT subset; don't know how to subset; dropped\n",
      "TSI2 NOT subset; don't know how to subset; dropped\n",
      "TSI3 NOT subset; don't know how to subset; dropped\n",
      "TSI5 NOT subset; don't know how to subset; dropped\n"
     ]
    }
   ],
   "source": [
    "pdf = FPDF()\n",
    "pdf.add_page()\n",
    "\n",
    "pdf.add_font(\"NanumGothic\", \"\", \"./NanumGothic.ttf\", uni=True)\n",
    "pdf.set_font(\"NanumGothic\", size=12)\n",
    "\n",
    "data = [\n",
    "    [\"이름\", \"나이\", \"직업\"],  ### 0\n",
    "    [\"김철수\", \"25\", \"개발자\"],  ### 1\n",
    "    [\"이영희\", \"30\", \"디자이너\"],  ### 2\n",
    "    [\"박지훈\", \"28\", \"기획자\"],  ### 3\n",
    "]\n",
    "\n",
    "pdf.set_left_margin(30)  # 좌측 여백 설정\n",
    "for row in data:\n",
    "    for col in row:\n",
    "        pdf.cell(40, 10, col, border=1, align=\"C\")  ## 이름, 나이, 직업,\n",
    "    pdf.ln()\n",
    "\n",
    "pdf.output(\"./data/table.pdf\")"
   ]
  },
  {
   "cell_type": "markdown",
   "metadata": {},
   "source": [
    "### 🚩 **주요 옵션 설명 (기본)**\n",
    "\n",
    "- **`cell(w, h, txt, ln, align)` 옵션**  \n",
    "  - `w`: 셀 너비 (`0`은 페이지 너비 자동)\n",
    "  - `h`: 셀 높이\n",
    "  - `txt`: 출력할 텍스트\n",
    "  - `ln`: 줄바꿈 여부 (`ln=True`는 다음 줄로 이동)\n",
    "  - `align`: 정렬 방식 (`'L'`: 왼쪽, `'C'`: 중앙, `'R'`: 오른쪽)\n",
    "\n",
    "---\n",
    "\n",
    "# 🚦 **중급 단계** : 표 생성과 이미지 추가\n",
    "\n",
    "## 📌 **중급 단계에서 중요한 옵션**\n",
    "\n",
    "| 옵션(함수) | 중요도 | 설명 및 예시 |\n",
    "|----------|------|-------------------------|\n",
    "| `cell()` | ✅ 필수 | 표를 만드는데 핵심 함수 |\n",
    "| `multi_cell()` | 🔸 선택 | 긴 텍스트를 여러 줄로 자동 줄바꿈 |\n",
    "| `set_fill_color()` | 🔸 선택 | 셀 배경색 설정 |\n",
    "| `set_draw_color()` | 🔸 선택 | 셀 테두리 색 설정 |\n",
    "| `image()` | ✅ 필수 | PDF에 이미지 추가 |\n",
    "\n",
    "---"
   ]
  },
  {
   "cell_type": "code",
   "execution_count": 25,
   "metadata": {},
   "outputs": [
    {
     "name": "stderr",
     "output_type": "stream",
     "text": [
      "C:\\Users\\데스크\\AppData\\Local\\Temp\\ipykernel_18864\\261650988.py:6: DeprecationWarning: \"uni\" parameter is deprecated since v2.5.1, unused and will soon be removed\n",
      "  pdf.add_font(\"NanumGothic\", \"\", \"./NanumGothic.ttf\", uni=True)\n",
      "TSI0 NOT subset; don't know how to subset; dropped\n",
      "TSI1 NOT subset; don't know how to subset; dropped\n",
      "TSI2 NOT subset; don't know how to subset; dropped\n",
      "TSI3 NOT subset; don't know how to subset; dropped\n",
      "TSI5 NOT subset; don't know how to subset; dropped\n"
     ]
    }
   ],
   "source": [
    "from fpdf import FPDF\n",
    "\n",
    "pdf = FPDF()\n",
    "pdf.add_page()\n",
    "\n",
    "pdf.add_font(\"NanumGothic\", \"\", \"./NanumGothic.ttf\", uni=True)\n",
    "pdf.set_font(\"NanumGothic\", size=12)\n",
    "\n",
    "# 표 데이터 정의\n",
    "data = [\n",
    "    [\"이름\", \"나이\", \"직업\"],\n",
    "    [\"김철수\", \"28\", \"소프트웨어 개발자\"],\n",
    "    [\"이영희\", \"32\", \"디자이너\"],\n",
    "    [\"박민준\", \"26\", \"기획자\"],\n",
    "]\n",
    "\n",
    "# 헤더 셀 (배경색 지정)\n",
    "pdf.set_left_margin(50)\n",
    "pdf.set_fill_color(241, 196, 15)  ### rgb(241, 196, 15)\n",
    "for header in data[0]:\n",
    "    pdf.cell(40, 8, header, border=1, align=\"C\", fill=True)\n",
    "pdf.ln()\n",
    "\n",
    "# 본문 셀\n",
    "for row in data[1:]:\n",
    "    for item in row:\n",
    "        pdf.cell(40, 10, item, border=1, align=\"C\")\n",
    "    pdf.ln()\n",
    "\n",
    "pdf.output(\"data/table_example.pdf\")"
   ]
  },
  {
   "cell_type": "markdown",
   "metadata": {},
   "source": [
    "### 🚩 **주요 옵션 설명 (기본)**\n",
    "\n",
    "- **`cell(w, h, txt, ln, align)` 옵션**  \n",
    "  - `w`: 셀 너비 (`0`은 페이지 너비 자동)\n",
    "  - `h`: 셀 높이\n",
    "  - `txt`: 출력할 텍스트\n",
    "  - `ln`: 줄바꿈 여부 (`ln=True`는 다음 줄로 이동)\n",
    "  - `align`: 정렬 방식 (`'L'`: 왼쪽, `'C'`: 중앙, `'R'`: 오른쪽)\n",
    "\n",
    "---"
   ]
  },
  {
   "cell_type": "markdown",
   "metadata": {},
   "source": [
    "## 📌 **중급 단계에서 중요한 옵션**\n",
    "\n",
    "| 옵션(함수) | 중요도 | 설명 및 예시 |\n",
    "|----------|------|-------------------------|\n",
    "| `cell()` | ✅ 필수 | 표를 만드는데 핵심 함수 |\n",
    "| `multi_cell()` | 🔸 선택 | 긴 텍스트를 여러 줄로 자동 줄바꿈 |\n",
    "| `set_fill_color()` | 🔸 선택 | 셀 배경색 설정 |\n",
    "| `set_draw_color()` | 🔸 선택 | 셀 테두리 색 설정 |\n",
    "| `image()` | ✅ 필수 | PDF에 이미지 추가 |\n",
    "\n",
    "---"
   ]
  },
  {
   "cell_type": "code",
   "execution_count": null,
   "metadata": {},
   "outputs": [
    {
     "name": "stderr",
     "output_type": "stream",
     "text": [
      "/var/folders/h8/dk4pn1l11_5f5z7pscs8gr0r0000gn/T/ipykernel_10422/3319392319.py:6: DeprecationWarning: \"uni\" parameter is deprecated since v2.5.1, unused and will soon be removed\n",
      "  pdf.add_font(\"NanumGothic\", \"\", \"./NanumGothic.ttf\", uni=True)\n",
      "TSI0 NOT subset; don't know how to subset; dropped\n",
      "TSI1 NOT subset; don't know how to subset; dropped\n",
      "TSI2 NOT subset; don't know how to subset; dropped\n",
      "TSI3 NOT subset; don't know how to subset; dropped\n",
      "TSI5 NOT subset; don't know how to subset; dropped\n"
     ]
    }
   ],
   "source": [
    "from fpdf import FPDF\n",
    "\n",
    "pdf = FPDF()\n",
    "pdf.add_page()\n",
    "\n",
    "pdf.add_font(\"NanumGothic\", \"\", \"./NanumGothic.ttf\", uni=True)\n",
    "pdf.set_font(\"NanumGothic\", size=12)\n",
    "\n",
    "# 표 데이터 정의\n",
    "data = [\n",
    "    [\"이름\", \"나이\", \"직업\"],\n",
    "    [\"김철수\", \"28\", \"소프트웨어 개발자\"],\n",
    "    [\"이영희\", \"32\", \"디자이너\"],\n",
    "    [\"박민준\", \"26\", \"기획자\"],\n",
    "]\n",
    "\n",
    "# 헤더 셀 (배경색 지정)\n",
    "pdf.set_fill_color(200, 220, 255)\n",
    "for header in data[0]:\n",
    "    pdf.cell(50, 10, header, border=1, align=\"C\", fill=True)\n",
    "pdf.ln()\n",
    "\n",
    "# 본문 셀\n",
    "for row in data[1:]:\n",
    "    for item in row:\n",
    "        pdf.cell(50, 10, item, border=1, align=\"C\")\n",
    "    pdf.ln()\n",
    "\n",
    "pdf.output(\"data/table_example.pdf\")"
   ]
  },
  {
   "cell_type": "markdown",
   "metadata": {},
   "source": [
    "| 옵션 | 기능 | 예시 코드 |\n",
    "|------|-----|---------|\n",
    "| `border` | 셀 테두리 표시 여부<br> (`0`:없음, `1`:전체 테두리, `'LRTB'`: 개별 지정 가능) | `pdf.cell(50, 10, \"텍스트\", border=1)` |\n",
    "| `fill` | 셀 배경 색상 채우기 여부 | `pdf.cell(50, 10, \"텍스트\", fill=True)` |\n",
    "| `set_fill_color(r,g,b)` | 셀 배경색 RGB 설정 | `pdf.set_fill_color(200,220,255)` |\n",
    "| `align` | 셀 내부 텍스트 정렬<br>(`L`: 왼쪽, `C`: 중앙, `R`: 오른쪽) | `pdf.cell(50,10,\"텍스트\",align='C')` |\n",
    "| `ln()` | 다음 줄로 이동 | `pdf.ln()` |\n",
    "\n",
    "---"
   ]
  },
  {
   "cell_type": "markdown",
   "metadata": {},
   "source": [
    "## 6.이미지 추가하기"
   ]
  },
  {
   "cell_type": "markdown",
   "metadata": {},
   "source": [
    "| 옵션 | 기능 | 예시 |\n",
    "|------|-----|---------|\n",
    "| `name` | 이미지 파일 경로 | `\"./data/sample.jpg\"` |\n",
    "| `x, y` | 이미지의 좌표 위치 | `(50, 30)` |\n",
    "| `w, h` | 이미지의 너비(w), 높이(h)<br>한 가지만 지정하면 원본 비율 유지 | `w=100` |\n",
    "| `type` | 이미지 포맷 명시적 지정 (생략 가능) | `\"JPG\", \"PNG\"` 등 |\n",
    "\n",
    "**✅ 실전 팁**  \n",
    "- 이미지 비율을 유지하려면 `w` 또는 `h` 하나만 설정하는 것이 좋습니다.  \n",
    "  (`w`만 지정하면 자동 비율로 높이 계산됨)"
   ]
  },
  {
   "cell_type": "code",
   "execution_count": 12,
   "metadata": {},
   "outputs": [],
   "source": [
    "pdf = FPDF()\n",
    "pdf.add_page()\n",
    "\n",
    "pdf.image(\"./data/sample.jpg\", x=10, y=20, w=100)\n",
    "\n",
    "pdf.output(\"./data/image.pdf\")"
   ]
  },
  {
   "cell_type": "code",
   "execution_count": 26,
   "metadata": {},
   "outputs": [
    {
     "name": "stderr",
     "output_type": "stream",
     "text": [
      "C:\\Users\\데스크\\AppData\\Local\\Temp\\ipykernel_18864\\2837869651.py:6: DeprecationWarning: \"uni\" parameter is deprecated since v2.5.1, unused and will soon be removed\n",
      "  pdf.add_font(\"NanumGothic\", \"\", \"./NanumGothic.ttf\", uni=True)\n",
      "C:\\Users\\데스크\\AppData\\Local\\Temp\\ipykernel_18864\\2837869651.py:10: DeprecationWarning: The parameter \"ln\" is deprecated since v2.5.2. Instead of ln=True use new_x=XPos.LMARGIN, new_y=YPos.NEXT.\n",
      "  pdf.cell(0, 10, \"직원 프로필\", ln=True, align=\"C\")\n",
      "TSI0 NOT subset; don't know how to subset; dropped\n",
      "TSI1 NOT subset; don't know how to subset; dropped\n",
      "TSI2 NOT subset; don't know how to subset; dropped\n",
      "TSI3 NOT subset; don't know how to subset; dropped\n",
      "TSI5 NOT subset; don't know how to subset; dropped\n"
     ]
    }
   ],
   "source": [
    "from fpdf import FPDF\n",
    "\n",
    "pdf = FPDF()\n",
    "pdf.add_page()\n",
    "\n",
    "pdf.add_font(\"NanumGothic\", \"\", \"./NanumGothic.ttf\", uni=True)\n",
    "pdf.set_font(\"NanumGothic\", size=14)\n",
    "\n",
    "# 제목 추가\n",
    "pdf.cell(0, 10, \"직원 프로필\", ln=True, align=\"C\")\n",
    "pdf.ln(5)\n",
    "\n",
    "# 프로필 표\n",
    "pdf.set_fill_color(235, 235, 235)\n",
    "data = [\n",
    "    [\"이름\", \"부서\", \"직책\"],\n",
    "    [\"김민수\", \"AI팀\", \"팀장\"],\n",
    "    [\"최지연\", \"개발팀\", \"시니어 개발자\"],\n",
    "]\n",
    "\n",
    "for i, row in enumerate(data):\n",
    "    for item in row:\n",
    "        pdf.cell(60, 10, item, border=1, align=\"C\", fill=(i == 0))\n",
    "    pdf.ln()\n",
    "\n",
    "pdf.ln(10)\n",
    "\n",
    "# 직원 이미지 추가\n",
    "pdf.image(\"./images/profile.png\", x=70, w=70)\n",
    "\n",
    "pdf.output(\"./data/table_image_example.pdf\")"
   ]
  },
  {
   "cell_type": "markdown",
   "metadata": {},
   "source": [
    "\n",
    "---\n",
    "\n",
    "## 1. FPDF에서의 단위\n",
    "\n",
    "| 구분                  | 설명                                                                                                      |\n",
    "|-----------------------|-----------------------------------------------------------------------------------------------------------|\n",
    "| 기본 단위             | FPDF는 기본적으로 **mm(밀리미터)** 단위를 사용합니다.                                                   |\n",
    "| 픽셀(Pixel)로 변경    | FPDF 객체 생성 시 `FPDF(unit=\"pt\")` 혹은 `FPDF(unit=\"in\")` 등으로 단위를 변경할 수 있습니다.             |\n",
    "| 셀(cell), 이미지(image) | `pdf.cell(w, h, ...)`에서 `w`, `h`는 FPDF가 사용하는 기본 단위(mm)로 설정된 수치입니다. <br> `pdf.image(..., x, y, w, h)` 역시 마찬가지로 기본 단위(mm)로 적용됩니다. |\n",
    "\n",
    "- `FPDF()` 생성 시 아무 옵션도 주지 않으면 세로(A4, Portrait), mm 단위, A4 용지를 기본값으로 사용합니다.\n",
    "- 만약 “픽셀” 단위로 작업하려면, `FPDF(unit=\"pt\")` 등을 사용하고, 실제 픽셀 환산비율을 고려해서 구현해야 합니다(보통 1pt = 1/72 inch).\n",
    "\n",
    "---\n"
   ]
  },
  {
   "cell_type": "markdown",
   "metadata": {},
   "source": [
    "\n",
    "## 2. 표 셀 안에 이미지 삽입하기\n",
    "FPDF 자체에는 “한 셀 내부에 이미지+텍스트를 자동으로 배치”하는 기능이 따로 없습니다. 대신, 다음과 같은 방식으로 구현합니다.\n",
    "\n",
    "1. **빈 셀을 만든 뒤**, 그 영역 내에 `pdf.image()` 함수를 이용하여 이미지를 수동 배치하는 방법\n",
    "2. 텍스트와 이미지를 같이 출력하고 싶다면, 수동으로 X/Y 좌표를 계산해서 배치하거나, 적당한 크기의 셀을 만든 다음, 그 내부에 이미지가 들어갈 수 있도록 조정하는 방식을 사용\n",
    "\n",
    "일반적으로는 아래와 같은 코드를 자주 사용합니다:\n",
    "1. 셀 생성: `pdf.cell(셀너비, 셀높이, \"\", border=1, ln=0)` 로 “빈” 셀을 만듦\n",
    "2. 직후에 `pdf.image()`로 해당 셀 내부에 들어갈 이미지 좌표(x, y)를 계산하여 배치\n"
   ]
  },
  {
   "cell_type": "code",
   "execution_count": null,
   "metadata": {},
   "outputs": [
    {
     "ename": "FileNotFoundError",
     "evalue": "[Errno 2] No such file or directory: 'profile.png'",
     "output_type": "error",
     "traceback": [
      "\u001b[31m---------------------------------------------------------------------------\u001b[39m",
      "\u001b[31mFileNotFoundError\u001b[39m                         Traceback (most recent call last)",
      "\u001b[36mCell\u001b[39m\u001b[36m \u001b[39m\u001b[32mIn[32]\u001b[39m\u001b[32m, line 6\u001b[39m\n\u001b[32m      4\u001b[39m current_y = pdf.get_y()  \u001b[38;5;66;03m# 현재 커서 y 좌표\u001b[39;00m\n\u001b[32m      5\u001b[39m \u001b[38;5;66;03m# 이미지를 셀 내부(왼쪽 상단 기준 몇 mm 정도 내부)에 삽입\u001b[39;00m\n\u001b[32m----> \u001b[39m\u001b[32m6\u001b[39m \u001b[43mpdf\u001b[49m\u001b[43m.\u001b[49m\u001b[43mimage\u001b[49m\u001b[43m(\u001b[49m\u001b[33;43m\"\u001b[39;49m\u001b[33;43mprofile.png\u001b[39;49m\u001b[33;43m\"\u001b[39;49m\u001b[43m,\u001b[49m\u001b[43m \u001b[49m\u001b[43mx\u001b[49m\u001b[43m=\u001b[49m\u001b[43mcurrent_x\u001b[49m\u001b[43m \u001b[49m\u001b[43m-\u001b[49m\u001b[43m \u001b[49m\u001b[32;43m40\u001b[39;49m\u001b[43m \u001b[49m\u001b[43m+\u001b[49m\u001b[43m \u001b[49m\u001b[32;43m2\u001b[39;49m\u001b[43m,\u001b[49m\u001b[43m \u001b[49m\u001b[43my\u001b[49m\u001b[43m=\u001b[49m\u001b[43mcurrent_y\u001b[49m\u001b[43m \u001b[49m\u001b[43m+\u001b[49m\u001b[43m \u001b[49m\u001b[32;43m2\u001b[39;49m\u001b[43m,\u001b[49m\u001b[43m \u001b[49m\u001b[43mw\u001b[49m\u001b[43m=\u001b[49m\u001b[32;43m16\u001b[39;49m\u001b[43m,\u001b[49m\u001b[43m \u001b[49m\u001b[43mh\u001b[49m\u001b[43m=\u001b[49m\u001b[32;43m16\u001b[39;49m\u001b[43m)\u001b[49m\n",
      "\u001b[36mFile \u001b[39m\u001b[32mc:\\Users\\데스크\\Documents\\GitHub\\self-driving-feedback\\venv\\Lib\\site-packages\\fpdf\\fpdf.py:215\u001b[39m, in \u001b[36mcheck_page.<locals>.wrapper\u001b[39m\u001b[34m(self, *args, **kwargs)\u001b[39m\n\u001b[32m    213\u001b[39m \u001b[38;5;28;01mif\u001b[39;00m \u001b[38;5;129;01mnot\u001b[39;00m \u001b[38;5;28mself\u001b[39m.page \u001b[38;5;129;01mand\u001b[39;00m \u001b[38;5;129;01mnot\u001b[39;00m (kwargs.get(\u001b[33m\"\u001b[39m\u001b[33mdry_run\u001b[39m\u001b[33m\"\u001b[39m) \u001b[38;5;129;01mor\u001b[39;00m kwargs.get(\u001b[33m\"\u001b[39m\u001b[33msplit_only\u001b[39m\u001b[33m\"\u001b[39m)):\n\u001b[32m    214\u001b[39m     \u001b[38;5;28;01mraise\u001b[39;00m FPDFException(\u001b[33m\"\u001b[39m\u001b[33mNo page open, you need to call add_page() first\u001b[39m\u001b[33m\"\u001b[39m)\n\u001b[32m--> \u001b[39m\u001b[32m215\u001b[39m \u001b[38;5;28;01mreturn\u001b[39;00m \u001b[43mfn\u001b[49m\u001b[43m(\u001b[49m\u001b[38;5;28;43mself\u001b[39;49m\u001b[43m,\u001b[49m\u001b[43m \u001b[49m\u001b[43m*\u001b[49m\u001b[43margs\u001b[49m\u001b[43m,\u001b[49m\u001b[43m \u001b[49m\u001b[43m*\u001b[49m\u001b[43m*\u001b[49m\u001b[43mkwargs\u001b[49m\u001b[43m)\u001b[49m\n",
      "\u001b[36mFile \u001b[39m\u001b[32mc:\\Users\\데스크\\Documents\\GitHub\\self-driving-feedback\\venv\\Lib\\site-packages\\fpdf\\fpdf.py:4326\u001b[39m, in \u001b[36mFPDF.image\u001b[39m\u001b[34m(self, name, x, y, w, h, type, link, title, alt_text, dims, keep_aspect_ratio)\u001b[39m\n\u001b[32m   4316\u001b[39m \u001b[38;5;28;01mif\u001b[39;00m \u001b[38;5;28mtype\u001b[39m:\n\u001b[32m   4317\u001b[39m     warnings.warn(\n\u001b[32m   4318\u001b[39m         (\n\u001b[32m   4319\u001b[39m             \u001b[33m'\u001b[39m\u001b[33m\"\u001b[39m\u001b[33mtype\u001b[39m\u001b[33m\"\u001b[39m\u001b[33m parameter is deprecated since v2.2.0, \u001b[39m\u001b[33m'\u001b[39m\n\u001b[32m   (...)\u001b[39m\u001b[32m   4323\u001b[39m         stacklevel=get_stack_level(),\n\u001b[32m   4324\u001b[39m     )\n\u001b[32m-> \u001b[39m\u001b[32m4326\u001b[39m name, img, info = \u001b[43mpreload_image\u001b[49m\u001b[43m(\u001b[49m\u001b[38;5;28;43mself\u001b[39;49m\u001b[43m.\u001b[49m\u001b[43mimage_cache\u001b[49m\u001b[43m,\u001b[49m\u001b[43m \u001b[49m\u001b[43mname\u001b[49m\u001b[43m,\u001b[49m\u001b[43m \u001b[49m\u001b[43mdims\u001b[49m\u001b[43m)\u001b[49m\n\u001b[32m   4327\u001b[39m \u001b[38;5;28;01mif\u001b[39;00m \u001b[38;5;28misinstance\u001b[39m(info, VectorImageInfo):\n\u001b[32m   4328\u001b[39m     \u001b[38;5;28;01mreturn\u001b[39;00m \u001b[38;5;28mself\u001b[39m._vector_image(\n\u001b[32m   4329\u001b[39m         name, img, info, x, y, w, h, link, title, alt_text, keep_aspect_ratio\n\u001b[32m   4330\u001b[39m     )\n",
      "\u001b[36mFile \u001b[39m\u001b[32mc:\\Users\\데스크\\Documents\\GitHub\\self-driving-feedback\\venv\\Lib\\site-packages\\fpdf\\image_parsing.py:125\u001b[39m, in \u001b[36mpreload_image\u001b[39m\u001b[34m(image_cache, name, dims)\u001b[39m\n\u001b[32m    123\u001b[39m     info[\u001b[33m\"\u001b[39m\u001b[33musages\u001b[39m\u001b[33m\"\u001b[39m] += \u001b[32m1\u001b[39m\n\u001b[32m    124\u001b[39m \u001b[38;5;28;01melse\u001b[39;00m:\n\u001b[32m--> \u001b[39m\u001b[32m125\u001b[39m     info = \u001b[43mget_img_info\u001b[49m\u001b[43m(\u001b[49m\u001b[43mname\u001b[49m\u001b[43m,\u001b[49m\u001b[43m \u001b[49m\u001b[43mimg\u001b[49m\u001b[43m,\u001b[49m\u001b[43m \u001b[49m\u001b[43mimage_cache\u001b[49m\u001b[43m.\u001b[49m\u001b[43mimage_filter\u001b[49m\u001b[43m,\u001b[49m\u001b[43m \u001b[49m\u001b[43mdims\u001b[49m\u001b[43m)\u001b[49m\n\u001b[32m    126\u001b[39m     info[\u001b[33m\"\u001b[39m\u001b[33mi\u001b[39m\u001b[33m\"\u001b[39m] = \u001b[38;5;28mlen\u001b[39m(image_cache.images) + \u001b[32m1\u001b[39m\n\u001b[32m    127\u001b[39m     info[\u001b[33m\"\u001b[39m\u001b[33musages\u001b[39m\u001b[33m\"\u001b[39m] = \u001b[32m1\u001b[39m\n",
      "\u001b[36mFile \u001b[39m\u001b[32mc:\\Users\\데스크\\Documents\\GitHub\\self-driving-feedback\\venv\\Lib\\site-packages\\fpdf\\image_parsing.py:232\u001b[39m, in \u001b[36mget_img_info\u001b[39m\u001b[34m(filename, img, image_filter, dims)\u001b[39m\n\u001b[32m    230\u001b[39m img_raw_data = \u001b[38;5;28;01mNone\u001b[39;00m\n\u001b[32m    231\u001b[39m \u001b[38;5;28;01mif\u001b[39;00m \u001b[38;5;129;01mnot\u001b[39;00m img \u001b[38;5;129;01mor\u001b[39;00m \u001b[38;5;28misinstance\u001b[39m(img, (Path, \u001b[38;5;28mstr\u001b[39m)):\n\u001b[32m--> \u001b[39m\u001b[32m232\u001b[39m     img_raw_data = \u001b[43mload_image\u001b[49m\u001b[43m(\u001b[49m\u001b[43mfilename\u001b[49m\u001b[43m)\u001b[49m\n\u001b[32m    233\u001b[39m     img = Image.open(img_raw_data)\n\u001b[32m    234\u001b[39m     is_pil_img = \u001b[38;5;28;01mFalse\u001b[39;00m\n",
      "\u001b[36mFile \u001b[39m\u001b[32mc:\\Users\\데스크\\Documents\\GitHub\\self-driving-feedback\\venv\\Lib\\site-packages\\fpdf\\image_parsing.py:169\u001b[39m, in \u001b[36mload_image\u001b[39m\u001b[34m(filename)\u001b[39m\n\u001b[32m    167\u001b[39m \u001b[38;5;28;01melif\u001b[39;00m filename.startswith(\u001b[33m\"\u001b[39m\u001b[33mdata:\u001b[39m\u001b[33m\"\u001b[39m):\n\u001b[32m    168\u001b[39m     \u001b[38;5;28;01mreturn\u001b[39;00m _decode_base64_image(filename)\n\u001b[32m--> \u001b[39m\u001b[32m169\u001b[39m \u001b[38;5;28;01mwith\u001b[39;00m \u001b[38;5;28;43mopen\u001b[39;49m\u001b[43m(\u001b[49m\u001b[43mfilename\u001b[49m\u001b[43m,\u001b[49m\u001b[43m \u001b[49m\u001b[33;43m\"\u001b[39;49m\u001b[33;43mrb\u001b[39;49m\u001b[33;43m\"\u001b[39;49m\u001b[43m)\u001b[49m \u001b[38;5;28;01mas\u001b[39;00m local_file:\n\u001b[32m    170\u001b[39m     \u001b[38;5;28;01mreturn\u001b[39;00m BytesIO(local_file.read())\n",
      "\u001b[31mFileNotFoundError\u001b[39m: [Errno 2] No such file or directory: 'profile.png'"
     ]
    }
   ],
   "source": [
    "# 예시:\n",
    "pdf.cell(40, 20, \"\", border=1)  # 가로 40, 세로 20 짜리 셀을 만듦.\n",
    "current_x = pdf.get_x()  # 현재 커서 x 좌표\n",
    "current_y = pdf.get_y()  # 현재 커서 y 좌표\n",
    "# 이미지를 셀 내부(왼쪽 상단 기준 몇 mm 정도 내부)에 삽입\n",
    "pdf.image(\"profile.png\", x=current_x - 40 + 2, y=current_y + 2, w=16, h=16)"
   ]
  },
  {
   "cell_type": "markdown",
   "metadata": {},
   "source": [
    "\n",
    "\n",
    "위 코드에서 `current_x - 40`은 `pdf.cell()`이 만든 셀이 뒤로 밀려나기 때문에, 셀 자체의 왼쪽 시작점을 찾기 위해 사용합니다(또는 셀 만들기 전 위치를 저장해둘 수도 있음). ‘+2’ 정도는 여백을 주기 위한 임의 값이니, 원하는 크기만큼 조정해서 사용합니다.\n"
   ]
  },
  {
   "cell_type": "markdown",
   "metadata": {},
   "source": [
    "\n",
    "\n",
    "## 3. set_x() vs set_left_margin()\n",
    "- `pdf.set_x(값)` : 현재 줄(혹은 현재 위치)에서 X 좌표를 직접 지정해서 이동\n",
    "- `pdf.set_left_margin(값)` : 새로운 페이지가 시작되거나 줄바꿈 시 자동으로 적용될 왼쪽 여백\n",
    "\n",
    "**정리**  \n",
    "- “표 전체”를 매번 같은 위치로 옮겨야 한다면, 각 행을 출력할 때마다 `pdf.set_x()`를 써도 되지만, `pdf.set_left_margin()`을 설정하면 새 페이지나 줄바꿈 시에도 자동으로 적용되어 편리합니다.\n",
    "- 프로젝트 구조상 전체 레이아웃이 일정해야 한다면 `set_left_margin()`이 더 단순하고, 특정 부분만 살짝 밀어야 한다면 `set_x()`를 쓰는 것이 용이합니다.\n",
    "\n",
    "---\n"
   ]
  },
  {
   "cell_type": "markdown",
   "metadata": {},
   "source": [
    "\n",
    "## 4. 예시 코드 1: 표에 셀 + 이미지 삽입\n",
    "- 한 열(예: 직책 칸)에 프로필 이미지를 작게 넣고 싶은 경우\n"
   ]
  },
  {
   "cell_type": "code",
   "execution_count": null,
   "metadata": {},
   "outputs": [
    {
     "name": "stderr",
     "output_type": "stream",
     "text": [
      "C:\\Users\\데스크\\AppData\\Local\\Temp\\ipykernel_18864\\2369030421.py:6: DeprecationWarning: \"uni\" parameter is deprecated since v2.5.1, unused and will soon be removed\n",
      "  pdf.add_font(\"NanumGothic\", \"\", \"./NanumGothic.ttf\", uni=True)\n",
      "C:\\Users\\데스크\\AppData\\Local\\Temp\\ipykernel_18864\\2369030421.py:20: DeprecationWarning: The parameter \"ln\" is deprecated since v2.5.2. Instead of ln=True use new_x=XPos.LMARGIN, new_y=YPos.NEXT.\n",
      "  pdf.cell(0, 10, \"테이블 + 이미지 예시\", ln=True, align=\"C\")\n",
      "TSI0 NOT subset; don't know how to subset; dropped\n",
      "TSI1 NOT subset; don't know how to subset; dropped\n",
      "TSI2 NOT subset; don't know how to subset; dropped\n",
      "TSI3 NOT subset; don't know how to subset; dropped\n",
      "TSI5 NOT subset; don't know how to subset; dropped\n"
     ]
    }
   ],
   "source": [
    "from fpdf import FPDF\n",
    "\n",
    "pdf = FPDF()\n",
    "pdf.add_page()\n",
    "\n",
    "pdf.add_font(\"NanumGothic\", \"\", \"./NanumGothic.ttf\", uni=True)\n",
    "pdf.set_font(\"NanumGothic\", size=14)\n",
    "\n",
    "# 표 데이터 (직책 대신 프로필 이미지를 넣어보기)\n",
    "data = [\n",
    "    [\"이름\", \"부서\", \"프로필(이미지)\"],\n",
    "    [\"김민수\", \"AI팀\", \"./images/profile.png\"],\n",
    "    [\"최지연\", \"개발팀\", \"./images/profile.png\"],\n",
    "]\n",
    "\n",
    "cell_width = 60\n",
    "cell_height = 20\n",
    "\n",
    "# 테이블 타이틀\n",
    "pdf.cell(0, 10, \"테이블 + 이미지 예시\", ln=True, align=\"C\")\n",
    "pdf.ln(5)\n",
    "\n",
    "# 표 작성\n",
    "for i, row in enumerate(data):\n",
    "    # 첫째 줄(헤더)인 경우\n",
    "    if i == 0:\n",
    "        for header_item in row:\n",
    "            pdf.cell(cell_width, 10, header_item, border=1, align=\"C\", fill=True)\n",
    "        pdf.ln()\n",
    "    else:\n",
    "        # 이름 셀\n",
    "        pdf.cell(cell_width, cell_height, row[0], border=1, align=\"C\")\n",
    "        # 부서 셀\n",
    "        pdf.cell(cell_width, cell_height, row[1], border=1, align=\"C\")\n",
    "        # 이미지 셀\n",
    "        pdf.cell(cell_width, cell_height, \"\", border=1, align=\"C\")\n",
    "\n",
    "        # 이미지 셀 내부에 이미지를 삽입하기 위해 좌표를 다시 계산\n",
    "        current_x = pdf.get_x()\n",
    "        current_y = pdf.get_y()\n",
    "        # 방금 만든 이미지 셀의 시작점 X는 (current_x - cell_width)\n",
    "        img_x = current_x - cell_width + 2  # 약간 왼쪽 여백 2mm\n",
    "        img_y = current_y + 2  # 약간 위쪽 여백 2mm\n",
    "\n",
    "        # 원하는 크기로 이미지 삽입\n",
    "        pdf.image(row[2], x=img_x, y=img_y, w=16, h=16)  # w=16, h=16은 예시\n",
    "\n",
    "        # 한 줄 끝났으므로 줄바꿈\n",
    "        pdf.ln()\n",
    "\n",
    "pdf.output(\"./data/table_with_image.pdf\")"
   ]
  },
  {
   "cell_type": "markdown",
   "metadata": {},
   "source": [
    "\n",
    "\n",
    "### 주요 포인트\n",
    "1. **빈 셀**(`pdf.cell(...)`)을 먼저 생성해서 표 형태를 유지.\n",
    "2. 셀이 생성된 직후, `pdf.get_x()`, `pdf.get_y()`로 현재 좌표를 구한 다음, 거꾸로 계산하여 이미지가 들어갈 셀 내부의 위치를 맞춤.\n",
    "3. 이미지 크기(`w`, `h`)를 적절히 조절.\n",
    "\n",
    "---\n"
   ]
  },
  {
   "cell_type": "markdown",
   "metadata": {},
   "source": [
    "\n",
    "### 5. 예시 코드 2: set_left_margin()으로 전체 표 위치 조정\n"
   ]
  },
  {
   "cell_type": "code",
   "execution_count": 35,
   "metadata": {},
   "outputs": [
    {
     "name": "stderr",
     "output_type": "stream",
     "text": [
      "C:\\Users\\데스크\\AppData\\Local\\Temp\\ipykernel_18864\\3554472337.py:7: DeprecationWarning: \"uni\" parameter is deprecated since v2.5.1, unused and will soon be removed\n",
      "  pdf.add_font(\"NanumGothic\", \"\", \"./NanumGothic.ttf\", uni=True)\n",
      "C:\\Users\\데스크\\AppData\\Local\\Temp\\ipykernel_18864\\3554472337.py:18: DeprecationWarning: The parameter \"ln\" is deprecated since v2.5.2. Instead of ln=True use new_x=XPos.LMARGIN, new_y=YPos.NEXT.\n",
      "  pdf.cell(0, 10, \"왼쪽 여백을 사용한 표 예시\", ln=True, align=\"C\")\n",
      "TSI0 NOT subset; don't know how to subset; dropped\n",
      "TSI1 NOT subset; don't know how to subset; dropped\n",
      "TSI2 NOT subset; don't know how to subset; dropped\n",
      "TSI3 NOT subset; don't know how to subset; dropped\n",
      "TSI5 NOT subset; don't know how to subset; dropped\n"
     ]
    }
   ],
   "source": [
    "from fpdf import FPDF\n",
    "\n",
    "pdf = FPDF()\n",
    "pdf.set_left_margin(30)  # 전체 왼쪽 여백 30mm\n",
    "pdf.add_page()\n",
    "\n",
    "pdf.add_font(\"NanumGothic\", \"\", \"./NanumGothic.ttf\", uni=True)\n",
    "pdf.set_font(\"NanumGothic\", size=14)\n",
    "\n",
    "# 표 데이터\n",
    "data = [\n",
    "    [\"이름\", \"직무\", \"직급\"],\n",
    "    [\"김철수\", \"개발\", \"대리\"],\n",
    "    [\"이영희\", \"디자인\", \"사원\"],\n",
    "    [\"박지훈\", \"기획\", \"과장\"],\n",
    "]\n",
    "\n",
    "pdf.cell(0, 10, \"왼쪽 여백을 사용한 표 예시\", ln=True, align=\"C\")\n",
    "pdf.ln(5)\n",
    "\n",
    "for i, row in enumerate(data):\n",
    "    for col in row:\n",
    "        pdf.cell(40, 10, col, border=1, align=\"C\")\n",
    "    pdf.ln()\n",
    "\n",
    "pdf.output(\"./data/table_left_margin_example.pdf\")"
   ]
  },
  {
   "cell_type": "markdown",
   "metadata": {},
   "source": [
    "\n",
    "\n",
    "### 주요 포인트\n",
    "1. `pdf.set_left_margin(30)`으로 페이지 전체에 대한 **왼쪽 여백**을 지정.\n",
    "2. 표 뿐 아니라 이후 다른 내용도 자동으로 30mm부터 시작합니다.\n",
    "3. ‘행’마다 `pdf.set_x(…)`를 새로 호출할 필요 없이 간편하게 전체 표를 이동할 수 있습니다.\n",
    "\n",
    "---\n"
   ]
  },
  {
   "cell_type": "markdown",
   "metadata": {},
   "source": [
    "\n",
    "\n",
    "### 요약\n",
    "\n",
    "- **FPDF 기본 단위는 mm**로, `pdf.cell()`과 `pdf.image()` 모두 mm 기반으로 작동합니다(픽셀로 쓰고 싶다면 `FPDF(unit=\"pt\")` 식으로 변경 후 pt → 픽셀 변환 고려).\n",
    "- **한 셀 내부에 이미지를 넣으려면**, “빈 셀”을 만든 후 `pdf.get_x()`, `pdf.get_y()`를 이용해 이미지를 수동으로 배치해야 합니다.\n",
    "- **표 전체 위치 이동**은 \n",
    "  - 특정 부분만 이동하려면 `pdf.set_x(…)` 반복,\n",
    "  - 전체 레이아웃에 여백을 주려면 `pdf.set_left_margin(…)`을 사용하는 것이 간편합니다.\n",
    "\n",
    "이렇게 하시면 표 셀 안에 이미지를 넣는 것과 표의 위치를 이동하는 방법을 모두 활용하실 수 있습니다."
   ]
  },
  {
   "cell_type": "markdown",
   "metadata": {},
   "source": [
    "- **한글 사용 시 폰트 추가 필수** : `add_font()`  \n",
    "- **표 스타일링** : `border`, `fill`, `align` 옵션  \n",
    "- **이미지 추가 시 크기/위치 중요** : `x, y, w, h` 옵션을 활용하여 배치"
   ]
  },
  {
   "cell_type": "markdown",
   "metadata": {},
   "source": [
    "## 7. 페이지에 헤더와 푸터 추가하기"
   ]
  },
  {
   "cell_type": "code",
   "execution_count": 18,
   "metadata": {},
   "outputs": [
    {
     "name": "stderr",
     "output_type": "stream",
     "text": [
      "/var/folders/h8/dk4pn1l11_5f5z7pscs8gr0r0000gn/T/ipykernel_10422/3488954587.py:3: DeprecationWarning: Substituting font arial by core font helvetica - This is deprecated since v2.7.8, and will soon be removed\n",
      "  self.set_font(\"Arial\", style=\"B\", size=12)\n",
      "/var/folders/h8/dk4pn1l11_5f5z7pscs8gr0r0000gn/T/ipykernel_10422/3488954587.py:4: DeprecationWarning: The parameter \"ln\" is deprecated since v2.5.2. Instead of ln=True use new_x=XPos.LMARGIN, new_y=YPos.NEXT.\n",
      "  self.cell(0, 10, \"PDF Header\", ln=True, align=\"C\")\n",
      "/var/folders/h8/dk4pn1l11_5f5z7pscs8gr0r0000gn/T/ipykernel_10422/3488954587.py:8: DeprecationWarning: Substituting font arial by core font helvetica - This is deprecated since v2.7.8, and will soon be removed\n",
      "  self.set_font(\"Arial\", size=10)\n"
     ]
    }
   ],
   "source": [
    "class CustomPDF(FPDF):\n",
    "    def header(self):\n",
    "        self.set_font(\"Arial\", style=\"B\", size=12)\n",
    "        self.cell(0, 10, \"PDF Header\", ln=True, align=\"C\")\n",
    "\n",
    "    def footer(self):\n",
    "        self.set_y(-15)\n",
    "        self.set_font(\"Arial\", size=10)\n",
    "        self.cell(0, 10, f\"Page {self.page_no()}\", align=\"C\")\n",
    "\n",
    "\n",
    "pdf = CustomPDF()\n",
    "pdf.add_page()\n",
    "pdf.output(\"./data/header_footer.pdf\")"
   ]
  },
  {
   "cell_type": "markdown",
   "metadata": {},
   "source": [
    "## 8. 여러 개의 컬럼 레이아웃"
   ]
  },
  {
   "cell_type": "code",
   "execution_count": 19,
   "metadata": {},
   "outputs": [
    {
     "name": "stderr",
     "output_type": "stream",
     "text": [
      "/var/folders/h8/dk4pn1l11_5f5z7pscs8gr0r0000gn/T/ipykernel_10422/3102666128.py:3: DeprecationWarning: Substituting font arial by core font helvetica - This is deprecated since v2.7.8, and will soon be removed\n",
      "  pdf.set_font(\"Arial\", size=12)\n"
     ]
    }
   ],
   "source": [
    "pdf = FPDF()\n",
    "pdf.add_page()\n",
    "pdf.set_font(\"Arial\", size=12)\n",
    "\n",
    "pdf.set_x(10)\n",
    "pdf.cell(60, 10, \"Left Column\", border=1)\n",
    "pdf.set_x(80)\n",
    "pdf.cell(60, 10, \"Right Column\", border=1)\n",
    "\n",
    "pdf.output(\"./data/columns.pdf\")"
   ]
  },
  {
   "cell_type": "markdown",
   "metadata": {},
   "source": [
    "## 9. 배경 색이 있는 셀"
   ]
  },
  {
   "cell_type": "code",
   "execution_count": null,
   "metadata": {},
   "outputs": [
    {
     "data": {
      "text/plain": [
       "''"
      ]
     },
     "execution_count": 27,
     "metadata": {},
     "output_type": "execute_result"
    }
   ],
   "source": [
    "from fpdf import FPDF\n",
    "import os\n",
    "\n",
    "# 저장할 디렉토리가 없다면 생성\n",
    "os.makedirs(\"./data\", exist_ok=True)\n",
    "\n",
    "pdf = FPDF()\n",
    "pdf.add_page()\n",
    "\n",
    "pdf.add_font(\"NanumGothic\", \"\", \"./NanumGothic.ttf\", uni=True)\n",
    "pdf.set_font(\"NanumGothic\", size=12)\n",
    "\n",
    "\n",
    "# 배경 색상 설정 (RGB)\n",
    "pdf.set_fill_color(200, 220, 255)\n",
    "\n",
    "# fill=True -> fill=1 로 수정\n",
    "pdf.cell(60, 10, \"Colored Cell\", border=1, fill=1)\n",
    "\n",
    "# PDF 저장\n",
    "pdf.output(\"./data/colored_cell.pdf\")"
   ]
  },
  {
   "cell_type": "markdown",
   "metadata": {},
   "source": [
    "## 10. PDF 문서에 링크 추가하기"
   ]
  },
  {
   "cell_type": "code",
   "execution_count": null,
   "metadata": {},
   "outputs": [
    {
     "data": {
      "text/plain": [
       "''"
      ]
     },
     "execution_count": 29,
     "metadata": {},
     "output_type": "execute_result"
    }
   ],
   "source": [
    "pdf = FPDF()\n",
    "pdf.add_page()\n",
    "pdf.set_font(\"Arial\", size=12)\n",
    "\n",
    "pdf.cell(0, 10, \"Go to Google\", ln=True, link=\"https://www.google.com\")\n",
    "\n",
    "pdf.output(\"./data/link.pdf\")"
   ]
  },
  {
   "cell_type": "markdown",
   "metadata": {},
   "source": [
    "### 📌 **① 폰트 추가 위치 변경**\n",
    "\n",
    "`pdf.add_font()`는 반드시 PDF 객체 생성 후, 페이지 추가(**`add_page()`**) **전에** 실행되어야 합니다.\n"
   ]
  },
  {
   "cell_type": "markdown",
   "metadata": {},
   "source": [
    "\n",
    "\n",
    "```python\n",
    "# 잘못된 예시 ❌\n",
    "pdf = CustomPDF()\n",
    "pdf.add_page()\n",
    "pdf.add_font(\"NanumGothic\", \"\", \"./NanumGothic.ttf\", uni=True) # ⚠️ 페이지 추가 후에 호출하면 안됨!\n",
    "```\n"
   ]
  },
  {
   "cell_type": "markdown",
   "metadata": {},
   "source": [
    "\n",
    "```python\n",
    "# 올바른 예시 ✅\n",
    "pdf = CustomPDF()\n",
    "pdf.add_font(\"NanumGothic\", \"\", \"./NanumGothic.ttf\", uni=True)\n",
    "pdf.add_font(\"NanumGothic\", \"B\", \"./NanumGothicBold.ttf\", uni=True)\n",
    "\n",
    "pdf.add_page()\n",
    "```\n"
   ]
  },
  {
   "cell_type": "markdown",
   "metadata": {},
   "source": [
    "\n",
    "---\n",
    "\n",
    "### 📌 **② 헤더 및 푸터 내에서도 한글 폰트 지정**\n",
    "\n",
    "`header()`와 `footer()`에서 한글을 쓰려면, 반드시 **한글 폰트**로 설정해야 합니다.\n"
   ]
  },
  {
   "cell_type": "markdown",
   "metadata": {},
   "source": [
    "\n",
    "\n",
    "```python\n",
    "# 잘못된 예시 ❌ (Arial 사용)\n",
    "def header(self):\n",
    "    self.set_font(\"Arial\", style=\"B\", size=14)  # ⚠️ Arial은 한글 미지원!\n",
    "    self.cell(0, 10, \"자율주행 설문조사 결과 보고서\", ln=True, align=\"C\")\n",
    "```\n"
   ]
  },
  {
   "cell_type": "markdown",
   "metadata": {},
   "source": [
    "\n",
    "\n",
    "```python\n",
    "# 올바른 예시 ✅ (NanumGothic 사용)\n",
    "def header(self):\n",
    "    self.set_font(\"NanumGothic\", style=\"B\", size=14)\n",
    "    self.cell(0, 10, \"자율주행 설문조사 결과 보고서\", ln=True, align=\"C\")\n",
    "```\n",
    "\n",
    "---"
   ]
  },
  {
   "cell_type": "markdown",
   "metadata": {},
   "source": [
    "## 🚩 **심화 단계 주요 옵션 (헤더/푸터/레이아웃)**\n",
    "\n",
    "| 옵션(메서드) | 중요도 | 설명 및 실전 팁 |\n",
    "|------------|------|---------------------------|\n",
    "| **`header()`** | ✅ 필수 | 페이지 상단에 반복될 내용을 정의 |\n",
    "| **`footer()`** | ✅ 필수 | 페이지 하단에 반복될 내용을 정의 |\n",
    "| `page_no()` | 🔸 자주사용 | 현재 페이지 번호 반환 (`footer`에서 주로 사용) |\n",
    "| `set_y(y)` | 🔸 자주사용 | Y축 위치를 절대적으로 설정 (하단 배치에 필수) |\n",
    "| `set_x(x)` | 🔸 자주사용 | X축 위치 설정 (컬럼 배치 시 필수) |\n",
    "| `set_xy(x,y)` | 🔸 자주사용 | X, Y축 위치를 동시에 설정 |\n",
    "| `alias_nb_pages()` | 🔹 선택 | 전체 페이지 수 표시 시 사용 |\n",
    "| `cell(link='URL')` | 🔹 선택 | 셀 텍스트에 하이퍼링크 설정 |\n",
    "\n",
    "---"
   ]
  },
  {
   "cell_type": "code",
   "execution_count": 25,
   "metadata": {},
   "outputs": [
    {
     "name": "stderr",
     "output_type": "stream",
     "text": [
      "/var/folders/h8/dk4pn1l11_5f5z7pscs8gr0r0000gn/T/ipykernel_10422/3752771514.py:20: DeprecationWarning: \"uni\" parameter is deprecated since v2.5.1, unused and will soon be removed\n",
      "  pdf.add_font(\"NanumGothic\", \"\", \"./NanumGothic.ttf\", uni=True)\n",
      "/var/folders/h8/dk4pn1l11_5f5z7pscs8gr0r0000gn/T/ipykernel_10422/3752771514.py:21: DeprecationWarning: \"uni\" parameter is deprecated since v2.5.1, unused and will soon be removed\n",
      "  pdf.add_font(\"NanumGothic\", \"B\", \"./NanumGothicBold.ttf\", uni=True)\n",
      "/var/folders/h8/dk4pn1l11_5f5z7pscs8gr0r0000gn/T/ipykernel_10422/3752771514.py:7: DeprecationWarning: The parameter \"ln\" is deprecated since v2.5.2. Instead of ln=True use new_x=XPos.LMARGIN, new_y=YPos.NEXT.\n",
      "  self.cell(0, 10, \"자율주행 설문조사 결과 보고서\", ln=True, align=\"C\")\n",
      "/var/folders/h8/dk4pn1l11_5f5z7pscs8gr0r0000gn/T/ipykernel_10422/3752771514.py:28: DeprecationWarning: The parameter \"ln\" is deprecated since v2.5.2. Instead of ln=True use new_x=XPos.LMARGIN, new_y=YPos.NEXT.\n",
      "  pdf.cell(0, 10, \"1. 설문 조사 개요\", ln=True)\n",
      "/var/folders/h8/dk4pn1l11_5f5z7pscs8gr0r0000gn/T/ipykernel_10422/3752771514.py:64: DeprecationWarning: The parameter \"ln\" is deprecated since v2.5.2. Instead of ln=True use new_x=XPos.LMARGIN, new_y=YPos.NEXT.\n",
      "  pdf.cell(0, 10, \"2. 응답 분포 그래프\", ln=True)\n",
      "TSI0 NOT subset; don't know how to subset; dropped\n",
      "TSI1 NOT subset; don't know how to subset; dropped\n",
      "TSI2 NOT subset; don't know how to subset; dropped\n",
      "TSI3 NOT subset; don't know how to subset; dropped\n",
      "TSI5 NOT subset; don't know how to subset; dropped\n",
      "TSI0 NOT subset; don't know how to subset; dropped\n",
      "TSI1 NOT subset; don't know how to subset; dropped\n",
      "TSI2 NOT subset; don't know how to subset; dropped\n",
      "TSI3 NOT subset; don't know how to subset; dropped\n",
      "TSI5 NOT subset; don't know how to subset; dropped\n"
     ]
    }
   ],
   "source": [
    "from fpdf import FPDF\n",
    "\n",
    "\n",
    "class CustomPDF(FPDF):\n",
    "    def header(self):\n",
    "        self.set_font(\"NanumGothic\", style=\"B\", size=14)\n",
    "        self.cell(0, 10, \"자율주행 설문조사 결과 보고서\", ln=True, align=\"C\")\n",
    "        self.ln(5)\n",
    "\n",
    "    def footer(self):\n",
    "        self.set_y(-15)\n",
    "        self.set_font(\"NanumGothic\", size=10)\n",
    "        self.cell(0, 10, f\"{self.page_no()} 페이지\", align=\"C\")\n",
    "\n",
    "\n",
    "# PDF 객체 생성\n",
    "pdf = CustomPDF()\n",
    "\n",
    "# 📌 페이지 추가 전 폰트 추가 필수!\n",
    "pdf.add_font(\"NanumGothic\", \"\", \"./NanumGothic.ttf\", uni=True)\n",
    "pdf.add_font(\"NanumGothic\", \"B\", \"./NanumGothicBold.ttf\", uni=True)\n",
    "\n",
    "# 페이지 추가\n",
    "pdf.add_page()\n",
    "\n",
    "# 보고서 요약 섹션\n",
    "pdf.set_font(\"NanumGothic\", \"B\", size=12)\n",
    "pdf.cell(0, 10, \"1. 설문 조사 개요\", ln=True)\n",
    "\n",
    "pdf.set_font(\"NanumGothic\", size=12)\n",
    "pdf.multi_cell(\n",
    "    0,\n",
    "    10,\n",
    "    \"본 보고서는 자율주행 시스템 사용자를 대상으로 진행된 설문 조사 결과를 분석한 보고서입니다. \"\n",
    "    \"총 응답자 수는 150명이며, 5점 척도를 기준으로 평가되었습니다.\",\n",
    ")\n",
    "pdf.ln(5)\n",
    "\n",
    "# 컬럼 레이아웃 및 표 생성\n",
    "pdf.set_fill_color(230, 230, 250)\n",
    "pdf.set_font(\"NanumGothic\", \"B\", size=12)\n",
    "pdf.cell(90, 10, \"설문 항목\", border=1, fill=True, align=\"C\")\n",
    "pdf.cell(50, 10, \"평균 점수\", border=1, fill=True, align=\"C\")\n",
    "pdf.cell(50, 10, \"표준 편차\", border=1, fill=True, align=\"C\")\n",
    "pdf.ln()\n",
    "\n",
    "pdf.set_font(\"NanumGothic\", size=12)\n",
    "survey_results = [\n",
    "    (\"차량 주행 만족도\", \"4.5\", \"0.3\"),\n",
    "    (\"인터페이스 편의성\", \"4.2\", \"0.4\"),\n",
    "    (\"음성 인식 정확성\", \"3.8\", \"0.6\"),\n",
    "]\n",
    "\n",
    "for item, avg, std in survey_results:\n",
    "    pdf.cell(90, 10, item, border=1, align=\"C\")\n",
    "    pdf.cell(50, 10, avg, border=1, align=\"C\")\n",
    "    pdf.cell(50, 10, std, border=1, align=\"C\")\n",
    "    pdf.ln()\n",
    "\n",
    "pdf.ln(10)\n",
    "\n",
    "# 이미지 삽입\n",
    "pdf.set_font(\"NanumGothic\", \"B\", size=12)\n",
    "pdf.cell(0, 10, \"2. 응답 분포 그래프\", ln=True)\n",
    "pdf.image(\"./images/chart.png\", x=pdf.get_x(), y=pdf.get_y(), w=100)\n",
    "pdf.ln(60)\n",
    "\n",
    "# 링크 삽입\n",
    "pdf.set_font(\"NanumGothic\", \"B\", size=12)\n",
    "pdf.cell(\n",
    "    0, 50, \"자세한 보고서 웹 페이지 방문하기 →\", link=\"https://example.com/full-report\"\n",
    ")\n",
    "\n",
    "# PDF 저장\n",
    "pdf.output(\"./data/advanced_report.pdf\")"
   ]
  },
  {
   "cell_type": "markdown",
   "metadata": {},
   "source": [
    "### ① **헤더(header)와 푸터(footer)**\n",
    "\n",
    "- `header(self)` / `footer(self)`  \n",
    "  페이지마다 반복적으로 추가되는 상단 및 하단 영역 정의.\n",
    "\n",
    "- `set_y()`  \n",
    "  페이지 하단에 푸터 추가 시 위치를 설정할 때 필수.\n"
   ]
  },
  {
   "cell_type": "markdown",
   "metadata": {},
   "source": [
    "\n",
    "```python\n",
    "def footer(self):\n",
    "    self.set_y(-15)  # 페이지 맨 아래에서 15만큼 위로\n",
    "```\n"
   ]
  },
  {
   "cell_type": "markdown",
   "metadata": {},
   "source": [
    "\n",
    "- `page_no()`  \n",
    "  현재 페이지 번호를 출력.\n",
    "\n",
    "```python\n",
    "self.cell(0, 10, f\"{self.page_no()} 페이지\", align=\"C\")\n",
    "```\n",
    "\n",
    "---\n",
    "\n",
    "### ② **레이아웃 구성 (`set_x`, `set_xy`)**\n",
    "\n",
    "- `set_x(x)`  \n",
    "  좌우 간격이나 컬럼 레이아웃을 맞출 때 사용합니다.\n",
    "\n",
    "```python\n",
    "pdf.set_x(100)\n",
    "pdf.cell(40, 10, \"오른쪽 정렬 텍스트\", border=1)\n",
    "```\n",
    "\n",
    "- `set_xy(x, y)`  \n",
    "  동시에 가로/세로 위치 설정.\n",
    "\n",
    "```python\n",
    "pdf.set_xy(20, 50)\n",
    "pdf.cell(50, 10, \"특정 위치 텍스트\")\n",
    "```\n",
    "\n",
    "---\n",
    "\n",
    "### ③ **하이퍼링크 링크 추가**\n",
    "\n",
    "- `cell(..., link=\"URL\")`  \n",
    "  텍스트에 URL 링크 추가.\n",
    "\n",
    "```python\n",
    "pdf.cell(0, 10, \"클릭하여 페이지 이동\", link=\"https://naver.com\")\n",
    "```\n",
    "\n",
    "---\n",
    "\n",
    "### ④ **이미지 삽입**\n",
    "\n",
    "- `image(\"경로\", x, y, w, h)`  \n",
    "  이미지를 원하는 위치와 크기에 맞게 추가.\n",
    "\n",
    "```python\n",
    "pdf.image(\"./image.jpg\", x=50, y=100, w=80)\n",
    "```\n",
    "\n",
    "---\n",
    "\n",
    "### ⑤ **전체 페이지 수 출력 (`alias_nb_pages`)**\n",
    "\n",
    "- `alias_nb_pages()`  \n",
    "  전체 페이지 수를 표시할 때 사용 (예: `self.alias_nb_pages()`)\n",
    "\n",
    "```python\n",
    "self.cell(0,10, f\"Page {self.page_no()} of {{nb}}\", align='C')\n",
    "```\n",
    "\n",
    "---\n",
    "\n",
    "## 🚩 **심화 옵션 정리**\n",
    "\n",
    "| 옵션(함수) | 활용 목적 |\n",
    "|------------|----------|\n",
    "| `header(), footer()` | 반복 구성 요소 |\n",
    "| `set_x(), set_y(), set_xy()` | 레이아웃 세부 설정 |\n",
    "| `cell(link='URL')` | 하이퍼링크 삽입 |\n",
    "| `alias_nb_pages()` | 전체 페이지 표시 |\n",
    "| `image()` | 이미지 추가 |\n",
    "\n",
    "---\n"
   ]
  },
  {
   "cell_type": "markdown",
   "metadata": {},
   "source": []
  }
 ],
 "metadata": {
  "kernelspec": {
   "display_name": "venv",
   "language": "python",
   "name": "python3"
  },
  "language_info": {
   "codemirror_mode": {
    "name": "ipython",
    "version": 3
   },
   "file_extension": ".py",
   "mimetype": "text/x-python",
   "name": "python",
   "nbconvert_exporter": "python",
   "pygments_lexer": "ipython3",
   "version": "3.13.2"
  }
 },
 "nbformat": 4,
 "nbformat_minor": 2
}
