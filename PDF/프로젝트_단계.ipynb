{
 "cells": [
  {
   "cell_type": "markdown",
   "metadata": {},
   "source": [
    "## 1. 보고서 스타일 PDF 생성\n",
    "- 이 예제에서는 헤더/푸터를 포함한 정식 보고서를 생성합니다."
   ]
  },
  {
   "cell_type": "code",
   "execution_count": 24,
   "metadata": {},
   "outputs": [
    {
     "name": "stderr",
     "output_type": "stream",
     "text": [
      "/var/folders/h8/dk4pn1l11_5f5z7pscs8gr0r0000gn/T/ipykernel_12319/139991098.py:19: DeprecationWarning: \"uni\" parameter is deprecated since v2.5.1, unused and will soon be removed\n",
      "  pdf.add_font(\"NanumGothic\", \"\", \"./NanumGothic.ttf\", uni=True)\n",
      "/var/folders/h8/dk4pn1l11_5f5z7pscs8gr0r0000gn/T/ipykernel_12319/139991098.py:20: DeprecationWarning: \"uni\" parameter is deprecated since v2.5.1, unused and will soon be removed\n",
      "  pdf.add_font(\n",
      "/var/folders/h8/dk4pn1l11_5f5z7pscs8gr0r0000gn/T/ipykernel_12319/139991098.py:7: DeprecationWarning: The parameter \"ln\" is deprecated since v2.5.2. Instead of ln=True use new_x=XPos.LMARGIN, new_y=YPos.NEXT.\n",
      "  self.cell(0, 10, \"Monthly Sales Report\", ln=True, align=\"C\")\n",
      "/var/folders/h8/dk4pn1l11_5f5z7pscs8gr0r0000gn/T/ipykernel_12319/139991098.py:30: DeprecationWarning: The parameter \"ln\" is deprecated since v2.5.2. Instead of ln=True use new_x=XPos.LMARGIN, new_y=YPos.NEXT.\n",
      "  pdf.cell(0, 10, \"Report Summary\", ln=True)\n",
      "TSI0 NOT subset; don't know how to subset; dropped\n",
      "TSI1 NOT subset; don't know how to subset; dropped\n",
      "TSI2 NOT subset; don't know how to subset; dropped\n",
      "TSI3 NOT subset; don't know how to subset; dropped\n",
      "TSI5 NOT subset; don't know how to subset; dropped\n",
      "TSI0 NOT subset; don't know how to subset; dropped\n",
      "TSI1 NOT subset; don't know how to subset; dropped\n",
      "TSI2 NOT subset; don't know how to subset; dropped\n",
      "TSI3 NOT subset; don't know how to subset; dropped\n",
      "TSI5 NOT subset; don't know how to subset; dropped\n"
     ]
    }
   ],
   "source": [
    "from fpdf import FPDF\n",
    "\n",
    "\n",
    "class PDFReport(FPDF):\n",
    "    def header(self):\n",
    "        \"\"\"헤더: 제목을 설정합니다.\"\"\"\n",
    "        self.cell(0, 10, \"Monthly Sales Report\", ln=True, align=\"C\")\n",
    "        self.ln(10)\n",
    "\n",
    "    def footer(self):\n",
    "        \"\"\"푸터: 페이지 번호를 표시합니다.\"\"\"\n",
    "        self.set_y(-15)\n",
    "        self.set_font(\"NanumGothic\", size=10)\n",
    "        self.cell(0, 10, f\"Page {self.page_no()}\", align=\"C\")\n",
    "\n",
    "\n",
    "pdf = PDFReport()\n",
    "# 📌 한글 폰트 추가 (볼드 포함)\n",
    "pdf.add_font(\"NanumGothic\", \"\", \"./NanumGothic.ttf\", uni=True)\n",
    "pdf.add_font(\n",
    "    \"NanumGothic\", \"B\", \"./NanumGothicBold.ttf\", uni=True\n",
    ")  # 🔹 굵은(B) 스타일 추가\n",
    "pdf.set_font(\"NanumGothic\", size=12)\n",
    "\n",
    "pdf.add_page()\n",
    "\n",
    "\n",
    "# 📌 보고서 개요 (굵은 글꼴 적용)\n",
    "pdf.set_font(\"NanumGothic\", \"B\", 12)  # 🔹 스타일을 \"B\"로 설정\n",
    "pdf.cell(0, 10, \"Report Summary\", ln=True)\n",
    "\n",
    "pdf.set_font(\"NanumGothic\", size=12)  # 🔹 일반 글꼴로 복구\n",
    "pdf.multi_cell(\n",
    "    0,\n",
    "    10,\n",
    "    \"This report provides an overview of the monthly sales performance. \"\n",
    "    \"We analyze key trends and present data in table format.\",\n",
    ")\n",
    "\n",
    "pdf.ln(5)\n",
    "\n",
    "# 📊 표 추가\n",
    "pdf.set_fill_color(200, 220, 255)\n",
    "pdf.set_font(\"NanumGothic\", \"B\", size=12)  # 🔹 표 헤더에 굵은 글꼴 적용\n",
    "pdf.cell(40, 10, \"Product\", border=1, fill=True)\n",
    "pdf.cell(40, 10, \"Sales\", border=1, fill=True)\n",
    "pdf.cell(40, 10, \"Revenue\", border=1, fill=True)\n",
    "pdf.ln()\n",
    "\n",
    "pdf.set_font(\"NanumGothic\", size=12)  # 🔹 표 내용은 일반 글꼴로 설정\n",
    "data = [\n",
    "    (\"Product A\", \"120\", \"$12,000\"),\n",
    "    (\"Product B\", \"95\", \"$9,500\"),\n",
    "    (\"Product C\", \"78\", \"$7,800\"),\n",
    "    (\"Product D\", \"140\", \"$14,000\"),\n",
    "]\n",
    "\n",
    "for row in data:\n",
    "    for col in row:\n",
    "        pdf.cell(40, 10, col, border=1)\n",
    "    pdf.ln()\n",
    "\n",
    "# 📷 이미지 추가\n",
    "pdf.ln(5)\n",
    "pdf.image(\"./data/chart.jpg\", x=10, y=pdf.get_y(), w=100)\n",
    "\n",
    "# 📄 PDF 저장\n",
    "pdf.output(\"./data/report.pdf\")"
   ]
  },
  {
   "cell_type": "code",
   "execution_count": 19,
   "metadata": {},
   "outputs": [
    {
     "name": "stdout",
     "output_type": "stream",
     "text": [
      "\u001b[33mWARNING: Package(s) not found: fpdf\u001b[0m\u001b[33m\n",
      "\u001b[0m"
     ]
    }
   ],
   "source": [
    "!pip show fpdf"
   ]
  },
  {
   "cell_type": "code",
   "execution_count": 15,
   "metadata": {},
   "outputs": [
    {
     "name": "stdout",
     "output_type": "stream",
     "text": [
      "Found existing installation: fpdf 1.7.2\n",
      "Uninstalling fpdf-1.7.2:\n",
      "  Successfully uninstalled fpdf-1.7.2\n"
     ]
    }
   ],
   "source": [
    "!pip uninstall --yes fpdf"
   ]
  },
  {
   "cell_type": "code",
   "execution_count": 16,
   "metadata": {},
   "outputs": [
    {
     "name": "stdout",
     "output_type": "stream",
     "text": [
      "\u001b[33mWARNING: Skipping pyfpdf as it is not installed.\u001b[0m\u001b[33m\n",
      "\u001b[0m"
     ]
    }
   ],
   "source": [
    "!pip uninstall --yes pyfpdf"
   ]
  },
  {
   "cell_type": "code",
   "execution_count": 20,
   "metadata": {},
   "outputs": [
    {
     "name": "stdout",
     "output_type": "stream",
     "text": [
      "Requirement already satisfied: fpdf2 in /opt/homebrew/lib/python3.11/site-packages (2.8.2)\n",
      "Requirement already satisfied: defusedxml in /opt/homebrew/lib/python3.11/site-packages (from fpdf2) (0.7.1)\n",
      "Requirement already satisfied: Pillow!=9.2.*,>=6.2.2 in /opt/homebrew/lib/python3.11/site-packages (from fpdf2) (10.3.0)\n",
      "Requirement already satisfied: fonttools>=4.34.0 in /opt/homebrew/lib/python3.11/site-packages (from fpdf2) (4.51.0)\n"
     ]
    }
   ],
   "source": [
    "!pip install --upgrade fpdf2"
   ]
  },
  {
   "cell_type": "code",
   "execution_count": 21,
   "metadata": {},
   "outputs": [
    {
     "name": "stdout",
     "output_type": "stream",
     "text": [
      "\u001b[33mWARNING: Package(s) not found: fpdf\u001b[0m\u001b[33m\n",
      "\u001b[0m"
     ]
    }
   ],
   "source": [
    "!pip show fpdf"
   ]
  },
  {
   "cell_type": "code",
   "execution_count": 22,
   "metadata": {},
   "outputs": [
    {
     "name": "stdout",
     "output_type": "stream",
     "text": [
      "Requirement already satisfied: fpdf2 in /opt/homebrew/lib/python3.11/site-packages (2.8.2)\n",
      "Requirement already satisfied: defusedxml in /opt/homebrew/lib/python3.11/site-packages (from fpdf2) (0.7.1)\n",
      "Requirement already satisfied: Pillow!=9.2.*,>=6.2.2 in /opt/homebrew/lib/python3.11/site-packages (from fpdf2) (10.3.0)\n",
      "Requirement already satisfied: fonttools>=4.34.0 in /opt/homebrew/lib/python3.11/site-packages (from fpdf2) (4.51.0)\n"
     ]
    }
   ],
   "source": [
    "!pip install fpdf2"
   ]
  },
  {
   "cell_type": "markdown",
   "metadata": {},
   "source": [
    "## 2. 이력서 (Resume) PDF 생성\n",
    "- 이제 실제 이력서 스타일의 PDF 문서를 생성해 보겠습니다."
   ]
  },
  {
   "cell_type": "code",
   "execution_count": null,
   "metadata": {},
   "outputs": [
    {
     "name": "stderr",
     "output_type": "stream",
     "text": [
      "/opt/homebrew/lib/python3.11/site-packages/fpdf/__init__.py:40: UserWarning: You have both PyFPDF & fpdf2 installed. Both packages cannot be installed at the same time as they share the same module namespace. To only keep fpdf2, run: pip uninstall --yes pypdf && pip install --upgrade fpdf2\n",
      "  warnings.warn(\n",
      "/var/folders/h8/dk4pn1l11_5f5z7pscs8gr0r0000gn/T/ipykernel_12319/1072539050.py:5: DeprecationWarning: Substituting font arial by core font helvetica - This is deprecated since v2.7.8, and will soon be removed\n",
      "  self.set_font(\"Arial\", style=\"B\", size=18)\n",
      "/var/folders/h8/dk4pn1l11_5f5z7pscs8gr0r0000gn/T/ipykernel_12319/1072539050.py:6: DeprecationWarning: The parameter \"ln\" is deprecated since v2.5.2. Instead of ln=True use new_x=XPos.LMARGIN, new_y=YPos.NEXT.\n",
      "  self.cell(0, 10, \"John Doe\", ln=True, align='C')\n",
      "/var/folders/h8/dk4pn1l11_5f5z7pscs8gr0r0000gn/T/ipykernel_12319/1072539050.py:7: DeprecationWarning: Substituting font arial by core font helvetica - This is deprecated since v2.7.8, and will soon be removed\n",
      "  self.set_font(\"Arial\", size=12)\n",
      "/var/folders/h8/dk4pn1l11_5f5z7pscs8gr0r0000gn/T/ipykernel_12319/1072539050.py:8: DeprecationWarning: The parameter \"ln\" is deprecated since v2.5.2. Instead of ln=True use new_x=XPos.LMARGIN, new_y=YPos.NEXT.\n",
      "  self.cell(0, 10, \"Software Engineer\", ln=True, align='C')\n",
      "/var/folders/h8/dk4pn1l11_5f5z7pscs8gr0r0000gn/T/ipykernel_12319/1072539050.py:25: DeprecationWarning: Substituting font arial by core font helvetica - This is deprecated since v2.7.8, and will soon be removed\n",
      "  pdf.set_font(\"Arial\", size=10)\n",
      "/var/folders/h8/dk4pn1l11_5f5z7pscs8gr0r0000gn/T/ipykernel_12319/1072539050.py:26: DeprecationWarning: The parameter \"ln\" is deprecated since v2.5.2. Instead of ln=True use new_x=XPos.LMARGIN, new_y=YPos.NEXT.\n",
      "  pdf.cell(0, 10, \"Email: johndoe@example.com | Phone: 123-456-7890 | Website: johndoe.com\", ln=True, align='C')\n",
      "/var/folders/h8/dk4pn1l11_5f5z7pscs8gr0r0000gn/T/ipykernel_12319/1072539050.py:12: DeprecationWarning: Substituting font arial by core font helvetica - This is deprecated since v2.7.8, and will soon be removed\n",
      "  self.set_font(\"Arial\", style=\"B\", size=14)\n",
      "/var/folders/h8/dk4pn1l11_5f5z7pscs8gr0r0000gn/T/ipykernel_12319/1072539050.py:13: DeprecationWarning: The parameter \"ln\" is deprecated since v2.5.2. Instead of ln=True use new_x=XPos.LMARGIN, new_y=YPos.NEXT.\n",
      "  self.cell(0, 10, title, ln=True)\n",
      "/var/folders/h8/dk4pn1l11_5f5z7pscs8gr0r0000gn/T/ipykernel_12319/1072539050.py:17: DeprecationWarning: Substituting font arial by core font helvetica - This is deprecated since v2.7.8, and will soon be removed\n",
      "  self.set_font(\"Arial\", size=12)\n",
      "/var/folders/h8/dk4pn1l11_5f5z7pscs8gr0r0000gn/T/ipykernel_12319/1072539050.py:43: DeprecationWarning: Substituting font arial by core font helvetica - This is deprecated since v2.7.8, and will soon be removed\n",
      "  pdf.set_font(\"Arial\", style=\"B\", size=12)\n",
      "/var/folders/h8/dk4pn1l11_5f5z7pscs8gr0r0000gn/T/ipykernel_12319/1072539050.py:44: DeprecationWarning: The parameter \"ln\" is deprecated since v2.5.2. Instead of ln=True use new_x=XPos.LMARGIN, new_y=YPos.NEXT.\n",
      "  pdf.cell(0, 8, f\"{title} at {company} ({date})\", ln=True)\n",
      "/var/folders/h8/dk4pn1l11_5f5z7pscs8gr0r0000gn/T/ipykernel_12319/1072539050.py:45: DeprecationWarning: Substituting font arial by core font helvetica - This is deprecated since v2.7.8, and will soon be removed\n",
      "  pdf.set_font(\"Arial\", size=12)\n",
      "/var/folders/h8/dk4pn1l11_5f5z7pscs8gr0r0000gn/T/ipykernel_12319/1072539050.py:53: DeprecationWarning: Substituting font arial by core font helvetica - This is deprecated since v2.7.8, and will soon be removed\n",
      "  pdf.set_font(\"Arial\", size=12)\n"
     ]
    }
   ],
   "source": [
    "from fpdf import FPDF\n",
    "\n",
    "\n",
    "class ResumePDF(FPDF):\n",
    "    def header(self):\n",
    "        self.set_font(\"Arial\", style=\"B\", size=18)\n",
    "        self.cell(0, 10, \"John Doe\", ln=True, align=\"C\")\n",
    "        self.set_font(\"Arial\", size=12)\n",
    "        self.cell(0, 10, \"Software Engineer\", ln=True, align=\"C\")\n",
    "        self.ln(10)\n",
    "\n",
    "    def section_title(self, title):\n",
    "        self.set_font(\"Arial\", style=\"B\", size=14)\n",
    "        self.cell(0, 10, title, ln=True)\n",
    "        self.ln(2)\n",
    "\n",
    "    def section_body(self, text):\n",
    "        self.set_font(\"Arial\", size=12)\n",
    "        self.multi_cell(0, 8, text)\n",
    "        self.ln(5)\n",
    "\n",
    "\n",
    "pdf = ResumePDF()\n",
    "pdf.add_page()\n",
    "\n",
    "# 연락처 정보\n",
    "pdf.set_font(\"Arial\", size=10)\n",
    "pdf.cell(\n",
    "    0,\n",
    "    10,\n",
    "    \"Email: johndoe@example.com | Phone: 123-456-7890 | Website: johndoe.com\",\n",
    "    ln=True,\n",
    "    align=\"C\",\n",
    ")\n",
    "pdf.ln(10)\n",
    "\n",
    "# 프로필\n",
    "pdf.section_title(\"Profile\")\n",
    "pdf.section_body(\n",
    "    \"Experienced software engineer with a passion for developing innovative applications. \"\n",
    "    \"Proven ability to lead projects and deliver high-quality software solutions.\"\n",
    ")\n",
    "\n",
    "# 경력\n",
    "pdf.section_title(\"Experience\")\n",
    "jobs = [\n",
    "    (\"Senior Developer\", \"XYZ Company\", \"2019 - Present\"),\n",
    "    (\"Software Engineer\", \"ABC Corp\", \"2015 - 2019\"),\n",
    "    (\"Intern Developer\", \"Tech Startup\", \"2013 - 2015\"),\n",
    "]\n",
    "\n",
    "for title, company, date in jobs:\n",
    "    pdf.set_font(\"Arial\", style=\"B\", size=12)\n",
    "    pdf.cell(0, 8, f\"{title} at {company} ({date})\", ln=True)\n",
    "    pdf.set_font(\"Arial\", size=12)\n",
    "    pdf.multi_cell(\n",
    "        0,\n",
    "        8,\n",
    "        \"Responsible for developing software applications, managing teams, \"\n",
    "        \"and collaborating on projects with clients.\",\n",
    "    )\n",
    "    pdf.ln(3)\n",
    "\n",
    "# 기술 스택\n",
    "pdf.section_title(\"Technical Skills\")\n",
    "skills = [\"Python\", \"JavaScript\", \"React\", \"Django\", \"SQL\", \"AWS\"]\n",
    "pdf.set_font(\"Arial\", size=12)\n",
    "pdf.multi_cell(0, 8, \", \".join(skills))\n",
    "\n",
    "pdf.output(\"./data/resume.pdf\")"
   ]
  },
  {
   "cell_type": "markdown",
   "metadata": {},
   "source": [
    "## 3. 잡지 스타일의 PDF 페이지\n",
    "- 이제 더 복잡한 레이아웃을 가진 잡지 스타일의 PDF를 만들어 보겠습니다."
   ]
  },
  {
   "cell_type": "code",
   "execution_count": null,
   "metadata": {},
   "outputs": [
    {
     "name": "stderr",
     "output_type": "stream",
     "text": [
      "/var/folders/h8/dk4pn1l11_5f5z7pscs8gr0r0000gn/T/ipykernel_12319/3352731234.py:5: DeprecationWarning: Substituting font arial by core font helvetica - This is deprecated since v2.7.8, and will soon be removed\n",
      "  self.set_font(\"Arial\", style=\"B\", size=20)\n",
      "/var/folders/h8/dk4pn1l11_5f5z7pscs8gr0r0000gn/T/ipykernel_12319/3352731234.py:6: DeprecationWarning: The parameter \"ln\" is deprecated since v2.5.2. Instead of ln=True use new_x=XPos.LMARGIN, new_y=YPos.NEXT.\n",
      "  self.cell(0, 10, \"Tech Today Magazine\", ln=True, align='C')\n",
      "/var/folders/h8/dk4pn1l11_5f5z7pscs8gr0r0000gn/T/ipykernel_12319/3352731234.py:17: DeprecationWarning: Substituting font arial by core font helvetica - This is deprecated since v2.7.8, and will soon be removed\n",
      "  pdf.set_font(\"Arial\", style=\"B\", size=16)\n",
      "/var/folders/h8/dk4pn1l11_5f5z7pscs8gr0r0000gn/T/ipykernel_12319/3352731234.py:18: DeprecationWarning: The parameter \"ln\" is deprecated since v2.5.2. Instead of ln=True use new_x=XPos.LMARGIN, new_y=YPos.NEXT.\n",
      "  pdf.cell(0, 10, \"Artificial Intelligence in 2025\", ln=True)\n",
      "/var/folders/h8/dk4pn1l11_5f5z7pscs8gr0r0000gn/T/ipykernel_12319/3352731234.py:22: DeprecationWarning: Substituting font arial by core font helvetica - This is deprecated since v2.7.8, and will soon be removed\n",
      "  pdf.set_font(\"Arial\", size=12)\n",
      "/var/folders/h8/dk4pn1l11_5f5z7pscs8gr0r0000gn/T/ipykernel_12319/3352731234.py:11: DeprecationWarning: Substituting font arial by core font helvetica - This is deprecated since v2.7.8, and will soon be removed\n",
      "  self.set_font(\"Arial\", size=10)\n"
     ]
    }
   ],
   "source": [
    "from fpdf import FPDF\n",
    "\n",
    "\n",
    "class MagazinePDF(FPDF):\n",
    "    def header(self):\n",
    "        self.set_font(\"Arial\", style=\"B\", size=20)\n",
    "        self.cell(0, 10, \"Tech Today Magazine\", ln=True, align=\"C\")\n",
    "        self.ln(5)\n",
    "\n",
    "    def footer(self):\n",
    "        self.set_y(-15)\n",
    "        self.set_font(\"Arial\", size=10)\n",
    "        self.cell(0, 10, f\"Page {self.page_no()}\", align=\"C\")\n",
    "\n",
    "\n",
    "pdf = MagazinePDF()\n",
    "pdf.add_page()\n",
    "\n",
    "pdf.set_font(\"Arial\", style=\"B\", size=16)\n",
    "pdf.cell(0, 10, \"Artificial Intelligence in 2025\", ln=True)\n",
    "pdf.image(\"./data/ai_image.jpg\", x=10, y=pdf.get_y(), w=180)\n",
    "pdf.ln(105)\n",
    "\n",
    "pdf.set_font(\"Arial\", size=12)\n",
    "content = \"\"\"Artificial Intelligence (AI) continues to evolve at a rapid pace. \n",
    "By 2025, AI is expected to significantly impact industries such as healthcare, finance, and transportation.\n",
    "Many experts believe AI will enhance automation, reduce costs, and improve decision-making.\"\"\"\n",
    "pdf.multi_cell(0, 10, content)\n",
    "pdf.ln(10)\n",
    "\n",
    "# 두 개의 컬럼\n",
    "pdf.set_x(10)\n",
    "pdf.cell(90, 10, \"Advancements\", border=1, fill=True)\n",
    "pdf.cell(90, 10, \"Challenges\", border=1, fill=True)\n",
    "pdf.ln()\n",
    "\n",
    "data = [\n",
    "    (\"AI-powered diagnosis\", \"Ethical Concerns\"),\n",
    "    (\"Automated customer service\", \"Job displacement\"),\n",
    "    (\"Smart transportation\", \"Data privacy risks\"),\n",
    "]\n",
    "\n",
    "for row in data:\n",
    "    for col in row:\n",
    "        pdf.cell(90, 10, col, border=1)\n",
    "    pdf.ln()\n",
    "\n",
    "pdf.output(\"./data/magazine.pdf\")"
   ]
  },
  {
   "cell_type": "markdown",
   "metadata": {},
   "source": [
    " ## PDF 마케팅 보고서 코드"
   ]
  },
  {
   "cell_type": "code",
   "execution_count": 14,
   "metadata": {},
   "outputs": [
    {
     "name": "stderr",
     "output_type": "stream",
     "text": [
      "/var/folders/h8/dk4pn1l11_5f5z7pscs8gr0r0000gn/T/ipykernel_12319/2592290775.py:7: DeprecationWarning: Substituting font arial by core font helvetica - This is deprecated since v2.7.8, and will soon be removed\n",
      "  self.set_font(\"Arial\", style=\"B\", size=18)\n",
      "/var/folders/h8/dk4pn1l11_5f5z7pscs8gr0r0000gn/T/ipykernel_12319/2592290775.py:8: DeprecationWarning: The parameter \"ln\" is deprecated since v2.5.2. Instead of ln=True use new_x=XPos.LMARGIN, new_y=YPos.NEXT.\n",
      "  self.cell(0, 10, \"Marketing Performance Report - 2024\", ln=True, align=\"C\")\n",
      "/var/folders/h8/dk4pn1l11_5f5z7pscs8gr0r0000gn/T/ipykernel_12319/2592290775.py:10: DeprecationWarning: Substituting font arial by core font helvetica - This is deprecated since v2.7.8, and will soon be removed\n",
      "  self.set_font(\"Arial\", size=12)\n",
      "/var/folders/h8/dk4pn1l11_5f5z7pscs8gr0r0000gn/T/ipykernel_12319/2592290775.py:11: DeprecationWarning: The parameter \"ln\" is deprecated since v2.5.2. Instead of ln=True use new_x=XPos.LMARGIN, new_y=YPos.NEXT.\n",
      "  self.cell(0, 10, \"Monthly Performance & Key Insights\", ln=True, align=\"C\")\n",
      "/var/folders/h8/dk4pn1l11_5f5z7pscs8gr0r0000gn/T/ipykernel_12319/2592290775.py:22: DeprecationWarning: Substituting font arial by core font helvetica - This is deprecated since v2.7.8, and will soon be removed\n",
      "  self.set_font(\"Arial\", style=\"B\", size=14)\n",
      "/var/folders/h8/dk4pn1l11_5f5z7pscs8gr0r0000gn/T/ipykernel_12319/2592290775.py:23: DeprecationWarning: The parameter \"ln\" is deprecated since v2.5.2. Instead of ln=True use new_x=XPos.LMARGIN, new_y=YPos.NEXT.\n",
      "  self.cell(0, 10, title, ln=True)\n",
      "/var/folders/h8/dk4pn1l11_5f5z7pscs8gr0r0000gn/T/ipykernel_12319/2592290775.py:28: DeprecationWarning: Substituting font arial by core font helvetica - This is deprecated since v2.7.8, and will soon be removed\n",
      "  self.set_font(\"Arial\", size=12)\n",
      "/var/folders/h8/dk4pn1l11_5f5z7pscs8gr0r0000gn/T/ipykernel_12319/2592290775.py:80: DeprecationWarning: Substituting font arial by core font helvetica - This is deprecated since v2.7.8, and will soon be removed\n",
      "  pdf.set_font(\"Arial\", size=12)\n",
      "/var/folders/h8/dk4pn1l11_5f5z7pscs8gr0r0000gn/T/ipykernel_12319/2592290775.py:82: DeprecationWarning: The parameter \"ln\" is deprecated since v2.5.2. Instead of ln=True use new_x=XPos.LMARGIN, new_y=YPos.NEXT.\n",
      "  pdf.cell(0, 8, point.replace(\"🔹 \", \"\"), ln=True)  # 🔹 이모지 삭제 후 출력\n",
      "/var/folders/h8/dk4pn1l11_5f5z7pscs8gr0r0000gn/T/ipykernel_12319/2592290775.py:17: DeprecationWarning: Substituting font arial by core font helvetica - This is deprecated since v2.7.8, and will soon be removed\n",
      "  self.set_font(\"Arial\", size=10)\n"
     ]
    }
   ],
   "source": [
    "from fpdf import FPDF\n",
    "\n",
    "\n",
    "class MarketingReport(FPDF):\n",
    "    def header(self):\n",
    "        \"\"\"헤더: 보고서 제목\"\"\"\n",
    "        self.set_font(\"Arial\", style=\"B\", size=18)\n",
    "        self.cell(0, 10, \"Marketing Performance Report - 2024\", ln=True, align=\"C\")\n",
    "        self.ln(5)\n",
    "        self.set_font(\"Arial\", size=12)\n",
    "        self.cell(0, 10, \"Monthly Performance & Key Insights\", ln=True, align=\"C\")\n",
    "        self.ln(10)\n",
    "\n",
    "    def footer(self):\n",
    "        \"\"\"푸터: 페이지 번호\"\"\"\n",
    "        self.set_y(-15)\n",
    "        self.set_font(\"Arial\", size=10)\n",
    "        self.cell(0, 10, f\"Page {self.page_no()}\", align=\"C\")\n",
    "\n",
    "    def section_title(self, title):\n",
    "        \"\"\"섹션 제목 스타일\"\"\"\n",
    "        self.set_font(\"Arial\", style=\"B\", size=14)\n",
    "        self.cell(0, 10, title, ln=True)\n",
    "        self.ln(2)\n",
    "\n",
    "    def section_body(self, text):\n",
    "        \"\"\"본문 스타일\"\"\"\n",
    "        self.set_font(\"Arial\", size=12)\n",
    "        self.multi_cell(0, 8, text)\n",
    "        self.ln(5)\n",
    "\n",
    "\n",
    "pdf = MarketingReport()\n",
    "pdf.add_page()\n",
    "\n",
    "# 📌 요약 섹션\n",
    "pdf.section_title(\"Executive Summary\")\n",
    "pdf.section_body(\n",
    "    \"The marketing team has achieved significant growth in Q1 2024, with increased \"\n",
    "    \"brand engagement and improved conversion rates. Key highlights include a 35% \"\n",
    "    \"increase in social media engagement and a 20% boost in sales from online campaigns.\"\n",
    ")\n",
    "\n",
    "# 📊 매출 데이터 표\n",
    "pdf.section_title(\"Sales Performance Data\")\n",
    "pdf.set_fill_color(200, 220, 255)\n",
    "pdf.cell(50, 10, \"Month\", border=1, fill=True)\n",
    "pdf.cell(50, 10, \"Revenue ($)\", border=1, fill=True)\n",
    "pdf.cell(50, 10, \"Conversion Rate\", border=1, fill=True)\n",
    "pdf.ln()\n",
    "\n",
    "data = [\n",
    "    (\"January\", \"50,000\", \"2.5%\"),\n",
    "    (\"February\", \"60,000\", \"3.1%\"),\n",
    "    (\"March\", \"75,000\", \"3.8%\"),\n",
    "    (\"April\", \"90,000\", \"4.5%\"),\n",
    "]\n",
    "\n",
    "for row in data:\n",
    "    for col in row:\n",
    "        pdf.cell(50, 10, col, border=1)\n",
    "    pdf.ln()\n",
    "\n",
    "pdf.ln(5)\n",
    "\n",
    "# 📷 이미지 추가 (가상의 차트)\n",
    "pdf.section_title(\"Engagement Trends\")\n",
    "pdf.image(\"./data/chart.jpg\", x=10, y=pdf.get_y(), w=100)\n",
    "pdf.ln(60)\n",
    "\n",
    "# 📈 마케팅 성과 주요 포인트\n",
    "pdf.section_title(\"Key Achievements\")\n",
    "achievements = [\n",
    "    \"🔹 35% increase in social media engagement\",\n",
    "    \"🔹 20% growth in online sales\",\n",
    "    \"🔹 15% higher customer retention rate\",\n",
    "    \"🔹 Successful influencer partnerships\",\n",
    "]\n",
    "\n",
    "pdf.set_font(\"Arial\", size=12)\n",
    "for point in achievements:\n",
    "    pdf.cell(0, 8, point.replace(\"🔹 \", \"\"), ln=True)  # 🔹 이모지 삭제 후 출력\n",
    "\n",
    "pdf.output(\"./data/marketing_report.pdf\")"
   ]
  }
 ],
 "metadata": {
  "kernelspec": {
   "display_name": "Python 3",
   "language": "python",
   "name": "python3"
  },
  "language_info": {
   "codemirror_mode": {
    "name": "ipython",
    "version": 3
   },
   "file_extension": ".py",
   "mimetype": "text/x-python",
   "name": "python",
   "nbconvert_exporter": "python",
   "pygments_lexer": "ipython3",
   "version": "3.11.10"
  }
 },
 "nbformat": 4,
 "nbformat_minor": 2
}
