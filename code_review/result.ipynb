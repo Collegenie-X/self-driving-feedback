{
 "cells": [
  {
   "cell_type": "code",
   "execution_count": 1,
   "metadata": {},
   "outputs": [],
   "source": [
    "import pandas as pd"
   ]
  },
  {
   "cell_type": "code",
   "execution_count": 2,
   "metadata": {},
   "outputs": [],
   "source": [
    "data = pd.read_csv(\"../self_driving_feedback/data/survey_results.csv\")"
   ]
  },
  {
   "cell_type": "code",
   "execution_count": 3,
   "metadata": {},
   "outputs": [
    {
     "name": "stdout",
     "output_type": "stream",
     "text": [
      "<class 'pandas.core.frame.DataFrame'>\n",
      "RangeIndex: 202 entries, 0 to 201\n",
      "Data columns (total 20 columns):\n",
      " #   Column   Non-Null Count  Dtype \n",
      "---  ------   --------------  ----- \n",
      " 0   user_id  202 non-null    object\n",
      " 1   age      202 non-null    int64 \n",
      " 2   gender   202 non-null    bool  \n",
      " 3   region   202 non-null    object\n",
      " 4   q1       202 non-null    int64 \n",
      " 5   q2       202 non-null    int64 \n",
      " 6   q3       202 non-null    int64 \n",
      " 7   q4       202 non-null    int64 \n",
      " 8   q5       202 non-null    int64 \n",
      " 9   q6       202 non-null    int64 \n",
      " 10  q7       202 non-null    int64 \n",
      " 11  q8       202 non-null    int64 \n",
      " 12  q9       202 non-null    int64 \n",
      " 13  q10      202 non-null    int64 \n",
      " 14  q11      202 non-null    int64 \n",
      " 15  q12      202 non-null    int64 \n",
      " 16  q13      202 non-null    int64 \n",
      " 17  q14      202 non-null    int64 \n",
      " 18  q15      202 non-null    int64 \n",
      " 19  q16      202 non-null    int64 \n",
      "dtypes: bool(1), int64(17), object(2)\n",
      "memory usage: 30.3+ KB\n"
     ]
    }
   ],
   "source": [
    "data.info()"
   ]
  },
  {
   "cell_type": "code",
   "execution_count": 4,
   "metadata": {},
   "outputs": [
    {
     "data": {
      "text/plain": [
       "age\n",
       "15     5\n",
       "16     6\n",
       "17     5\n",
       "18     4\n",
       "19     2\n",
       "20     3\n",
       "21     5\n",
       "22     7\n",
       "23     6\n",
       "24     1\n",
       "25     6\n",
       "26     3\n",
       "27     3\n",
       "28     6\n",
       "29     8\n",
       "30     2\n",
       "31     3\n",
       "32     3\n",
       "33     1\n",
       "34     2\n",
       "35     4\n",
       "36     4\n",
       "37     4\n",
       "38     9\n",
       "39     5\n",
       "40     5\n",
       "41     5\n",
       "42     7\n",
       "43     4\n",
       "44     3\n",
       "45     1\n",
       "46     5\n",
       "47     5\n",
       "48     2\n",
       "49     6\n",
       "50     4\n",
       "51     6\n",
       "52     1\n",
       "53    10\n",
       "54     4\n",
       "55     4\n",
       "56     6\n",
       "57     2\n",
       "58    10\n",
       "59     5\n",
       "Name: count, dtype: int64"
      ]
     },
     "execution_count": 4,
     "metadata": {},
     "output_type": "execute_result"
    }
   ],
   "source": [
    "data[\"age\"].value_counts().sort_index()"
   ]
  }
 ],
 "metadata": {
  "kernelspec": {
   "display_name": "venv",
   "language": "python",
   "name": "python3"
  },
  "language_info": {
   "codemirror_mode": {
    "name": "ipython",
    "version": 3
   },
   "file_extension": ".py",
   "mimetype": "text/x-python",
   "name": "python",
   "nbconvert_exporter": "python",
   "pygments_lexer": "ipython3",
   "version": "3.13.2"
  }
 },
 "nbformat": 4,
 "nbformat_minor": 2
}
