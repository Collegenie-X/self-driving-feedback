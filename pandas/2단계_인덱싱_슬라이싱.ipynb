{
 "cells": [
  {
   "cell_type": "markdown",
   "metadata": {},
   "source": [
    "### 1. 인덱싱 (Indexing)\n",
    "- 인덱싱은 pandas에서 특정 **행(row)**이나 **열(column)**을 선택하는 기본적인 방법입니다. pandas에서 인덱싱을 수행하는 주요 방법은 loc[], iloc[], 그리고 간단한 열 이름 인덱싱이 있습니다."
   ]
  },
  {
   "cell_type": "markdown",
   "metadata": {},
   "source": [
    "### 기본 열 인덱싱"
   ]
  },
  {
   "cell_type": "code",
   "execution_count": null,
   "metadata": {},
   "outputs": [
    {
     "name": "stdout",
     "output_type": "stream",
     "text": [
      "0      Alice\n",
      "1        Bob\n",
      "2    Charlie\n",
      "Name: name, dtype: object\n"
     ]
    }
   ],
   "source": [
    "import pandas as pd\n",
    "\n",
    "df = pd.DataFrame(\n",
    "    {\"name\": [\"Alice\", \"Bob\", \"Charlie\"], \n",
    "     \"age\": [25, 30, 35], \n",
    "     \"score\": [85, 90, 88]}\n",
    ")\n",
    "\n",
    "# 'name' 열을 선택\n",
    "print(df[\"name\"])"
   ]
  },
  {
   "cell_type": "markdown",
   "metadata": {},
   "source": [
    "### 행 인덱싱 (iloc, loc)\n",
    "- loc[]: 레이블 기반 인덱싱, 즉 인덱스 이름(레이블)을 기준으로 행/열을 선택합니다.\n",
    "- iloc[]: 위치 기반 인덱싱, 즉 행/열의 정수 위치를 기준으로 선택합니다."
   ]
  },
  {
   "cell_type": "code",
   "execution_count": null,
   "metadata": {},
   "outputs": [
    {
     "name": "stdout",
     "output_type": "stream",
     "text": [
      "name     Alice\n",
      "age         25\n",
      "score       85\n",
      "Name: 0, dtype: object\n",
      "Alice\n",
      "name     Alice\n",
      "age         25\n",
      "score       85\n",
      "Name: 0, dtype: object\n",
      "25\n"
     ]
    }
   ],
   "source": [
    "# loc[]: 인덱스 레이블로 선택\n",
    "print(df.loc[0])  # 첫 번째 행 선택 (0번 인덱스)\n",
    "print(df.loc[0, \"name\"])  # 첫 번째 행의 'name' 열 값 선택\n",
    "\n",
    "# iloc[]: 위치(정수 인덱스)로 선택\n",
    "print(df.iloc[0])  # 첫 번째 행 선택\n",
    "print(df.iloc[0, 1])  # 첫 번째 행의 두 번째 열 값 ('age') 선택"
   ]
  },
  {
   "cell_type": "code",
   "execution_count": null,
   "metadata": {},
   "outputs": [
    {
     "name": "stdout",
     "output_type": "stream",
     "text": [
      "      name  score\n",
      "0    Alice     85\n",
      "1      Bob     90\n",
      "2  Charlie     88\n"
     ]
    }
   ],
   "source": [
    "# 여러 열 선택\n",
    "print(df[[\"name\", \"score\"]])"
   ]
  },
  {
   "cell_type": "markdown",
   "metadata": {},
   "source": [
    "## 슬라이싱 (Slicing)\n",
    "\n",
    "- 슬라이싱은 연속적인 행 또는 열을 선택할 때 사용됩니다. iloc[]와 loc[] 모두 슬라이싱을 지원합니다. 이 때 iloc[]는 정수 인덱스를, loc[]는 레이블 기반으로 슬라이싱을 합니다.\n",
    "\n",
    "> 2.1 행 슬라이싱\n",
    "- **iloc[]**는 정수 인덱스 범위로 슬라이싱할 때 사용합니다.\n",
    "- **loc[]**는 인덱스 레이블 범위로 슬라이싱할 때 사용합니다."
   ]
  },
  {
   "cell_type": "code",
   "execution_count": null,
   "metadata": {},
   "outputs": [
    {
     "name": "stdout",
     "output_type": "stream",
     "text": [
      "      name  age  score\n",
      "1      Bob   30     90\n",
      "2  Charlie   35     88\n",
      "      name  age  score\n",
      "1      Bob   30     90\n",
      "2  Charlie   35     88\n"
     ]
    }
   ],
   "source": [
    "# iloc[]로 행 슬라이싱\n",
    "print(df.iloc[1:3])  # 두 번째와 세 번째 행 선택\n",
    "\n",
    "# loc[]로 행 슬라이싱\n",
    "print(df.loc[1:2])  # 1번과 2번 레이블을 가진 행 선택"
   ]
  },
  {
   "cell_type": "code",
   "execution_count": null,
   "metadata": {},
   "outputs": [
    {
     "name": "stdout",
     "output_type": "stream",
     "text": [
      "      name  age\n",
      "0    Alice   25\n",
      "1      Bob   30\n",
      "2  Charlie   35\n",
      "      name  score\n",
      "0    Alice     85\n",
      "1      Bob     90\n",
      "2  Charlie     88\n"
     ]
    }
   ],
   "source": [
    "# iloc[]로 열 슬라이싱\n",
    "print(df.iloc[:, 0:2])  # 첫 번째와 두 번째 열 선택\n",
    "\n",
    "# loc[]로 열 슬라이싱\n",
    "print(df.loc[:, [\"name\", \"score\"]])  # 'name'과 'score' 열 선택"
   ]
  },
  {
   "cell_type": "code",
   "execution_count": null,
   "metadata": {},
   "outputs": [
    {
     "name": "stdout",
     "output_type": "stream",
     "text": [
      "   age  score\n",
      "0   25     85\n",
      "1   30     90\n",
      "\n",
      "    name  score\n",
      "0  Alice     85\n",
      "1    Bob     90\n"
     ]
    }
   ],
   "source": [
    "# iloc[]로 행과 열 동시에 슬라이싱\n",
    "print(df.iloc[0:2, 1:3])  # 첫 번째와 두 번째 행, 두 번째와 세 번째 열 선택\n",
    "print()\n",
    "# loc[]로 행과 열 동시에 슬라이싱\n",
    "print(df.loc[0:1, [\"name\", \"score\"]])  # 첫 번째와 두 번째 행의 'name'과 'score' 열 선택"
   ]
  },
  {
   "cell_type": "markdown",
   "metadata": {},
   "source": [
    "### 조건부 인덱싱 (Conditional Indexing)\n",
    "- 조건부 인덱싱은 특정 조건을 만족하는 데이터만 선택하는 방법입니다. pandas에서 조건문을 이용하여 데이터를 필터링할 수 있습니다. 조건은 열에 대해 직접 적용할 수 있습니다."
   ]
  },
  {
   "cell_type": "code",
   "execution_count": null,
   "metadata": {},
   "outputs": [
    {
     "name": "stdout",
     "output_type": "stream",
     "text": [
      "      name  age  score\n",
      "1      Bob   30     90\n",
      "2  Charlie   35     88\n"
     ]
    }
   ],
   "source": [
    "# 'age'가 30 이상인 행 선택\n",
    "print(df[df[\"age\"] >= 30])"
   ]
  },
  {
   "cell_type": "markdown",
   "metadata": {},
   "source": [
    "> 여러 조건을 결합하여 AND (&), OR (|), NOT (~) 연산자를 사용할 수 있습니다.\n",
    "\n",
    "- AND: & (괄호를 사용해야 합니다)\n",
    "- OR: |\n",
    "- NOT: ~"
   ]
  },
  {
   "cell_type": "code",
   "execution_count": null,
   "metadata": {},
   "outputs": [
    {
     "name": "stdout",
     "output_type": "stream",
     "text": [
      "  name  age  score\n",
      "1  Bob   30     90\n",
      "\n",
      "      name  age  score\n",
      "0    Alice   25     85\n",
      "1      Bob   30     90\n",
      "2  Charlie   35     88\n",
      "\n",
      "    name  age  score\n",
      "0  Alice   25     85\n"
     ]
    }
   ],
   "source": [
    "# 'age'가 30 이상이고 'score'가 90 이상인 행 선택\n",
    "print(df[(df[\"age\"] >= 30) & (df[\"score\"] >= 90)])\n",
    "print()\n",
    "\n",
    "# 'age'가 30 이상 또는 'score'가 85 이상인 행 선택\n",
    "print(df[(df[\"age\"] >= 30) | (df[\"score\"] >= 85)])\n",
    "print()\n",
    "\n",
    "# 'age'가 30 미만인 행 선택\n",
    "print(df[~(df[\"age\"] >= 30)])"
   ]
  },
  {
   "cell_type": "code",
   "execution_count": null,
   "metadata": {},
   "outputs": [
    {
     "name": "stdout",
     "output_type": "stream",
     "text": [
      "      name  age  score\n",
      "0    Alice   25     85\n",
      "1      Bob   30    100\n",
      "2  Charlie   35    100\n"
     ]
    }
   ],
   "source": [
    "# 'age'가 30 이상인 행의 'score' 값을 100으로 수정\n",
    "df.loc[df[\"age\"] >= 30, \"score\"] = 100\n",
    "print(df)"
   ]
  },
  {
   "cell_type": "code",
   "execution_count": null,
   "metadata": {},
   "outputs": [
    {
     "name": "stdout",
     "output_type": "stream",
     "text": [
      "      name  age  score\n",
      "1      Bob   30    100\n",
      "2  Charlie   35    100\n"
     ]
    }
   ],
   "source": [
    "# query() 함수로 'age'가 30 이상이고 'score'가 90 이상인 행 선택\n",
    "print(df.query(\"age >= 30 and score >= 90\"))"
   ]
  },
  {
   "cell_type": "markdown",
   "metadata": {},
   "source": [
    "## 실전 예시: 데이터 필터링과 분석\n",
    "> 실제로 데이터를 처리할 때, 조건부 인덱싱을 활용하여 데이터를 필터링하고, 특정 조건에 맞는 통계량을 계산할 수 있습니다."
   ]
  },
  {
   "cell_type": "code",
   "execution_count": null,
   "metadata": {},
   "outputs": [
    {
     "name": "stdout",
     "output_type": "stream",
     "text": [
      "Average age of students with score >= 85: 32.5\n",
      "      name  score\n",
      "1      Bob     90\n",
      "2  Charlie     88\n",
      "3    David     92\n"
     ]
    }
   ],
   "source": [
    "# 예시 데이터프레임\n",
    "df = pd.DataFrame(\n",
    "    {\n",
    "        \"name\": [\"Alice\", \"Bob\", \"Charlie\", \"David\"],\n",
    "        \"age\": [25, 30, 35, 40],\n",
    "        \"score\": [85, 90, 88, 92],\n",
    "    }\n",
    ")\n",
    "\n",
    "# 'score'가 85 이상인 학생들의 나이 평균\n",
    "average_age = df[df[\"score\"] >= 85][\"age\"].mean()\n",
    "print(f\"Average age of students with score >= 85: {average_age}\")\n",
    "\n",
    "# 'age'가 30 이상이고 'score'가 88 이상인 학생들의 이름과 점수\n",
    "filtered_df = df[(df[\"age\"] >= 30) & (df[\"score\"] >= 88)][[\"name\", \"score\"]]\n",
    "print(filtered_df)"
   ]
  }
 ],
 "metadata": {
  "kernelspec": {
   "display_name": "Python 3",
   "language": "python",
   "name": "python3"
  },
  "language_info": {
   "codemirror_mode": {
    "name": "ipython",
    "version": 3
   },
   "file_extension": ".py",
   "mimetype": "text/x-python",
   "name": "python",
   "nbconvert_exporter": "python",
   "pygments_lexer": "ipython3",
   "version": "3.11.10"
  }
 },
 "nbformat": 4,
 "nbformat_minor": 2
}
