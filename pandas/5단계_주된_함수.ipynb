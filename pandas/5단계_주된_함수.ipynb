{
 "cells": [
  {
   "cell_type": "code",
   "execution_count": 1,
   "metadata": {},
   "outputs": [
    {
     "name": "stdout",
     "output_type": "stream",
     "text": [
      "   Age         Salary\n",
      "0   59   48032.536637\n",
      "1   31   78659.672604\n",
      "2   46   87902.521215\n",
      "3   20   93250.837329\n",
      "4   43  102126.506806\n"
     ]
    }
   ],
   "source": [
    "import pandas as pd\n",
    "\n",
    "# CSV 파일을 읽어 DataFrame으로 변환\n",
    "df = pd.read_csv('./data/large_dataset.csv', delimiter=',', header=0, encoding='utf-8')\n",
    "\n",
    "# 불러온 데이터의 첫 5개 행을 출력\n",
    "print(df.head())"
   ]
  },
  {
   "cell_type": "markdown",
   "metadata": {},
   "source": [
    "> 옵션\n",
    "- delimiter: 구분자 지정 (기본값은 쉼표 ,).\n",
    "- header: 첫 번째 행을 열 이름으로 사용 (기본값은 0, 첫 번째 행이 열 이름).\n",
    "- encoding: 파일의 문자 인코딩 (예: 'utf-8', 'latin1')."
   ]
  },
  {
   "cell_type": "code",
   "execution_count": 2,
   "metadata": {},
   "outputs": [],
   "source": [
    "# DataFrame을 CSV 파일로 저장\n",
    "df.to_csv('output.csv', index=False, header=True, encoding='utf-8')\n"
   ]
  },
  {
   "cell_type": "markdown",
   "metadata": {},
   "source": [
    "> 옵션\n",
    "- index: 인덱스를 CSV에 저장할지 여부. False로 설정하면 인덱스는 저장되지 않습니다.\n",
    "- header: 열 이름을 CSV 파일에 포함할지 여부.\n",
    "- encoding: 저장할 때의 문자 인코딩 방식."
   ]
  },
  {
   "cell_type": "markdown",
   "metadata": {},
   "source": [
    "## 1.1. head() & tail()\n",
    "- head(): DataFrame의 첫 번째 N개의 행을 반환합니다. 기본값은 5입니다.\n",
    "- tail(): DataFrame의 마지막 N개의 행을 반환합니다. 기본값은 5입니다."
   ]
  },
  {
   "cell_type": "code",
   "execution_count": 1,
   "metadata": {},
   "outputs": [
    {
     "data": {
      "text/html": [
       "<div>\n",
       "<style scoped>\n",
       "    .dataframe tbody tr th:only-of-type {\n",
       "        vertical-align: middle;\n",
       "    }\n",
       "\n",
       "    .dataframe tbody tr th {\n",
       "        vertical-align: top;\n",
       "    }\n",
       "\n",
       "    .dataframe thead th {\n",
       "        text-align: right;\n",
       "    }\n",
       "</style>\n",
       "<table border=\"1\" class=\"dataframe\">\n",
       "  <thead>\n",
       "    <tr style=\"text-align: right;\">\n",
       "      <th></th>\n",
       "      <th>Name</th>\n",
       "      <th>Age</th>\n",
       "      <th>Salary</th>\n",
       "    </tr>\n",
       "  </thead>\n",
       "  <tbody>\n",
       "    <tr>\n",
       "      <th>0</th>\n",
       "      <td>Alice</td>\n",
       "      <td>24</td>\n",
       "      <td>50000</td>\n",
       "    </tr>\n",
       "    <tr>\n",
       "      <th>1</th>\n",
       "      <td>Bob</td>\n",
       "      <td>27</td>\n",
       "      <td>55000</td>\n",
       "    </tr>\n",
       "    <tr>\n",
       "      <th>2</th>\n",
       "      <td>Charlie</td>\n",
       "      <td>22</td>\n",
       "      <td>45000</td>\n",
       "    </tr>\n",
       "    <tr>\n",
       "      <th>3</th>\n",
       "      <td>David</td>\n",
       "      <td>32</td>\n",
       "      <td>70000</td>\n",
       "    </tr>\n",
       "    <tr>\n",
       "      <th>4</th>\n",
       "      <td>Eva</td>\n",
       "      <td>0</td>\n",
       "      <td>65000</td>\n",
       "    </tr>\n",
       "  </tbody>\n",
       "</table>\n",
       "</div>"
      ],
      "text/plain": [
       "      Name  Age  Salary\n",
       "0    Alice   24   50000\n",
       "1      Bob   27   55000\n",
       "2  Charlie   22   45000\n",
       "3    David   32   70000\n",
       "4      Eva    0   65000"
      ]
     },
     "execution_count": 1,
     "metadata": {},
     "output_type": "execute_result"
    }
   ],
   "source": [
    "import pandas as pd\n",
    "import random \n",
    "\n",
    "# 데이터프레임 생성\n",
    "data = {'Name': ['Alice', 'Bob', 'Charlie', 'David', 'Eva'],\n",
    "        'Age': [24, 27, 22, 32, 0],\n",
    "        'Salary': [50000, 55000, 45000, 70000, 65000]}\n",
    "\n",
    "df = pd.DataFrame(data)\n",
    "df "
   ]
  },
  {
   "cell_type": "code",
   "execution_count": 3,
   "metadata": {},
   "outputs": [
    {
     "name": "stdout",
     "output_type": "stream",
     "text": [
      "     Name  Salary  Age\n",
      "0     Eve   52554   33\n",
      "1  Hannah   46924   49\n",
      "2    John   60054   39\n",
      "3   Grace   58644   39\n",
      "4     Ivy   40909   25\n",
      "\n",
      "     Name  Salary  Age\n",
      "17  David   57539   39\n",
      "18    Ivy   50321   24\n",
      "19  Alice   61854   42\n"
     ]
    }
   ],
   "source": [
    "\n",
    "names = ['John', 'Alice', 'Bob', 'Charlie', 'David', 'Eve', 'Frank', 'Grace', 'Hannah', 'Ivy']\n",
    "\n",
    "# Generate random data for the dataframe\n",
    "data = {\n",
    "    'Name': [random.choice(names) for _ in range(20)],\n",
    "    'Salary': [random.randint(40000, 80000) for _ in range(20)],\n",
    "    'Age': [random.randint(20, 50) for _ in range(20)]\n",
    "}\n",
    "\n",
    "\n",
    "df = pd.DataFrame(data)\n",
    "\n",
    "print(df.head())  # 처음 5행 출력\n",
    "print() \n",
    "print(df.tail(3))  # 마지막 3행 출력\n"
   ]
  },
  {
   "cell_type": "markdown",
   "metadata": {},
   "source": []
  },
  {
   "cell_type": "markdown",
   "metadata": {},
   "source": [
    "옵션\n",
    "- verbose: True로 설정하면 더 자세한 정보를 표시합니다.\n",
    "- memory_usage: deep으로 설정하면 메모리 사용량에 대한 정보를 더 정확하게 제공합니다."
   ]
  },
  {
   "cell_type": "code",
   "execution_count": 3,
   "metadata": {},
   "outputs": [
    {
     "name": "stdout",
     "output_type": "stream",
     "text": [
      "<class 'pandas.core.frame.DataFrame'>\n",
      "RangeIndex: 20 entries, 0 to 19\n",
      "Data columns (total 3 columns):\n",
      " #   Column  Non-Null Count  Dtype \n",
      "---  ------  --------------  ----- \n",
      " 0   Name    20 non-null     object\n",
      " 1   Salary  20 non-null     int64 \n",
      " 2   Age     20 non-null     int64 \n",
      "dtypes: int64(2), object(1)\n",
      "memory usage: 612.0+ bytes\n",
      "None\n"
     ]
    }
   ],
   "source": [
    "print(df.info()) \n"
   ]
  },
  {
   "cell_type": "markdown",
   "metadata": {},
   "source": [
    "- 숫자형 컬럼의 기초 통계량을 요약해서 보여줍니다.\n",
    "- 평균, 표준편차, 최소값, 25%, 50%, 75% 분위수 및 최대값 등을 계산합니다."
   ]
  },
  {
   "cell_type": "code",
   "execution_count": 4,
   "metadata": {},
   "outputs": [
    {
     "data": {
      "text/html": [
       "<div>\n",
       "<style scoped>\n",
       "    .dataframe tbody tr th:only-of-type {\n",
       "        vertical-align: middle;\n",
       "    }\n",
       "\n",
       "    .dataframe tbody tr th {\n",
       "        vertical-align: top;\n",
       "    }\n",
       "\n",
       "    .dataframe thead th {\n",
       "        text-align: right;\n",
       "    }\n",
       "</style>\n",
       "<table border=\"1\" class=\"dataframe\">\n",
       "  <thead>\n",
       "    <tr style=\"text-align: right;\">\n",
       "      <th></th>\n",
       "      <th>Salary</th>\n",
       "      <th>Age</th>\n",
       "    </tr>\n",
       "  </thead>\n",
       "  <tbody>\n",
       "    <tr>\n",
       "      <th>count</th>\n",
       "      <td>20.000000</td>\n",
       "      <td>20.000000</td>\n",
       "    </tr>\n",
       "    <tr>\n",
       "      <th>mean</th>\n",
       "      <td>62619.050000</td>\n",
       "      <td>40.250000</td>\n",
       "    </tr>\n",
       "    <tr>\n",
       "      <th>std</th>\n",
       "      <td>11053.101567</td>\n",
       "      <td>7.411762</td>\n",
       "    </tr>\n",
       "    <tr>\n",
       "      <th>min</th>\n",
       "      <td>43614.000000</td>\n",
       "      <td>27.000000</td>\n",
       "    </tr>\n",
       "    <tr>\n",
       "      <th>25%</th>\n",
       "      <td>55109.750000</td>\n",
       "      <td>34.750000</td>\n",
       "    </tr>\n",
       "    <tr>\n",
       "      <th>50%</th>\n",
       "      <td>64502.500000</td>\n",
       "      <td>42.500000</td>\n",
       "    </tr>\n",
       "    <tr>\n",
       "      <th>75%</th>\n",
       "      <td>70467.250000</td>\n",
       "      <td>45.250000</td>\n",
       "    </tr>\n",
       "    <tr>\n",
       "      <th>max</th>\n",
       "      <td>79289.000000</td>\n",
       "      <td>50.000000</td>\n",
       "    </tr>\n",
       "  </tbody>\n",
       "</table>\n",
       "</div>"
      ],
      "text/plain": [
       "             Salary        Age\n",
       "count     20.000000  20.000000\n",
       "mean   62619.050000  40.250000\n",
       "std    11053.101567   7.411762\n",
       "min    43614.000000  27.000000\n",
       "25%    55109.750000  34.750000\n",
       "50%    64502.500000  42.500000\n",
       "75%    70467.250000  45.250000\n",
       "max    79289.000000  50.000000"
      ]
     },
     "execution_count": 4,
     "metadata": {},
     "output_type": "execute_result"
    }
   ],
   "source": [
    "df.describe() "
   ]
  },
  {
   "cell_type": "code",
   "execution_count": 5,
   "metadata": {},
   "outputs": [
    {
     "name": "stdout",
     "output_type": "stream",
     "text": [
      "Name      object\n",
      "Salary     int64\n",
      "Age        int64\n",
      "dtype: object\n"
     ]
    }
   ],
   "source": [
    "print(df.dtypes)"
   ]
  },
  {
   "cell_type": "code",
   "execution_count": 2,
   "metadata": {},
   "outputs": [
    {
     "name": "stdout",
     "output_type": "stream",
     "text": [
      "      Name  Age  Salary\n",
      "3    David   32   70000\n",
      "4      Eva    0   65000\n",
      "1      Bob   27   55000\n",
      "0    Alice   24   50000\n",
      "2  Charlie   22   45000\n"
     ]
    }
   ],
   "source": [
    "# Salary 기준으로 내림차순 정렬\n",
    "df_sorted = df.sort_values(by='Salary', ascending=False)\n",
    "print(df_sorted)\n"
   ]
  },
  {
   "cell_type": "code",
   "execution_count": 3,
   "metadata": {},
   "outputs": [
    {
     "name": "stdout",
     "output_type": "stream",
     "text": [
      "Age          38.483890\n",
      "Salary    74923.669575\n",
      "dtype: float64\n"
     ]
    }
   ],
   "source": [
    "# 모든 숫자형 열의 평균값을 계산\n",
    "print(df.mean())"
   ]
  },
  {
   "cell_type": "code",
   "execution_count": 4,
   "metadata": {},
   "outputs": [
    {
     "name": "stdout",
     "output_type": "stream",
     "text": [
      "Age          39.000000\n",
      "Salary    74978.045283\n",
      "dtype: float64\n"
     ]
    }
   ],
   "source": [
    "# 모든 숫자형 열의 중앙값을 계산\n",
    "print(df.median())"
   ]
  },
  {
   "cell_type": "code",
   "execution_count": 5,
   "metadata": {},
   "outputs": [
    {
     "name": "stdout",
     "output_type": "stream",
     "text": [
      "Age           59.000000\n",
      "Salary    119999.012474\n",
      "dtype: float64\n"
     ]
    }
   ],
   "source": [
    "# 모든 숫자형 열에서 최대값을 찾기\n",
    "print(df.max())\n"
   ]
  },
  {
   "cell_type": "markdown",
   "metadata": {},
   "source": [
    "> values_count() 사용법\n",
    "- 열의 고유값 개수 세기"
   ]
  },
  {
   "cell_type": "code",
   "execution_count": 10,
   "metadata": {},
   "outputs": [
    {
     "data": {
      "text/plain": [
       "Age\n",
       "51    2458\n",
       "48    2447\n",
       "43    2444\n",
       "42    2442\n",
       "28    2424\n",
       "32    2423\n",
       "19    2418\n",
       "46    2410\n",
       "58    2410\n",
       "24    2408\n",
       "21    2407\n",
       "20    2407\n",
       "54    2406\n",
       "49    2406\n",
       "41    2403\n",
       "18    2400\n",
       "30    2397\n",
       "34    2393\n",
       "31    2389\n",
       "37    2384\n",
       "26    2384\n",
       "23    2382\n",
       "45    2381\n",
       "52    2380\n",
       "59    2377\n",
       "22    2374\n",
       "53    2370\n",
       "29    2364\n",
       "33    2361\n",
       "38    2356\n",
       "40    2352\n",
       "27    2346\n",
       "36    2345\n",
       "35    2344\n",
       "44    2344\n",
       "50    2340\n",
       "56    2339\n",
       "55    2335\n",
       "39    2334\n",
       "57    2325\n",
       "47    2312\n",
       "25    2279\n",
       "Name: count, dtype: int64"
      ]
     },
     "execution_count": 10,
     "metadata": {},
     "output_type": "execute_result"
    }
   ],
   "source": [
    "# 'category' 열에서 고유값의 개수를 세기\n",
    "category_counts = df['Age'].astype(int).value_counts()\n",
    "category_counts"
   ]
  },
  {
   "cell_type": "markdown",
   "metadata": {},
   "source": [
    "> sort_values(): 지정된 열의 값에 따라 데이터 정렬"
   ]
  },
  {
   "cell_type": "code",
   "execution_count": 14,
   "metadata": {},
   "outputs": [
    {
     "data": {
      "text/html": [
       "<div>\n",
       "<style scoped>\n",
       "    .dataframe tbody tr th:only-of-type {\n",
       "        vertical-align: middle;\n",
       "    }\n",
       "\n",
       "    .dataframe tbody tr th {\n",
       "        vertical-align: top;\n",
       "    }\n",
       "\n",
       "    .dataframe thead th {\n",
       "        text-align: right;\n",
       "    }\n",
       "</style>\n",
       "<table border=\"1\" class=\"dataframe\">\n",
       "  <thead>\n",
       "    <tr style=\"text-align: right;\">\n",
       "      <th></th>\n",
       "      <th>index</th>\n",
       "      <th>Age</th>\n",
       "      <th>Salary</th>\n",
       "    </tr>\n",
       "  </thead>\n",
       "  <tbody>\n",
       "    <tr>\n",
       "      <th>0</th>\n",
       "      <td>0</td>\n",
       "      <td>59</td>\n",
       "      <td>48032.536637</td>\n",
       "    </tr>\n",
       "    <tr>\n",
       "      <th>1</th>\n",
       "      <td>8886</td>\n",
       "      <td>59</td>\n",
       "      <td>108435.498531</td>\n",
       "    </tr>\n",
       "    <tr>\n",
       "      <th>2</th>\n",
       "      <td>39844</td>\n",
       "      <td>59</td>\n",
       "      <td>59187.564597</td>\n",
       "    </tr>\n",
       "    <tr>\n",
       "      <th>3</th>\n",
       "      <td>8896</td>\n",
       "      <td>59</td>\n",
       "      <td>73649.339149</td>\n",
       "    </tr>\n",
       "    <tr>\n",
       "      <th>4</th>\n",
       "      <td>39840</td>\n",
       "      <td>59</td>\n",
       "      <td>107808.296924</td>\n",
       "    </tr>\n",
       "    <tr>\n",
       "      <th>...</th>\n",
       "      <td>...</td>\n",
       "      <td>...</td>\n",
       "      <td>...</td>\n",
       "    </tr>\n",
       "    <tr>\n",
       "      <th>99995</th>\n",
       "      <td>37359</td>\n",
       "      <td>18</td>\n",
       "      <td>32680.283847</td>\n",
       "    </tr>\n",
       "    <tr>\n",
       "      <th>99996</th>\n",
       "      <td>96825</td>\n",
       "      <td>18</td>\n",
       "      <td>67740.307082</td>\n",
       "    </tr>\n",
       "    <tr>\n",
       "      <th>99997</th>\n",
       "      <td>83306</td>\n",
       "      <td>18</td>\n",
       "      <td>32998.826711</td>\n",
       "    </tr>\n",
       "    <tr>\n",
       "      <th>99998</th>\n",
       "      <td>83312</td>\n",
       "      <td>18</td>\n",
       "      <td>34718.768703</td>\n",
       "    </tr>\n",
       "    <tr>\n",
       "      <th>99999</th>\n",
       "      <td>68997</td>\n",
       "      <td>18</td>\n",
       "      <td>62765.631479</td>\n",
       "    </tr>\n",
       "  </tbody>\n",
       "</table>\n",
       "<p>100000 rows × 3 columns</p>\n",
       "</div>"
      ],
      "text/plain": [
       "       index  Age         Salary\n",
       "0          0   59   48032.536637\n",
       "1       8886   59  108435.498531\n",
       "2      39844   59   59187.564597\n",
       "3       8896   59   73649.339149\n",
       "4      39840   59  107808.296924\n",
       "...      ...  ...            ...\n",
       "99995  37359   18   32680.283847\n",
       "99996  96825   18   67740.307082\n",
       "99997  83306   18   32998.826711\n",
       "99998  83312   18   34718.768703\n",
       "99999  68997   18   62765.631479\n",
       "\n",
       "[100000 rows x 3 columns]"
      ]
     },
     "execution_count": 14,
     "metadata": {},
     "output_type": "execute_result"
    }
   ],
   "source": [
    "# 'score' 열을 기준으로 내림차순 정렬\n",
    "df_sorted = df.sort_values(by='Age', ascending=False).reset_index()\n",
    "df_sorted\n"
   ]
  },
  {
   "cell_type": "code",
   "execution_count": 6,
   "metadata": {},
   "outputs": [
    {
     "name": "stdout",
     "output_type": "stream",
     "text": [
      "Age          18.000000\n",
      "Salary    30000.211438\n",
      "dtype: float64\n"
     ]
    }
   ],
   "source": [
    "# 모든 숫자형 열에서 최소값을 찾기\n",
    "print(df.min())"
   ]
  },
  {
   "cell_type": "markdown",
   "metadata": {},
   "source": [
    "> drop(): 지정된 열이나 행 삭제"
   ]
  },
  {
   "cell_type": "code",
   "execution_count": 7,
   "metadata": {},
   "outputs": [
    {
     "name": "stdout",
     "output_type": "stream",
     "text": [
      "       Name  Salary\n",
      "0     Grace   43614\n",
      "1    Hannah   48316\n",
      "2   Charlie   76991\n",
      "3       Ivy   66261\n",
      "4   Charlie   64952\n",
      "5      John   74969\n",
      "6       Ivy   62999\n",
      "7       Bob   58488\n",
      "8   Charlie   59719\n",
      "9     Grace   77217\n",
      "10     John   70270\n",
      "11  Charlie   49493\n",
      "12     John   64053\n",
      "13  Charlie   66663\n",
      "14      Bob   67017\n",
      "15    Frank   71059\n",
      "16    David   56982\n",
      "17    Grace   45897\n",
      "18    David   48132\n",
      "19      Bob   79289\n",
      "\n",
      "       Name  Salary  Age\n",
      "1    Hannah   48316   49\n",
      "2   Charlie   76991   47\n",
      "3       Ivy   66261   45\n",
      "4   Charlie   64952   35\n",
      "5      John   74969   28\n",
      "6       Ivy   62999   50\n",
      "7       Bob   58488   43\n",
      "8   Charlie   59719   28\n",
      "9     Grace   77217   46\n",
      "10     John   70270   37\n",
      "11  Charlie   49493   43\n",
      "12     John   64053   32\n",
      "13  Charlie   66663   44\n",
      "14      Bob   67017   27\n",
      "15    Frank   71059   42\n",
      "16    David   56982   40\n",
      "17    Grace   45897   50\n",
      "18    David   48132   34\n",
      "19      Bob   79289   40\n"
     ]
    }
   ],
   "source": [
    "# 'Age' 열 삭제\n",
    "df_dropped = df.drop('Age', axis=1)\n",
    "print(df_dropped)\n",
    "print()\n",
    "\n",
    "# 첫 번째 행 삭제\n",
    "df_dropped_row = df.drop(0, axis=0)\n",
    "print(df_dropped_row)\n"
   ]
  },
  {
   "cell_type": "markdown",
   "metadata": {},
   "source": [
    "## 1.7. groupby()\n",
    "- 특정 컬럼을 기준으로 그룹화한 후, 집계 함수(mean(), sum(), count() 등)를 적용할 수 있습니다."
   ]
  },
  {
   "cell_type": "code",
   "execution_count": 8,
   "metadata": {},
   "outputs": [
    {
     "name": "stdout",
     "output_type": "stream",
     "text": [
      "Age\n",
      "27    67017.0\n",
      "28    67344.0\n",
      "32    64053.0\n",
      "34    48132.0\n",
      "35    64952.0\n",
      "37    70270.0\n",
      "40    68135.5\n",
      "42    71059.0\n",
      "43    53990.5\n",
      "44    66663.0\n",
      "45    54937.5\n",
      "46    77217.0\n",
      "47    76991.0\n",
      "49    48316.0\n",
      "50    54448.0\n",
      "Name: Salary, dtype: float64\n"
     ]
    }
   ],
   "source": [
    "# 'Age' 기준으로 그룹화하고, 'Salary'의 평균값 계산\n",
    "df_grouped = df.groupby('Age')['Salary'].mean()\n",
    "print(df_grouped)\n"
   ]
  },
  {
   "cell_type": "code",
   "execution_count": 5,
   "metadata": {},
   "outputs": [
    {
     "name": "stdout",
     "output_type": "stream",
     "text": [
      "         Age  Salary\n",
      "Name                \n",
      "Alice     31   49348\n",
      "Charlie   39   77395\n",
      "David     38   58027\n",
      "Eve       33   52554\n",
      "Frank     47   79569\n",
      "Grace     39   58644\n",
      "Hannah    49   46924\n",
      "Ivy       35   49560\n",
      "John      45   58663\n"
     ]
    }
   ],
   "source": [
    "# 'Name'을 기준으로 그룹화하여 평균 나이(Age)와 평균 급여(Salary)를 계산\n",
    "grouped_df = df.groupby('Name')[['Age', 'Salary']].mean().astype(int)\n",
    "\n",
    "print(grouped_df)\n"
   ]
  },
  {
   "cell_type": "code",
   "execution_count": 7,
   "metadata": {},
   "outputs": [
    {
     "name": "stdout",
     "output_type": "stream",
     "text": [
      "Name\n",
      "Alice      51904\n",
      "Charlie    77395\n",
      "David      64517\n",
      "Eve        52554\n",
      "Frank      79569\n",
      "Grace      58644\n",
      "Hannah     46924\n",
      "Ivy        53506\n",
      "John       58663\n",
      "Name: Salary, dtype: int64\n"
     ]
    }
   ],
   "source": [
    "# 'Age'가 30 이상인 사람들만 선택하여, 'Name'을 기준으로 그룹화하고 평균 급여 계산\n",
    "grouped_age = df[df['Age'] >= 30].groupby('Name')['Salary'].mean().astype(int)\n",
    "\n",
    "print(grouped_age)\n"
   ]
  },
  {
   "cell_type": "markdown",
   "metadata": {},
   "source": [
    "## 1.8. apply()\n",
    "- DataFrame이나 Series의 각 원소에 대해 사용자 정의 함수를 적용할 수 있습니다."
   ]
  },
  {
   "cell_type": "code",
   "execution_count": 16,
   "metadata": {},
   "outputs": [
    {
     "data": {
      "text/plain": [
       "Name\n",
       "Alice      51,904 $\n",
       "Charlie    77,395 $\n",
       "David      64,517 $\n",
       "Eve        52,554 $\n",
       "Frank      79,569 $\n",
       "Grace      58,644 $\n",
       "Hannah     46,924 $\n",
       "Ivy        53,506 $\n",
       "John       58,663 $\n",
       "Name: Salary, dtype: object"
      ]
     },
     "execution_count": 16,
     "metadata": {},
     "output_type": "execute_result"
    }
   ],
   "source": [
    "grouped_age = df[df['Age'] >= 30].groupby('Name')['Salary'].mean() \\\n",
    "              .astype(int).apply(lambda x:f'{x:,} $')\n",
    "grouped_age"
   ]
  },
  {
   "cell_type": "code",
   "execution_count": 9,
   "metadata": {},
   "outputs": [
    {
     "name": "stdout",
     "output_type": "stream",
     "text": [
      "       Name  Salary  Age  Age_plus_5\n",
      "0     Grace   43614   45          50\n",
      "1    Hannah   48316   49          54\n",
      "2   Charlie   76991   47          52\n",
      "3       Ivy   66261   45          50\n",
      "4   Charlie   64952   35          40\n",
      "5      John   74969   28          33\n",
      "6       Ivy   62999   50          55\n",
      "7       Bob   58488   43          48\n",
      "8   Charlie   59719   28          33\n",
      "9     Grace   77217   46          51\n",
      "10     John   70270   37          42\n",
      "11  Charlie   49493   43          48\n",
      "12     John   64053   32          37\n",
      "13  Charlie   66663   44          49\n",
      "14      Bob   67017   27          32\n",
      "15    Frank   71059   42          47\n",
      "16    David   56982   40          45\n",
      "17    Grace   45897   50          55\n",
      "18    David   48132   34          39\n",
      "19      Bob   79289   40          45\n"
     ]
    }
   ],
   "source": [
    "# 나이에 5를 더하는 함수 적용\n",
    "df['Age_plus_5'] = df['Age'].apply(lambda x: x + 5)\n",
    "print(df)\n"
   ]
  },
  {
   "cell_type": "markdown",
   "metadata": {},
   "source": [
    "## 1.9 merge()\n",
    "- 두 개 이상의 DataFrame을 공통된 열 또는 인덱스를 기준으로 병합할 수 있습니다."
   ]
  },
  {
   "cell_type": "code",
   "execution_count": 10,
   "metadata": {},
   "outputs": [
    {
     "name": "stdout",
     "output_type": "stream",
     "text": [
      "   ID     Name  Salary\n",
      "0   1    Alice   50000\n",
      "1   2      Bob   60000\n",
      "2   3  Charlie   70000\n"
     ]
    }
   ],
   "source": [
    "df1 = pd.DataFrame({'ID': [1, 2, 3], 'Name': ['Alice', 'Bob', 'Charlie']})\n",
    "df2 = pd.DataFrame({'ID': [1, 2, 3], 'Salary': [50000, 60000, 70000]})\n",
    "\n",
    "# 'ID' 열을 기준으로 병합\n",
    "df_merged = pd.merge(df1, df2, on='ID')\n",
    "print(df_merged)\n"
   ]
  },
  {
   "cell_type": "markdown",
   "metadata": {},
   "source": [
    "## 1.10. pivot_table()\n",
    "- 데이터를 피벗 테이블 형식으로 변환하여 그룹화하고 집계할 수 있습니다."
   ]
  },
  {
   "cell_type": "code",
   "execution_count": 8,
   "metadata": {},
   "outputs": [
    {
     "name": "stdout",
     "output_type": "stream",
     "text": [
      "Name    Alice  Charlie    David      Eve    Frank    Grace   Hannah      Ivy  \\\n",
      "Age                                                                            \n",
      "21    44185.0      NaN      NaN      NaN      NaN      NaN      NaN      NaN   \n",
      "24        NaN      NaN      NaN      NaN      NaN      NaN      NaN  50321.0   \n",
      "25        NaN      NaN      NaN      NaN      NaN      NaN      NaN  40909.0   \n",
      "29    49400.0      NaN  45049.0      NaN      NaN      NaN      NaN      NaN   \n",
      "33    41954.0      NaN      NaN  52554.0      NaN      NaN      NaN      NaN   \n",
      "38        NaN  76599.0      NaN      NaN      NaN      NaN      NaN      NaN   \n",
      "39        NaN      NaN  57539.0      NaN      NaN  58644.0      NaN      NaN   \n",
      "40        NaN  78191.0      NaN      NaN      NaN      NaN      NaN      NaN   \n",
      "42    61854.0      NaN      NaN      NaN      NaN      NaN      NaN      NaN   \n",
      "43        NaN      NaN      NaN      NaN      NaN      NaN      NaN  55366.0   \n",
      "46        NaN      NaN      NaN      NaN      NaN      NaN      NaN      NaN   \n",
      "47        NaN      NaN  71495.0      NaN  79569.0      NaN      NaN      NaN   \n",
      "49        NaN      NaN      NaN      NaN      NaN      NaN  46924.0  51646.0   \n",
      "50        NaN      NaN      NaN      NaN      NaN      NaN      NaN      NaN   \n",
      "\n",
      "Name     John  \n",
      "Age            \n",
      "21        NaN  \n",
      "24        NaN  \n",
      "25        NaN  \n",
      "29        NaN  \n",
      "33        NaN  \n",
      "38        NaN  \n",
      "39    60054.0  \n",
      "40        NaN  \n",
      "42        NaN  \n",
      "43        NaN  \n",
      "46    50837.0  \n",
      "47        NaN  \n",
      "49        NaN  \n",
      "50    65099.0  \n"
     ]
    }
   ],
   "source": [
    "# 'Age'를 행으로, 'Name'을 열로, 'Salary'를 값으로 하는 피벗 테이블\n",
    "pivot_df = df.pivot(index='Age', columns='Name', values='Salary')\n",
    "\n",
    "print(pivot_df)\n"
   ]
  },
  {
   "cell_type": "code",
   "execution_count": 10,
   "metadata": {},
   "outputs": [
    {
     "name": "stdout",
     "output_type": "stream",
     "text": [
      "     Salary\n",
      "Age        \n",
      "21    44185\n",
      "24    50321\n",
      "25    40909\n",
      "29    47224\n",
      "33    47254\n",
      "38    76599\n",
      "39    58745\n",
      "40    78191\n",
      "42    61854\n",
      "43    55366\n",
      "46    50837\n",
      "47    75532\n",
      "49    49285\n",
      "50    65099\n"
     ]
    }
   ],
   "source": [
    "# 'Age'를 기준으로 그룹화하여 평균 급여 계산\n",
    "pivot_table_df = df.pivot_table(index='Age', values='Salary', aggfunc='mean').astype(int)\n",
    "\n",
    "print(pivot_table_df)\n"
   ]
  },
  {
   "cell_type": "code",
   "execution_count": 14,
   "metadata": {},
   "outputs": [
    {
     "name": "stdout",
     "output_type": "stream",
     "text": [
      "             Salary\n",
      "Department         \n",
      "HR          60823.5\n",
      "IT          61095.5\n"
     ]
    }
   ],
   "source": [
    "# Department별 평균 Salary 계산\n",
    "departments = ['HR', 'IT']\n",
    "\n",
    "# Generate random data\n",
    "data_department_salary = {\n",
    "    'Department': [random.choice(departments) for _ in range(100)],\n",
    "    'Salary': [random.randint(40000, 80000) for _ in range(100)]\n",
    "}\n",
    "\n",
    "df = pd.DataFrame(data_department_salary)\n",
    "\n",
    "df_pivot = round(df.pivot_table(values='Salary', index='Department', aggfunc='mean'),1)\n",
    "print(df_pivot)\n"
   ]
  },
  {
   "cell_type": "markdown",
   "metadata": {},
   "source": [
    "## 1.11. fillna()\n",
    "- 결측치를 채우는 메서드로, 결측치를 특정 값이나 함수로 채울 수 있습니다.\n"
   ]
  },
  {
   "cell_type": "code",
   "execution_count": 18,
   "metadata": {},
   "outputs": [
    {
     "data": {
      "text/html": [
       "<div>\n",
       "<style scoped>\n",
       "    .dataframe tbody tr th:only-of-type {\n",
       "        vertical-align: middle;\n",
       "    }\n",
       "\n",
       "    .dataframe tbody tr th {\n",
       "        vertical-align: top;\n",
       "    }\n",
       "\n",
       "    .dataframe thead th {\n",
       "        text-align: right;\n",
       "    }\n",
       "</style>\n",
       "<table border=\"1\" class=\"dataframe\">\n",
       "  <thead>\n",
       "    <tr style=\"text-align: right;\">\n",
       "      <th></th>\n",
       "      <th>Department</th>\n",
       "      <th>Salary</th>\n",
       "    </tr>\n",
       "  </thead>\n",
       "  <tbody>\n",
       "    <tr>\n",
       "      <th>0</th>\n",
       "      <td>IT</td>\n",
       "      <td>68909</td>\n",
       "    </tr>\n",
       "    <tr>\n",
       "      <th>1</th>\n",
       "      <td>HR</td>\n",
       "      <td>61368</td>\n",
       "    </tr>\n",
       "    <tr>\n",
       "      <th>2</th>\n",
       "      <td>HR</td>\n",
       "      <td>0</td>\n",
       "    </tr>\n",
       "    <tr>\n",
       "      <th>3</th>\n",
       "      <td>HR</td>\n",
       "      <td>68394</td>\n",
       "    </tr>\n",
       "    <tr>\n",
       "      <th>4</th>\n",
       "      <td>IT</td>\n",
       "      <td>0</td>\n",
       "    </tr>\n",
       "    <tr>\n",
       "      <th>...</th>\n",
       "      <td>...</td>\n",
       "      <td>...</td>\n",
       "    </tr>\n",
       "    <tr>\n",
       "      <th>95</th>\n",
       "      <td>IT</td>\n",
       "      <td>60001</td>\n",
       "    </tr>\n",
       "    <tr>\n",
       "      <th>96</th>\n",
       "      <td>IT</td>\n",
       "      <td>0</td>\n",
       "    </tr>\n",
       "    <tr>\n",
       "      <th>97</th>\n",
       "      <td>HR</td>\n",
       "      <td>0</td>\n",
       "    </tr>\n",
       "    <tr>\n",
       "      <th>98</th>\n",
       "      <td>IT</td>\n",
       "      <td>71957</td>\n",
       "    </tr>\n",
       "    <tr>\n",
       "      <th>99</th>\n",
       "      <td>IT</td>\n",
       "      <td>61870</td>\n",
       "    </tr>\n",
       "  </tbody>\n",
       "</table>\n",
       "<p>100 rows × 2 columns</p>\n",
       "</div>"
      ],
      "text/plain": [
       "   Department  Salary\n",
       "0          IT   68909\n",
       "1          HR   61368\n",
       "2          HR       0\n",
       "3          HR   68394\n",
       "4          IT       0\n",
       "..        ...     ...\n",
       "95         IT   60001\n",
       "96         IT       0\n",
       "97         HR       0\n",
       "98         IT   71957\n",
       "99         IT   61870\n",
       "\n",
       "[100 rows x 2 columns]"
      ]
     },
     "execution_count": 18,
     "metadata": {},
     "output_type": "execute_result"
    }
   ],
   "source": [
    "import numpy as np\n",
    "\n",
    "# Generate random data\n",
    "data_department_salary_with_na = {\n",
    "    'Department': [random.choice(departments) for _ in range(100)],\n",
    "    'Salary': [random.choice([random.randint(40000, 80000), 0]) for _ in range(100)]\n",
    "}\n",
    "\n",
    "# Create DataFrame\n",
    "df = pd.DataFrame(data_department_salary_with_na)\n",
    "df"
   ]
  },
  {
   "cell_type": "code",
   "execution_count": 25,
   "metadata": {},
   "outputs": [
    {
     "data": {
      "text/html": [
       "<div>\n",
       "<style scoped>\n",
       "    .dataframe tbody tr th:only-of-type {\n",
       "        vertical-align: middle;\n",
       "    }\n",
       "\n",
       "    .dataframe tbody tr th {\n",
       "        vertical-align: top;\n",
       "    }\n",
       "\n",
       "    .dataframe thead th {\n",
       "        text-align: right;\n",
       "    }\n",
       "</style>\n",
       "<table border=\"1\" class=\"dataframe\">\n",
       "  <thead>\n",
       "    <tr style=\"text-align: right;\">\n",
       "      <th></th>\n",
       "      <th>Department</th>\n",
       "      <th>Salary</th>\n",
       "    </tr>\n",
       "  </thead>\n",
       "  <tbody>\n",
       "    <tr>\n",
       "      <th>0</th>\n",
       "      <td>IT</td>\n",
       "      <td>68910.0</td>\n",
       "    </tr>\n",
       "    <tr>\n",
       "      <th>1</th>\n",
       "      <td>HR</td>\n",
       "      <td>61370.0</td>\n",
       "    </tr>\n",
       "    <tr>\n",
       "      <th>2</th>\n",
       "      <td>HR</td>\n",
       "      <td>60120.0</td>\n",
       "    </tr>\n",
       "    <tr>\n",
       "      <th>3</th>\n",
       "      <td>HR</td>\n",
       "      <td>68390.0</td>\n",
       "    </tr>\n",
       "    <tr>\n",
       "      <th>4</th>\n",
       "      <td>IT</td>\n",
       "      <td>60120.0</td>\n",
       "    </tr>\n",
       "    <tr>\n",
       "      <th>...</th>\n",
       "      <td>...</td>\n",
       "      <td>...</td>\n",
       "    </tr>\n",
       "    <tr>\n",
       "      <th>95</th>\n",
       "      <td>IT</td>\n",
       "      <td>60000.0</td>\n",
       "    </tr>\n",
       "    <tr>\n",
       "      <th>96</th>\n",
       "      <td>IT</td>\n",
       "      <td>60120.0</td>\n",
       "    </tr>\n",
       "    <tr>\n",
       "      <th>97</th>\n",
       "      <td>HR</td>\n",
       "      <td>60120.0</td>\n",
       "    </tr>\n",
       "    <tr>\n",
       "      <th>98</th>\n",
       "      <td>IT</td>\n",
       "      <td>71960.0</td>\n",
       "    </tr>\n",
       "    <tr>\n",
       "      <th>99</th>\n",
       "      <td>IT</td>\n",
       "      <td>61870.0</td>\n",
       "    </tr>\n",
       "  </tbody>\n",
       "</table>\n",
       "<p>100 rows × 2 columns</p>\n",
       "</div>"
      ],
      "text/plain": [
       "   Department   Salary\n",
       "0          IT  68910.0\n",
       "1          HR  61370.0\n",
       "2          HR  60120.0\n",
       "3          HR  68390.0\n",
       "4          IT  60120.0\n",
       "..        ...      ...\n",
       "95         IT  60000.0\n",
       "96         IT  60120.0\n",
       "97         HR  60120.0\n",
       "98         IT  71960.0\n",
       "99         IT  61870.0\n",
       "\n",
       "[100 rows x 2 columns]"
      ]
     },
     "execution_count": 25,
     "metadata": {},
     "output_type": "execute_result"
    }
   ],
   "source": [
    "mean_salary = df['Salary'][df['Salary'] != 0].mean()  # 0을 제외한 평균값\n",
    "df['Salary'] = round(df['Salary'].replace(0, mean_salary))\n",
    "df"
   ]
  },
  {
   "cell_type": "code",
   "execution_count": 30,
   "metadata": {},
   "outputs": [
    {
     "name": "stdout",
     "output_type": "stream",
     "text": [
      "      Name   Age\n",
      "0    Frank   NaN\n",
      "1      Bob   NaN\n",
      "2    David  35.0\n",
      "3    Grace  47.0\n",
      "4     John  40.0\n",
      "..     ...   ...\n",
      "95  Hannah   NaN\n",
      "96   Alice  38.0\n",
      "97     Eve   NaN\n",
      "98  Hannah  39.0\n",
      "99   Alice   NaN\n",
      "\n",
      "[100 rows x 2 columns]\n",
      "\n",
      "      Name  Age\n",
      "0    Frank   35\n",
      "1      Bob   35\n",
      "2    David   35\n",
      "3    Grace   47\n",
      "4     John   40\n",
      "..     ...  ...\n",
      "95  Hannah   35\n",
      "96   Alice   38\n",
      "97     Eve   35\n",
      "98  Hannah   39\n",
      "99   Alice   35\n",
      "\n",
      "[100 rows x 2 columns]\n"
     ]
    }
   ],
   "source": [
    "import pandas as pd\n",
    "import numpy as np\n",
    "\n",
    "# 결측값을 포함한 데이터프레임 생성\n",
    "names = ['John', 'Alice', 'Bob', 'Charlie', 'David', 'Eve', 'Frank', 'Grace', 'Hannah', 'Ivy']\n",
    "data_with_na = {\n",
    "    'Name': [random.choice(names + [None]) for _ in range(100)],\n",
    "    'Age': [random.choice([None, random.randint(20, 50)]) for _ in range(100)]\n",
    "}\n",
    "\n",
    "# Create DataFrame\n",
    "df = pd.DataFrame(data_with_na)\n",
    "print(df)\n",
    "print() \n",
    "\n",
    "# 결측값을 열의 평균값으로 채우기\n",
    "df['Age'] = df['Age'].fillna(df['Age'].mean()).astype(int)\n",
    "\n",
    "print(df)\n"
   ]
  },
  {
   "cell_type": "code",
   "execution_count": 31,
   "metadata": {},
   "outputs": [
    {
     "name": "stdout",
     "output_type": "stream",
     "text": [
      "     Name    Age  Salary\n",
      "0   False  False   False\n",
      "1   False  False   False\n",
      "2   False   True   False\n",
      "3   False  False    True\n",
      "4   False  False   False\n",
      "..    ...    ...     ...\n",
      "95  False  False    True\n",
      "96  False  False   False\n",
      "97  False  False   False\n",
      "98  False  False    True\n",
      "99  False  False   False\n",
      "\n",
      "[100 rows x 3 columns]\n",
      "\n",
      "Name       0\n",
      "Age       11\n",
      "Salary    18\n",
      "dtype: int64\n"
     ]
    }
   ],
   "source": [
    "# 수정된 코드: 확률값의 합이 1이 되도록 설정\n",
    "import pandas as pd\n",
    "import numpy as np\n",
    "\n",
    "pd.set_option('display.max_columns', None)  # None으로 설정하면 모든 열이 출력됩니다.\n",
    "pd.set_option('display.width', None)  # 열 너비를 자동으로 설정합니다.\n",
    "\n",
    "\n",
    "# 랜덤 데이터 생성\n",
    "np.random.seed(0)  # 재현 가능한 결과를 위해 시드 설정\n",
    "\n",
    "names = ['Alice', 'Bob', 'Charlie', 'David', 'Eve', 'Frank', 'Grace', 'Hannah', 'Ivy', 'Jack']\n",
    "ages = np.random.randint(18, 60, size=100)  # 18-60세의 랜덤 나이\n",
    "salaries = np.random.randint(30000, 100000, size=100)  # 30k-100k 사이의 랜덤 연봉\n",
    "\n",
    "# 일부 값을 결측값으로 만들기 위해 랜덤하게 None 값 추가\n",
    "name_choices = np.random.choice(names, size=100)\n",
    "\n",
    "# 80% 확률로 나이 선택, 20% 확률로 None\n",
    "age_choices = np.random.choice(np.append(ages, None), size=100, p=[0.9 / len(ages)] * len(ages) + [0.1])\n",
    "\n",
    "# 80% 확률로 연봉 선택, 20% 확률로 None\n",
    "salary_choices = np.random.choice(np.append(salaries, None), size=100, p=[0.9 / len(salaries)] * len(salaries) + [0.1])\n",
    "\n",
    "# 데이터프레임 생성\n",
    "df = pd.DataFrame({\n",
    "    'Name': name_choices,\n",
    "    'Age': age_choices,\n",
    "    'Salary': salary_choices\n",
    "})\n",
    "\n",
    "\n",
    "\n",
    "# 결측치 여부 확인\n",
    "print(df.isnull())\n",
    "print()\n",
    "print(df.isnull().sum())\n"
   ]
  },
  {
   "cell_type": "code",
   "execution_count": 32,
   "metadata": {},
   "outputs": [
    {
     "name": "stdout",
     "output_type": "stream",
     "text": [
      "      Name  Age  Salary\n",
      "0      Ivy   57   37997\n",
      "1      Bob   56   61785\n",
      "2      Bob    0   43907\n",
      "3    Alice   47       0\n",
      "4    David   23   63538\n",
      "..     ...  ...     ...\n",
      "95  Hannah   57       0\n",
      "96     Bob   52   80586\n",
      "97   Grace   22   81939\n",
      "98   Frank   19       0\n",
      "99   Alice   24   75663\n",
      "\n",
      "[100 rows x 3 columns]\n",
      "\n",
      "      Name   Age Salary\n",
      "0      Ivy    57  37997\n",
      "1      Bob    56  61785\n",
      "2      Bob  None  43907\n",
      "3    Alice    47   None\n",
      "4    David    23  63538\n",
      "..     ...   ...    ...\n",
      "95  Hannah    57   None\n",
      "96     Bob    52  80586\n",
      "97   Grace    22  81939\n",
      "98   Frank    19   None\n",
      "99   Alice    24  75663\n",
      "\n",
      "[100 rows x 3 columns]\n",
      "\n",
      "      Name  Age  Salary\n",
      "0      Ivy   57   37997\n",
      "1      Bob   56   61785\n",
      "2      Bob   56   43907\n",
      "3    Alice   47   43907\n",
      "4    David   23   63538\n",
      "..     ...  ...     ...\n",
      "95  Hannah   57   70800\n",
      "96     Bob   52   80586\n",
      "97   Grace   22   81939\n",
      "98   Frank   19   81939\n",
      "99   Alice   24   75663\n",
      "\n",
      "[100 rows x 3 columns]\n",
      "\n",
      "      Name  Age  Salary\n",
      "0      Ivy   57   37997\n",
      "1      Bob   56   61785\n",
      "2      Bob   47   43907\n",
      "3    Alice   47   63538\n",
      "4    David   23   63538\n",
      "..     ...  ...     ...\n",
      "95  Hannah   57   80586\n",
      "96     Bob   52   80586\n",
      "97   Grace   22   81939\n",
      "98   Frank   19   75663\n",
      "99   Alice   24   75663\n",
      "\n",
      "[100 rows x 3 columns]\n",
      "\n"
     ]
    },
    {
     "name": "stderr",
     "output_type": "stream",
     "text": [
      "/var/folders/h8/dk4pn1l11_5f5z7pscs8gr0r0000gn/T/ipykernel_4705/3779671897.py:2: FutureWarning: Downcasting object dtype arrays on .fillna, .ffill, .bfill is deprecated and will change in a future version. Call result.infer_objects(copy=False) instead. To opt-in to the future behavior, set `pd.set_option('future.no_silent_downcasting', True)`\n",
      "  df_filled_zero = df.fillna(0)\n",
      "/var/folders/h8/dk4pn1l11_5f5z7pscs8gr0r0000gn/T/ipykernel_4705/3779671897.py:12: FutureWarning: Downcasting object dtype arrays on .fillna, .ffill, .bfill is deprecated and will change in a future version. Call result.infer_objects(copy=False) instead. To opt-in to the future behavior, set `pd.set_option('future.no_silent_downcasting', True)`\n",
      "  df_filled_ffill = df.ffill()  # Deprecated method 'fillna(method=\"ffill\")' 대신 ffill() 사용\n",
      "/var/folders/h8/dk4pn1l11_5f5z7pscs8gr0r0000gn/T/ipykernel_4705/3779671897.py:17: FutureWarning: Downcasting object dtype arrays on .fillna, .ffill, .bfill is deprecated and will change in a future version. Call result.infer_objects(copy=False) instead. To opt-in to the future behavior, set `pd.set_option('future.no_silent_downcasting', True)`\n",
      "  df_filled_bfill = df.bfill()  # Deprecated method 'fillna(method=\"bfill\")' 대신 bfill() 사용\n"
     ]
    }
   ],
   "source": [
    "# 결측치를 0으로 채우기\n",
    "df_filled_zero = df.fillna(0)\n",
    "print(df_filled_zero)\n",
    "print() \n",
    "\n",
    "# 결측치를 각 열의 평균값으로 채우기\n",
    "df_filled_mean = df.fillna(df.select_dtypes(include=['number']).mean())\n",
    "print(df_filled_mean)\n",
    "print() \n",
    "\n",
    "# 결측치를 이전 값으로 채우기 (앞으로 채우기)\n",
    "df_filled_ffill = df.ffill()  # Deprecated method 'fillna(method=\"ffill\")' 대신 ffill() 사용\n",
    "print(df_filled_ffill)\n",
    "print() \n",
    "\n",
    "# 결측치를 뒤로 채우기\n",
    "df_filled_bfill = df.bfill()  # Deprecated method 'fillna(method=\"bfill\")' 대신 bfill() 사용\n",
    "print(df_filled_bfill)\n",
    "print()\n"
   ]
  },
  {
   "cell_type": "markdown",
   "metadata": {},
   "source": []
  },
  {
   "cell_type": "code",
   "execution_count": 33,
   "metadata": {},
   "outputs": [
    {
     "name": "stdout",
     "output_type": "stream",
     "text": [
      "결측치가 있는 부분:\n",
      "       Name   Age Salary\n",
      "2       Bob  None  43907\n",
      "3     Alice    47   None\n",
      "5       Ivy    42   None\n",
      "7       Eve  None  30469\n",
      "12   Hannah    54   None\n",
      "14  Charlie  None  45997\n",
      "17  Charlie  None  50165\n",
      "19      Eve  None  53306\n",
      "20  Charlie  None  75353\n",
      "21    Frank    39   None\n",
      "26   Hannah    18   None\n",
      "29      Bob    41   None\n",
      "30    Grace  None  71690\n",
      "39  Charlie    38   None\n",
      "42      Bob  None  96509\n",
      "43     Jack  None  63538\n",
      "44    Alice  None  65489\n",
      "45    Grace    33   None\n",
      "47      Eve    24   None\n",
      "64    Alice    53   None\n",
      "65      Eve    56   None\n",
      "70  Charlie    24   None\n",
      "86    David    23   None\n",
      "91    David    37   None\n",
      "92    Frank    56   None\n",
      "93   Hannah  None   None\n",
      "95   Hannah    57   None\n",
      "98    Frank    19   None\n",
      "\n"
     ]
    }
   ],
   "source": [
    "\n",
    "# 결측치가 있는 부분만 필터링하여 보여주기\n",
    "missing_data = df[df.isna().any(axis=1)]  # 결측치가 있는 행만 선택\n",
    "print(\"결측치가 있는 부분:\")\n",
    "print(missing_data)\n",
    "print() \n"
   ]
  },
  {
   "cell_type": "code",
   "execution_count": 34,
   "metadata": {},
   "outputs": [
    {
     "name": "stdout",
     "output_type": "stream",
     "text": [
      "       Name Age Salary\n",
      "0       Ivy  57  37997\n",
      "1       Bob  56  61785\n",
      "4     David  23  63538\n",
      "6       Ivy  21  41052\n",
      "8       Eve  22  78208\n",
      "..      ...  ..    ...\n",
      "90  Charlie  59  71690\n",
      "94  Charlie  30  70800\n",
      "96      Bob  52  80586\n",
      "97    Grace  22  81939\n",
      "99    Alice  24  75663\n",
      "\n",
      "[72 rows x 3 columns]\n",
      "\n",
      "      Name\n",
      "0      Ivy\n",
      "1      Bob\n",
      "2      Bob\n",
      "3    Alice\n",
      "4    David\n",
      "..     ...\n",
      "95  Hannah\n",
      "96     Bob\n",
      "97   Grace\n",
      "98   Frank\n",
      "99   Alice\n",
      "\n",
      "[100 rows x 1 columns]\n",
      "--------------------------------------------------------\n",
      "       Name Age Salary\n",
      "0       Ivy  57  37997\n",
      "1       Bob  56  61785\n",
      "4     David  23  63538\n",
      "6       Ivy  21  41052\n",
      "8       Eve  22  78208\n",
      "..      ...  ..    ...\n",
      "90  Charlie  59  71690\n",
      "94  Charlie  30  70800\n",
      "96      Bob  52  80586\n",
      "97    Grace  22  81939\n",
      "99    Alice  24  75663\n",
      "\n",
      "[72 rows x 3 columns]\n",
      "\n",
      "삭제된 행의 수: 28개\n",
      "삭제된 열의 수: 2개\n"
     ]
    }
   ],
   "source": [
    "\n",
    "\n",
    "df_dropped_rows = df.dropna(axis=0)\n",
    "print(df_dropped_rows)\n",
    "print() \n",
    "\n",
    "# 결측치가 있는 열 삭제\n",
    "df_dropped_cols = df.dropna(axis=1)\n",
    "print(df_dropped_cols)\n",
    "print(\"--------------------------------------------------------\") \n",
    "\n",
    "# 결측치가 2개 이상인 행만 삭제\n",
    "df_dropped_threshold = df.dropna(thresh=3)\n",
    "print(df_dropped_threshold)\n",
    "print() \n",
    "\n",
    "# 삭제된 행 확인\n",
    "removed_rows = df.shape[0] - df_dropped_rows.shape[0]\n",
    "print(f\"삭제된 행의 수: {removed_rows}개\")\n",
    "\n",
    "# 삭제된 열 확인\n",
    "removed_columns = df.shape[1] - df_dropped_cols.shape[1]\n",
    "print(f\"삭제된 열의 수: {removed_columns}개\")\n",
    "\n"
   ]
  },
  {
   "cell_type": "code",
   "execution_count": null,
   "metadata": {},
   "outputs": [],
   "source": []
  }
 ],
 "metadata": {
  "kernelspec": {
   "display_name": "Python 3",
   "language": "python",
   "name": "python3"
  },
  "language_info": {
   "codemirror_mode": {
    "name": "ipython",
    "version": 3
   },
   "file_extension": ".py",
   "mimetype": "text/x-python",
   "name": "python",
   "nbconvert_exporter": "python",
   "pygments_lexer": "ipython3",
   "version": "3.11.10"
  }
 },
 "nbformat": 4,
 "nbformat_minor": 2
}
