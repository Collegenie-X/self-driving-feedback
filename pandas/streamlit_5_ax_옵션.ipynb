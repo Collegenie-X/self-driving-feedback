{
 "cells": [
  {
   "cell_type": "markdown",
   "metadata": {},
   "source": [
    "아래는 `ax` 객체와 관련된 **옵션과 메서드의 상세 정리**입니다. 차트별 옵션 차이와 사용 예시까지 체계적으로 설명하겠습니다.\n",
    "\n",
    "---\n"
   ]
  },
  {
   "cell_type": "markdown",
   "metadata": {},
   "source": [
    "\n",
    "\n",
    "# ✅ **Matplotlib `ax` 객체 옵션 및 메서드 정리**\n",
    "\n",
    "`ax`(Axes)는 그래프 그리기와 관련된 주요 기능을 수행합니다.  \n",
    "모든 차트는 `ax` 메서드를 통해 직접 커스터마이징할 수 있습니다.\n",
    "\n",
    "---\n"
   ]
  },
  {
   "cell_type": "markdown",
   "metadata": {},
   "source": [
    "\n",
    "\n",
    "## 1️⃣ **공통적으로 사용되는 `ax` 메서드 (기본 요소 설정)**\n",
    "\n",
    "| 메서드 / 옵션               | 설명                                | 예시 코드 |\n",
    "|-----------------------------|-------------------------------------|------------|\n",
    "| `ax.set_title(title)`       | 차트 제목 설정                      | `ax.set_title('그래프 제목')` |\n",
    "| `ax.set_xlabel(label)`      | X축 이름 설정                      | `ax.set_xlabel('X 값')` |\n",
    "| `ax.set_ylabel(label)`      | Y축 이름 설정                      | `ax.set_ylabel('Y 값')` |\n",
    "| `ax.set_xlim(min, max)`     | X축 최소/최대값 지정               | `ax.set_xlim(0, 10)` |\n",
    "| `ax.set_ylim(min, max)`     | Y축 최소/최대값 지정               | `ax.set_ylim(-1, 1)` |\n",
    "| `ax.legend(loc='위치')`     | 범례 표시와 위치 설정               | `ax.legend(loc='upper right')` |\n",
    "| `ax.grid(True/False)`       | 격자 표시 여부                     | `ax.grid(True)` |\n",
    "| `ax.set_xticks(list)`       | X축 눈금 위치 수동 지정             | `ax.set_xticks([0, 2, 4, 6, 8, 10])` |\n",
    "| `ax.set_yticks(list)`       | Y축 눈금 위치 수동 지정             | `ax.set_yticks([-1, 0, 1])` |\n",
    "| `ax.text(x, y, 'text')`     | 특정 좌표에 텍스트 삽입             | `ax.text(5, 0, '여기!')` |\n",
    "| `ax.annotate()`             | 화살표 주석 추가                   | 아래 예시 참조 |\n",
    "\n",
    "\n",
    "✅ **주석 추가 예시**\n",
    "```python\n",
    "ax.annotate('최대값', xy=(np.pi/2, 1), xytext=(np.pi/2, 1.2),\n",
    "            arrowprops=dict(facecolor='black', arrowstyle='->'))\n",
    "```\n"
   ]
  },
  {
   "cell_type": "markdown",
   "metadata": {},
   "source": [
    "\n",
    "---\n",
    "\n",
    "## 2️⃣ **차트 유형별 `ax` 메서드와 고유 옵션**\n",
    "\n",
    "아래는 **`ax`의 차트별 주요 메서드와 옵션을 구분해서 정리**한 것입니다.\n",
    "\n",
    "---\n",
    "\n",
    "### ▶️ **ax.plot()** - **선 그래프**\n",
    "| 파라미터            | 설명                                | 예시 |\n",
    "|---------------------|-------------------------------------|------|\n",
    "| `x`, `y`            | X, Y 데이터                        | `ax.plot(x, y)` |\n",
    "| `color`             | 선 색상 (`'r'`, `'blue'` 등)      | `color='red'` |\n",
    "| `linestyle`         | 선 스타일 (`'-'`, `'--'`, `':'`) | `linestyle='--'` |\n",
    "| `linewidth`         | 선 두께                            | `linewidth=2` |\n",
    "| `marker`            | 데이터 포인트 마커                 | `marker='o'` |\n",
    "| `markersize`        | 마커 크기                          | `markersize=8` |\n",
    "| `alpha`             | 투명도 (0~1)                      | `alpha=0.5` |\n",
    "\n",
    "✅ **예시 코드**\n",
    "```python\n",
    "ax.plot(x, y1, color='blue', linestyle='--', marker='o', linewidth=2, alpha=0.7)\n",
    "```\n"
   ]
  },
  {
   "cell_type": "markdown",
   "metadata": {},
   "source": [
    "\n",
    "---\n",
    "\n",
    "### ▶️ **ax.bar() / ax.barh()** - **막대 그래프**\n",
    "| 파라미터        | 설명                      | 예시 |\n",
    "|-----------------|---------------------------|------|\n",
    "| `x`, `height`   | x 위치와 높이 지정        | `ax.bar(x, height)` |\n",
    "| `color`         | 막대 색상                 | `color='green'` |\n",
    "| `width`         | 막대 너비 (기본값 0.8)    | `width=0.5` |\n",
    "| `align`         | x축 정렬 (`'center'`, `'edge'`) | `align='center'` |\n",
    "| `edgecolor`     | 테두리 색상               | `edgecolor='black'` |\n",
    "| `alpha`         | 투명도                    | `alpha=0.7` |\n",
    "\n",
    "✅ **예시 코드**\n",
    "```python\n",
    "ax.bar(['A', 'B', 'C'], [10, 20, 15], color='skyblue', width=0.5, edgecolor='black')\n",
    "```\n"
   ]
  },
  {
   "cell_type": "markdown",
   "metadata": {},
   "source": [
    "\n",
    "---\n",
    "\n",
    "### ▶️ **ax.scatter()** - **산점도**\n",
    "| 파라미터   | 설명                         | 예시 |\n",
    "|------------|------------------------------|------|\n",
    "| `x`, `y`   | 점 좌표                      | `ax.scatter(x, y)` |\n",
    "| `s`        | 점 크기                      | `s=50` |\n",
    "| `color`    | 점 색상                     | `color='red'` |\n",
    "| `marker`   | 점 형태 (`'o'`, `'x'`, `'s'` 등) | `marker='x'` |\n",
    "| `alpha`    | 투명도                      | `alpha=0.6` |\n",
    "| `cmap`     | 컬러맵 적용 (다중 데이터 색상) | `cmap='viridis'` |\n",
    "\n",
    "✅ **예시 코드**\n",
    "```python\n",
    "ax.scatter(x, y, s=100, color='purple', marker='^', alpha=0.8)\n",
    "```\n"
   ]
  },
  {
   "cell_type": "markdown",
   "metadata": {},
   "source": [
    "\n",
    "---\n",
    "\n",
    "### ▶️ **ax.hist()** - **히스토그램**\n",
    "| 파라미터    | 설명                                | 예시 |\n",
    "|-------------|-------------------------------------|------|\n",
    "| `data`      | 데이터 리스트                      | `ax.hist(data)` |\n",
    "| `bins`      | 구간 개수                          | `bins=20` |\n",
    "| `density`   | 밀도기반으로 히스토그램 생성 (`True/False`) | `density=True` |\n",
    "| `color`     | 색상                               | `color='orange'` |\n",
    "| `alpha`     | 투명도                             | `alpha=0.7` |\n",
    "| `histtype`  | 타입 (`'bar'`, `'step'`)           | `histtype='step'` |\n",
    "\n",
    "✅ **예시 코드**\n",
    "```python\n",
    "ax.hist(data, bins=30, color='gray', alpha=0.5, density=True)\n",
    "```\n",
    "\n",
    "---\n"
   ]
  },
  {
   "cell_type": "markdown",
   "metadata": {},
   "source": [
    "\n",
    "## 3️⃣ **Axes 스타일 옵션 (모양 조정 및 테마)**\n",
    "\n",
    "| 메서드                  | 설명                                    | 예시 |\n",
    "|--------------------------|-----------------------------------------|------|\n",
    "| `ax.spines['top'].set_visible(False)` | 특정 테두리선 감추기 | `ax.spines['right'].set_visible(False)` |\n",
    "| `ax.set_facecolor('color')`          | 배경색 변경          | `ax.set_facecolor('#f0f0f0')` |\n",
    "| `ax.tick_params()`                   | 눈금(label) 스타일 변경 | `ax.tick_params(axis='x', rotation=45)` |\n",
    "\n",
    "✅ **예시 코드**\n",
    "```python\n",
    "ax.spines['top'].set_visible(False)\n",
    "ax.set_facecolor('#eaeaea')\n",
    "ax.tick_params(axis='x', rotation=45)\n",
    "```\n",
    "\n",
    "---\n"
   ]
  },
  {
   "cell_type": "markdown",
   "metadata": {},
   "source": [
    "\n",
    "## 4️⃣ **Axes 범례 옵션 (legend)**\n",
    "\n",
    "| 파라미터 | 설명                  | 예시 |\n",
    "|----------|-----------------------|------|\n",
    "| `loc`    | 범례 위치             | `'upper left'`, `'center right'` |\n",
    "| `fontsize` | 글자 크기            | `fontsize=10` |\n",
    "| `frameon` | 범례 박스 유무        | `frameon=False` |\n",
    "| `title`   | 범례 타이틀 추가      | `title='설명'` |\n",
    "\n",
    "✅ **예시 코드**\n",
    "```python\n",
    "ax.legend(loc='upper right', fontsize=12, frameon=True, title='함수')\n",
    "```\n",
    "\n",
    "---\n"
   ]
  },
  {
   "cell_type": "markdown",
   "metadata": {},
   "source": [
    "\n",
    "## 5️⃣ **Axes + Streamlit 통합 사용 예시**\n",
    "\n",
    "아래는 `ax` 옵션을 다양하게 설정한 **Streamlit 연동 예시**입니다.\n",
    "\n"
   ]
  },
  {
   "cell_type": "markdown",
   "metadata": {},
   "source": [
    "\n",
    "# ✅ **차트별 옵션 차이점 총정리**\n",
    "\n",
    "| 차트 종류         | 주요 옵션 및 차이점                     |\n",
    "|------------------|-----------------------------------------|\n",
    "| **Line plot**    | `linestyle`, `marker`, `linewidth` 등 선의 모양 |\n",
    "| **Bar plot**     | `width`, `align`, `edgecolor`, `alpha` 등 막대 속성 |\n",
    "| **Scatter plot** | `s`(크기), `marker`, `alpha`, `cmap` 등 점의 속성 |\n",
    "| **Histogram**    | `bins`, `density`, `histtype` 등 빈도와 스타일 |\n",
    "| **공통**         | 제목, 레이블, 축 범위, 범례, 그리드 등 기본 설정 |\n",
    "\n",
    "---\n",
    "\n",
    "# ✅ **결론**\n",
    "- `ax`는 **모든 차트의 핵심 조작 객체**입니다.\n",
    "- **공통 메서드 + 차트별 전용 옵션**을 조합하면 강력한 시각화를 구현할 수 있습니다.\n",
    "- `st.pyplot(fig)`으로 **Streamlit과 간단하게 연동** 가능하며, 실전 분석이나 대시보드에서 매우 유용합니다.\n",
    "\n",
    "👉 **이 구조로 각 프로젝트의 차트 커스터마이징이 가능하니, 자율주행 데이터 시각화 등에도 적용해보세요!**"
   ]
  },
  {
   "cell_type": "code",
   "execution_count": 12,
   "metadata": {},
   "outputs": [
    {
     "name": "stderr",
     "output_type": "stream",
     "text": [
      "2025-03-19 20:56:44.987 Thread 'MainThread': missing ScriptRunContext! This warning can be ignored when running in bare mode.\n",
      "2025-03-19 20:56:45.320 Thread 'MainThread': missing ScriptRunContext! This warning can be ignored when running in bare mode.\n",
      "2025-03-19 20:56:45.320 Thread 'MainThread': missing ScriptRunContext! This warning can be ignored when running in bare mode.\n"
     ]
    },
    {
     "data": {
      "text/plain": [
       "DeltaGenerator()"
      ]
     },
     "execution_count": 12,
     "metadata": {},
     "output_type": "execute_result"
    }
   ],
   "source": [
    "import matplotlib.pyplot as plt\n",
    "import numpy as np\n",
    "import streamlit as st\n",
    "\n",
    "x = np.linspace(0, 10, 100)\n",
    "y1 = np.sin(x)\n",
    "y2 = np.cos(x)\n",
    "\n",
    "fig, ax = plt.subplots(figsize=(10, 6))\n",
    "\n",
    "# 선 그래프\n",
    "ax.plot(x, y1, label=\"sin(x)\", linestyle=\"--\", marker=\"o\", color=\"blue\")\n",
    "ax.plot(x, y2, label=\"cos(x)\", linestyle=\"-\", marker=\"x\", color=\"red\")\n",
    "\n",
    "# 차트 옵션들\n",
    "ax.set_title(\"사인 & 코사인 그래프\", fontsize=16, fontweight=\"bold\")\n",
    "ax.set_xlabel(\"X축\", fontsize=14)\n",
    "ax.set_ylabel(\"Y축\", fontsize=14)\n",
    "ax.set_xlim(0, 10)\n",
    "ax.set_ylim(-1.5, 1.5)\n",
    "ax.grid(True, linestyle=\":\", linewidth=0.5, alpha=0.7)\n",
    "ax.legend(loc=\"upper right\", fontsize=12)\n",
    "\n",
    "# 눈금 설정 및 회전\n",
    "ax.set_xticks(np.arange(0, 11, 1))\n",
    "ax.tick_params(axis=\"x\", rotation=45)\n",
    "\n",
    "# 주석 추가\n",
    "ax.annotate(\n",
    "    \"sin(x) 최대\",\n",
    "    xy=(np.pi / 2, 1),\n",
    "    xytext=(np.pi / 2, 1.2),\n",
    "    arrowprops=dict(facecolor=\"black\", arrowstyle=\"->\"),\n",
    ")\n",
    "\n",
    "# 배경색\n",
    "ax.set_facecolor(\"#f5f5f5\")\n",
    "\n",
    "# Streamlit 출력\n",
    "st.pyplot(fig)"
   ]
  },
  {
   "cell_type": "markdown",
   "metadata": {},
   "source": [
    "알겠습니다!  \n",
    "Streamlit과 Matplotlib의 `ax` 객체를 **적극적으로 활용한 예시 코드 2개씩** 차트별로 제공하겠습니다.  \n",
    "각 예시는 **핵심 옵션을 포함하여 실전 프로젝트에서 바로 사용할 수 있도록** 작성하였습니다.\n",
    "\n",
    "---\n",
    "\n",
    "# ✅ **1. 선 그래프 (Line Chart) 예시**\n",
    "\n",
    "## 📌 예시 1) 기본 선 그래프 + 옵션 적용\n"
   ]
  },
  {
   "cell_type": "code",
   "execution_count": 13,
   "metadata": {},
   "outputs": [
    {
     "name": "stderr",
     "output_type": "stream",
     "text": [
      "2025-03-19 20:56:45.327 Thread 'MainThread': missing ScriptRunContext! This warning can be ignored when running in bare mode.\n",
      "2025-03-19 20:56:45.327 Thread 'MainThread': missing ScriptRunContext! This warning can be ignored when running in bare mode.\n",
      "2025-03-19 20:56:45.336 Thread 'MainThread': missing ScriptRunContext! This warning can be ignored when running in bare mode.\n",
      "2025-03-19 20:56:45.700 Thread 'MainThread': missing ScriptRunContext! This warning can be ignored when running in bare mode.\n",
      "2025-03-19 20:56:45.700 Thread 'MainThread': missing ScriptRunContext! This warning can be ignored when running in bare mode.\n"
     ]
    },
    {
     "data": {
      "text/plain": [
       "DeltaGenerator()"
      ]
     },
     "execution_count": 13,
     "metadata": {},
     "output_type": "execute_result"
    }
   ],
   "source": [
    "import streamlit as st\n",
    "import matplotlib.pyplot as plt\n",
    "import numpy as np\n",
    "\n",
    "st.title(\"📈 선 그래프 - 예시 1\")\n",
    "\n",
    "# 데이터 생성\n",
    "x = np.linspace(0, 10, 100)\n",
    "y1 = np.sin(x)\n",
    "y2 = np.cos(x)\n",
    "\n",
    "# 차트 생성\n",
    "fig, ax = plt.subplots(figsize=(10, 6))\n",
    "\n",
    "ax.plot(x, y1, label=\"sin(x)\", color=\"blue\", linestyle=\"--\", marker=\"o\", linewidth=2)\n",
    "ax.plot(x, y2, label=\"cos(x)\", color=\"red\", linestyle=\"-\", marker=\"x\", linewidth=2)\n",
    "\n",
    "# 차트 옵션\n",
    "ax.set_title(\"사인과 코사인 함수 비교\", fontsize=16, fontweight=\"bold\")\n",
    "ax.set_xlabel(\"X 값\", fontsize=14)\n",
    "ax.set_ylabel(\"Y 값\", fontsize=14)\n",
    "ax.legend(loc=\"upper right\")\n",
    "ax.grid(True, linestyle=\":\", linewidth=0.7, alpha=0.8)\n",
    "\n",
    "# 눈금 회전 및 범위 설정\n",
    "ax.set_xticks(np.arange(0, 11, 1))\n",
    "ax.set_xlim(0, 10)\n",
    "ax.set_ylim(-1.5, 1.5)\n",
    "\n",
    "# Streamlit 출력\n",
    "st.pyplot(fig)"
   ]
  },
  {
   "cell_type": "markdown",
   "metadata": {},
   "source": [
    "\n",
    "\n",
    "## 📌 예시 2) 라인 차트 + 주석(annotation), 배경색 지정\n"
   ]
  },
  {
   "cell_type": "code",
   "execution_count": 14,
   "metadata": {},
   "outputs": [
    {
     "name": "stderr",
     "output_type": "stream",
     "text": [
      "2025-03-19 20:56:45.707 Thread 'MainThread': missing ScriptRunContext! This warning can be ignored when running in bare mode.\n",
      "2025-03-19 20:56:45.707 Thread 'MainThread': missing ScriptRunContext! This warning can be ignored when running in bare mode.\n",
      "2025-03-19 20:56:45.713 Thread 'MainThread': missing ScriptRunContext! This warning can be ignored when running in bare mode.\n",
      "2025-03-19 20:56:46.028 Thread 'MainThread': missing ScriptRunContext! This warning can be ignored when running in bare mode.\n",
      "2025-03-19 20:56:46.028 Thread 'MainThread': missing ScriptRunContext! This warning can be ignored when running in bare mode.\n"
     ]
    },
    {
     "data": {
      "text/plain": [
       "DeltaGenerator()"
      ]
     },
     "execution_count": 14,
     "metadata": {},
     "output_type": "execute_result"
    }
   ],
   "source": [
    "import streamlit as st\n",
    "import matplotlib.pyplot as plt\n",
    "import numpy as np\n",
    "\n",
    "st.title(\"📈 선 그래프 - 예시 2\")\n",
    "\n",
    "x = np.linspace(0, 10, 100)\n",
    "y1 = np.sin(x)\n",
    "\n",
    "fig, ax = plt.subplots(figsize=(10, 6))\n",
    "\n",
    "ax.plot(x, y1, label=\"sin(x)\", color=\"purple\", marker=\"d\", linewidth=2)\n",
    "\n",
    "# 주석 추가\n",
    "ax.annotate(\n",
    "    \"최대값\",\n",
    "    xy=(np.pi / 2, 1),\n",
    "    xytext=(np.pi / 2, 1.2),\n",
    "    arrowprops=dict(facecolor=\"black\", arrowstyle=\"->\"),\n",
    "    fontsize=12,\n",
    ")\n",
    "\n",
    "# 배경색, 격자 스타일\n",
    "ax.set_facecolor(\"#f0f0f0\")\n",
    "ax.grid(True, linestyle=\"--\", alpha=0.5)\n",
    "\n",
    "ax.set_title(\"sin(x) 함수와 주석 표시\", fontsize=16)\n",
    "ax.set_xlabel(\"X\")\n",
    "ax.set_ylabel(\"sin(x)\")\n",
    "ax.legend()\n",
    "\n",
    "st.pyplot(fig)"
   ]
  },
  {
   "cell_type": "markdown",
   "metadata": {},
   "source": [
    "\n",
    "\n",
    "# ✅ **2. 막대 그래프 (Bar Chart) 예시**\n",
    "\n",
    "## 📌 예시 1) 기본 막대 그래프 + 데이터 값 출력\n"
   ]
  },
  {
   "cell_type": "code",
   "execution_count": 15,
   "metadata": {},
   "outputs": [
    {
     "name": "stderr",
     "output_type": "stream",
     "text": [
      "2025-03-19 20:56:46.034 Thread 'MainThread': missing ScriptRunContext! This warning can be ignored when running in bare mode.\n",
      "2025-03-19 20:56:46.035 Thread 'MainThread': missing ScriptRunContext! This warning can be ignored when running in bare mode.\n",
      "2025-03-19 20:56:46.041 Thread 'MainThread': missing ScriptRunContext! This warning can be ignored when running in bare mode.\n",
      "2025-03-19 20:56:46.164 Thread 'MainThread': missing ScriptRunContext! This warning can be ignored when running in bare mode.\n",
      "2025-03-19 20:56:46.164 Thread 'MainThread': missing ScriptRunContext! This warning can be ignored when running in bare mode.\n"
     ]
    },
    {
     "data": {
      "text/plain": [
       "DeltaGenerator()"
      ]
     },
     "execution_count": 15,
     "metadata": {},
     "output_type": "execute_result"
    }
   ],
   "source": [
    "import streamlit as st\n",
    "import matplotlib.pyplot as plt\n",
    "import numpy as np\n",
    "\n",
    "st.title(\"📊 막대 그래프 - 예시 1\")\n",
    "\n",
    "categories = [\"A\", \"B\", \"C\", \"D\"]\n",
    "values = [23, 45, 56, 78]\n",
    "\n",
    "fig, ax = plt.subplots(figsize=(8, 6))\n",
    "\n",
    "bars = ax.bar(categories, values, color=\"skyblue\", edgecolor=\"black\")\n",
    "\n",
    "ax.set_title(\"카테고리별 값\", fontsize=16)\n",
    "ax.set_xlabel(\"카테고리\", fontsize=14)\n",
    "ax.set_ylabel(\"값\", fontsize=14)\n",
    "ax.grid(True, axis=\"y\", linestyle=\"--\", alpha=0.7)\n",
    "\n",
    "# 각 막대 위에 값 표시\n",
    "for bar in bars:\n",
    "    height = bar.get_height()\n",
    "    ax.annotate(\n",
    "        f\"{height}\",\n",
    "        xy=(bar.get_x() + bar.get_width() / 2, height),\n",
    "        xytext=(0, 3),\n",
    "        textcoords=\"offset points\",\n",
    "        ha=\"center\",\n",
    "        fontsize=10,\n",
    "    )\n",
    "\n",
    "st.pyplot(fig)"
   ]
  },
  {
   "cell_type": "markdown",
   "metadata": {},
   "source": [
    "\n",
    "\n",
    "## 📌 예시 2) 수평 막대 그래프 + 색상 다양화\n"
   ]
  },
  {
   "cell_type": "code",
   "execution_count": 16,
   "metadata": {},
   "outputs": [
    {
     "name": "stderr",
     "output_type": "stream",
     "text": [
      "2025-03-19 20:56:46.170 Thread 'MainThread': missing ScriptRunContext! This warning can be ignored when running in bare mode.\n",
      "2025-03-19 20:56:46.170 Thread 'MainThread': missing ScriptRunContext! This warning can be ignored when running in bare mode.\n",
      "2025-03-19 20:56:46.176 Thread 'MainThread': missing ScriptRunContext! This warning can be ignored when running in bare mode.\n",
      "2025-03-19 20:56:46.300 Thread 'MainThread': missing ScriptRunContext! This warning can be ignored when running in bare mode.\n",
      "2025-03-19 20:56:46.301 Thread 'MainThread': missing ScriptRunContext! This warning can be ignored when running in bare mode.\n"
     ]
    },
    {
     "data": {
      "text/plain": [
       "DeltaGenerator()"
      ]
     },
     "execution_count": 16,
     "metadata": {},
     "output_type": "execute_result"
    }
   ],
   "source": [
    "import streamlit as st\n",
    "import matplotlib.pyplot as plt\n",
    "\n",
    "st.title(\"📊 막대 그래프 - 예시 2 (수평 그래프)\")\n",
    "\n",
    "categories = [\"Apple\", \"Banana\", \"Cherry\", \"Date\"]\n",
    "values = [50, 30, 40, 20]\n",
    "\n",
    "fig, ax = plt.subplots(figsize=(8, 6))\n",
    "\n",
    "bars = ax.barh(categories, values, color=[\"red\", \"yellow\", \"pink\", \"brown\"])\n",
    "\n",
    "ax.set_title(\"과일 판매량\", fontsize=16)\n",
    "ax.set_xlabel(\"판매 수량\", fontsize=14)\n",
    "ax.set_ylabel(\"과일 종류\", fontsize=14)\n",
    "ax.grid(True, axis=\"x\", linestyle=\":\", alpha=0.7)\n",
    "\n",
    "# 값 표시\n",
    "for bar in bars:\n",
    "    width = bar.get_width()\n",
    "    ax.annotate(\n",
    "        f\"{width}\",\n",
    "        xy=(width, bar.get_y() + bar.get_height() / 2),\n",
    "        xytext=(5, 0),\n",
    "        textcoords=\"offset points\",\n",
    "        va=\"center\",\n",
    "    )\n",
    "\n",
    "st.pyplot(fig)"
   ]
  },
  {
   "cell_type": "markdown",
   "metadata": {},
   "source": [
    "\n",
    "\n",
    "# ✅ **3. 영역 그래프 (Area Chart) 예시**\n",
    "\n",
    "## 📌 예시 1) 기본 영역 그래프 + 투명도 조절\n"
   ]
  },
  {
   "cell_type": "code",
   "execution_count": 17,
   "metadata": {},
   "outputs": [
    {
     "name": "stderr",
     "output_type": "stream",
     "text": [
      "2025-03-19 20:56:46.306 Thread 'MainThread': missing ScriptRunContext! This warning can be ignored when running in bare mode.\n",
      "2025-03-19 20:56:46.307 Thread 'MainThread': missing ScriptRunContext! This warning can be ignored when running in bare mode.\n",
      "2025-03-19 20:56:46.312 Thread 'MainThread': missing ScriptRunContext! This warning can be ignored when running in bare mode.\n",
      "2025-03-19 20:56:46.624 Thread 'MainThread': missing ScriptRunContext! This warning can be ignored when running in bare mode.\n",
      "2025-03-19 20:56:46.625 Thread 'MainThread': missing ScriptRunContext! This warning can be ignored when running in bare mode.\n"
     ]
    },
    {
     "data": {
      "text/plain": [
       "DeltaGenerator()"
      ]
     },
     "execution_count": 17,
     "metadata": {},
     "output_type": "execute_result"
    }
   ],
   "source": [
    "import streamlit as st\n",
    "import matplotlib.pyplot as plt\n",
    "import numpy as np\n",
    "\n",
    "st.title(\"🟢 영역 그래프 - 예시 1\")\n",
    "\n",
    "x = np.linspace(0, 10, 100)\n",
    "y1 = np.sin(x)\n",
    "y2 = np.cos(x)\n",
    "\n",
    "fig, ax = plt.subplots(figsize=(10, 6))\n",
    "\n",
    "ax.fill_between(x, y1, color=\"blue\", alpha=0.3, label=\"sin(x)\")\n",
    "ax.fill_between(x, y2, color=\"red\", alpha=0.3, label=\"cos(x)\")\n",
    "\n",
    "ax.set_title(\"sin(x) & cos(x) 영역 그래프\", fontsize=16)\n",
    "ax.set_xlabel(\"X축\")\n",
    "ax.set_ylabel(\"Y축\")\n",
    "ax.legend()\n",
    "ax.grid(True)\n",
    "\n",
    "st.pyplot(fig)"
   ]
  },
  {
   "cell_type": "markdown",
   "metadata": {},
   "source": [
    "## 📌 예시 2) 누적 영역 그래프\n",
    "\n"
   ]
  },
  {
   "cell_type": "code",
   "execution_count": 18,
   "metadata": {},
   "outputs": [
    {
     "name": "stderr",
     "output_type": "stream",
     "text": [
      "2025-03-19 20:56:46.630 Thread 'MainThread': missing ScriptRunContext! This warning can be ignored when running in bare mode.\n",
      "2025-03-19 20:56:46.631 Thread 'MainThread': missing ScriptRunContext! This warning can be ignored when running in bare mode.\n",
      "2025-03-19 20:56:46.636 Thread 'MainThread': missing ScriptRunContext! This warning can be ignored when running in bare mode.\n",
      "2025-03-19 20:56:46.957 Thread 'MainThread': missing ScriptRunContext! This warning can be ignored when running in bare mode.\n",
      "2025-03-19 20:56:46.957 Thread 'MainThread': missing ScriptRunContext! This warning can be ignored when running in bare mode.\n"
     ]
    },
    {
     "data": {
      "text/plain": [
       "DeltaGenerator()"
      ]
     },
     "execution_count": 18,
     "metadata": {},
     "output_type": "execute_result"
    }
   ],
   "source": [
    "import streamlit as st\n",
    "import matplotlib.pyplot as plt\n",
    "import numpy as np\n",
    "\n",
    "st.title(\"🟢 영역 그래프 - 예시 2 (누적 그래프)\")\n",
    "\n",
    "x = np.linspace(0, 10, 100)\n",
    "y1 = np.abs(np.sin(x))\n",
    "y2 = np.abs(np.cos(x))\n",
    "\n",
    "fig, ax = plt.subplots(figsize=(10, 6))\n",
    "\n",
    "ax.stackplot(x, y1, y2, labels=[\"sin(x)\", \"cos(x)\"], colors=[\"skyblue\", \"lightgreen\"])\n",
    "\n",
    "ax.set_title(\"누적 영역 그래프\", fontsize=16)\n",
    "ax.set_xlabel(\"X\")\n",
    "ax.set_ylabel(\"값\")\n",
    "ax.legend(loc=\"upper right\")\n",
    "ax.grid(True, linestyle=\"--\")\n",
    "\n",
    "st.pyplot(fig)"
   ]
  },
  {
   "cell_type": "markdown",
   "metadata": {},
   "source": [
    "# ✅ **4. 히스토그램 (Histogram) 예시**\n",
    "\n",
    "## 📌 예시 1) 기본 히스토그램 + 밀도 그래프 추가\n",
    "\n"
   ]
  },
  {
   "cell_type": "code",
   "execution_count": 19,
   "metadata": {},
   "outputs": [
    {
     "name": "stderr",
     "output_type": "stream",
     "text": [
      "2025-03-19 20:56:46.963 Thread 'MainThread': missing ScriptRunContext! This warning can be ignored when running in bare mode.\n",
      "2025-03-19 20:56:46.963 Thread 'MainThread': missing ScriptRunContext! This warning can be ignored when running in bare mode.\n",
      "2025-03-19 20:56:47.012 Thread 'MainThread': missing ScriptRunContext! This warning can be ignored when running in bare mode.\n",
      "2025-03-19 20:56:47.126 Thread 'MainThread': missing ScriptRunContext! This warning can be ignored when running in bare mode.\n",
      "2025-03-19 20:56:47.127 Thread 'MainThread': missing ScriptRunContext! This warning can be ignored when running in bare mode.\n"
     ]
    },
    {
     "data": {
      "text/plain": [
       "DeltaGenerator()"
      ]
     },
     "execution_count": 19,
     "metadata": {},
     "output_type": "execute_result"
    }
   ],
   "source": [
    "import streamlit as st\n",
    "import matplotlib.pyplot as plt\n",
    "import numpy as np\n",
    "\n",
    "st.title(\"📊 히스토그램 - 예시 1\")\n",
    "\n",
    "data = np.random.randn(1000)\n",
    "\n",
    "fig, ax = plt.subplots(figsize=(8, 6))\n",
    "\n",
    "ax.hist(data, bins=30, color=\"purple\", alpha=0.7, density=True)\n",
    "ax.set_title(\"정규분포 히스토그램\", fontsize=16)\n",
    "ax.set_xlabel(\"값\")\n",
    "ax.set_ylabel(\"밀도\")\n",
    "ax.grid(True)\n",
    "\n",
    "st.pyplot(fig)"
   ]
  },
  {
   "cell_type": "markdown",
   "metadata": {},
   "source": [
    "## 📌 예시 2) 다중 데이터 히스토그램 비교\n"
   ]
  },
  {
   "cell_type": "code",
   "execution_count": 20,
   "metadata": {},
   "outputs": [
    {
     "name": "stderr",
     "output_type": "stream",
     "text": [
      "2025-03-19 20:56:47.132 Thread 'MainThread': missing ScriptRunContext! This warning can be ignored when running in bare mode.\n",
      "2025-03-19 20:56:47.133 Thread 'MainThread': missing ScriptRunContext! This warning can be ignored when running in bare mode.\n",
      "2025-03-19 20:56:47.151 Thread 'MainThread': missing ScriptRunContext! This warning can be ignored when running in bare mode.\n",
      "2025-03-19 20:56:47.418 Thread 'MainThread': missing ScriptRunContext! This warning can be ignored when running in bare mode.\n",
      "2025-03-19 20:56:47.418 Thread 'MainThread': missing ScriptRunContext! This warning can be ignored when running in bare mode.\n"
     ]
    },
    {
     "data": {
      "text/plain": [
       "DeltaGenerator()"
      ]
     },
     "execution_count": 20,
     "metadata": {},
     "output_type": "execute_result"
    }
   ],
   "source": [
    "import streamlit as st\n",
    "import matplotlib.pyplot as plt\n",
    "import numpy as np\n",
    "\n",
    "st.title(\"📊 히스토그램 - 예시 2 (다중 데이터)\")\n",
    "\n",
    "data1 = np.random.randn(1000)\n",
    "data2 = np.random.randn(1000) + 2  # 이동한 정규분포\n",
    "\n",
    "fig, ax = plt.subplots(figsize=(10, 6))\n",
    "\n",
    "ax.hist(data1, bins=30, alpha=0.5, label=\"데이터1\")\n",
    "ax.hist(data2, bins=30, alpha=0.5, label=\"데이터2\")\n",
    "ax.set_title(\"두 데이터 분포 비교\", fontsize=16)\n",
    "ax.set_xlabel(\"값\")\n",
    "ax.set_ylabel(\"빈도\")\n",
    "ax.legend()\n",
    "ax.grid(True)\n",
    "\n",
    "st.pyplot(fig)"
   ]
  },
  {
   "cell_type": "markdown",
   "metadata": {},
   "source": [
    "\n",
    "# ✅ **5. 산점도 (Scatter Plot) 예시**\n",
    "\n",
    "## 📌 예시 1) 기본 산점도 + 색상과 크기 설정\n"
   ]
  },
  {
   "cell_type": "code",
   "execution_count": 21,
   "metadata": {},
   "outputs": [
    {
     "name": "stderr",
     "output_type": "stream",
     "text": [
      "2025-03-19 20:56:47.424 Thread 'MainThread': missing ScriptRunContext! This warning can be ignored when running in bare mode.\n",
      "2025-03-19 20:56:47.425 Thread 'MainThread': missing ScriptRunContext! This warning can be ignored when running in bare mode.\n",
      "2025-03-19 20:56:47.439 Thread 'MainThread': missing ScriptRunContext! This warning can be ignored when running in bare mode.\n",
      "2025-03-19 20:56:47.611 Thread 'MainThread': missing ScriptRunContext! This warning can be ignored when running in bare mode.\n",
      "2025-03-19 20:56:47.612 Thread 'MainThread': missing ScriptRunContext! This warning can be ignored when running in bare mode.\n"
     ]
    },
    {
     "data": {
      "text/plain": [
       "DeltaGenerator()"
      ]
     },
     "execution_count": 21,
     "metadata": {},
     "output_type": "execute_result"
    }
   ],
   "source": [
    "import streamlit as st\n",
    "import matplotlib.pyplot as plt\n",
    "import numpy as np\n",
    "\n",
    "st.title(\"⚫ 산점도 - 예시 1\")\n",
    "\n",
    "x = np.random.rand(100)\n",
    "y = np.random.rand(100)\n",
    "sizes = np.random.rand(100) * 500\n",
    "colors = np.random.rand(100)\n",
    "\n",
    "fig, ax = plt.subplots(figsize=(8, 6))\n",
    "\n",
    "scatter = ax.scatter(x, y, s=sizes, c=colors, cmap=\"viridis\", alpha=0.7)\n",
    "ax.set_title(\"랜덤 산점도\")\n",
    "ax.set_xlabel(\"X\")\n",
    "ax.set_ylabel(\"Y\")\n",
    "ax.grid(True)\n",
    "\n",
    "fig.colorbar(scatter)\n",
    "\n",
    "st.pyplot(fig)"
   ]
  },
  {
   "cell_type": "markdown",
   "metadata": {},
   "source": [
    "\n",
    "## 📌 예시 2) 그룹별 산점도 + 범례 추가\n"
   ]
  },
  {
   "cell_type": "code",
   "execution_count": 22,
   "metadata": {},
   "outputs": [
    {
     "name": "stderr",
     "output_type": "stream",
     "text": [
      "2025-03-19 20:56:47.617 Thread 'MainThread': missing ScriptRunContext! This warning can be ignored when running in bare mode.\n",
      "2025-03-19 20:56:47.618 Thread 'MainThread': missing ScriptRunContext! This warning can be ignored when running in bare mode.\n",
      "/var/folders/h8/dk4pn1l11_5f5z7pscs8gr0r0000gn/T/ipykernel_70930/185687015.py:14: RuntimeWarning: More than 20 figures have been opened. Figures created through the pyplot interface (`matplotlib.pyplot.figure`) are retained until explicitly closed and may consume too much memory. (To control this warning, see the rcParam `figure.max_open_warning`). Consider using `matplotlib.pyplot.close()`.\n",
      "  fig, ax = plt.subplots(figsize=(8, 6))\n",
      "2025-03-19 20:56:47.624 Thread 'MainThread': missing ScriptRunContext! This warning can be ignored when running in bare mode.\n",
      "2025-03-19 20:56:47.762 Thread 'MainThread': missing ScriptRunContext! This warning can be ignored when running in bare mode.\n",
      "2025-03-19 20:56:47.762 Thread 'MainThread': missing ScriptRunContext! This warning can be ignored when running in bare mode.\n"
     ]
    },
    {
     "data": {
      "text/plain": [
       "DeltaGenerator()"
      ]
     },
     "execution_count": 22,
     "metadata": {},
     "output_type": "execute_result"
    }
   ],
   "source": [
    "import streamlit as st\n",
    "import matplotlib.pyplot as plt\n",
    "import numpy as np\n",
    "\n",
    "st.title(\"⚫ 산점도 - 예시 2 (그룹별)\")\n",
    "\n",
    "np.random.seed(0)\n",
    "group1_x = np.random.rand(50)\n",
    "group1_y = np.random.rand(50)\n",
    "\n",
    "group2_x = np.random.rand(50)\n",
    "group2_y = np.random.rand(50)\n",
    "\n",
    "fig, ax = plt.subplots(figsize=(8, 6))\n",
    "\n",
    "ax.scatter(group1_x, group1_y, color=\"blue\", label=\"Group 1\", alpha=0.6)\n",
    "ax.scatter(group2_x, group2_y, color=\"red\", label=\"Group 2\", alpha=0.6)\n",
    "\n",
    "ax.set_title(\"그룹별 산점도\")\n",
    "ax.set_xlabel(\"X\")\n",
    "ax.set_ylabel(\"Y\")\n",
    "ax.legend()\n",
    "ax.grid(True)\n",
    "\n",
    "st.pyplot(fig)"
   ]
  },
  {
   "cell_type": "markdown",
   "metadata": {},
   "source": [
    "\n",
    "\n",
    "---\n",
    "\n",
    "# ✅ **정리**\n",
    "\n",
    "| 차트 종류 | 예시 |\n",
    "|------------|----------------|\n",
    "| **선 그래프** | 기본 선 그래프, 주석 및 배경색 추가 |\n",
    "| **막대 그래프** | 기본 세로 막대, 수평 막대 + 데이터 표시 |\n",
    "| **영역 그래프** | 기본 영역 + 누적 영역 그래프 |\n",
    "| **히스토그램** | 기본 히스토그램 + 다중 데이터 비교 |\n",
    "| **산점도** | 기본 산점도 + 그룹별 산점도 |\n",
    "\n",
    "---\n",
    "\n",
    "이 코드는 **Streamlit + Matplotlib** 환경에서 `ax` 객체를 제대로 활용한 형태입니다.  \n",
    "실전 프로젝트 (자율주행 데이터 분석 등)에서도 그대로 활용 가능하며, 필요에 따라 기능을 추가할 수 있습니다!  "
   ]
  }
 ],
 "metadata": {
  "kernelspec": {
   "display_name": "Python 3",
   "language": "python",
   "name": "python3"
  },
  "language_info": {
   "codemirror_mode": {
    "name": "ipython",
    "version": 3
   },
   "file_extension": ".py",
   "mimetype": "text/x-python",
   "name": "python",
   "nbconvert_exporter": "python",
   "pygments_lexer": "ipython3",
   "version": "3.11.10"
  }
 },
 "nbformat": 4,
 "nbformat_minor": 2
}
