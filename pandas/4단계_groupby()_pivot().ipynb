{
 "cells": [
  {
   "cell_type": "markdown",
   "metadata": {},
   "source": [
    "## groupby() 함수\n",
    "> groupby()는 주로 **열(column)**을 기준으로 데이터를 그룹화합니다. 이후 각 그룹에 대해 집계(예: 평균, 합계, 개수 등) 또는 변환을 수행할 수 있습니다."
   ]
  },
  {
   "cell_type": "code",
   "execution_count": null,
   "metadata": {},
   "outputs": [
    {
     "data": {
      "text/html": [
       "<div>\n",
       "<style scoped>\n",
       "    .dataframe tbody tr th:only-of-type {\n",
       "        vertical-align: middle;\n",
       "    }\n",
       "\n",
       "    .dataframe tbody tr th {\n",
       "        vertical-align: top;\n",
       "    }\n",
       "\n",
       "    .dataframe thead th {\n",
       "        text-align: right;\n",
       "    }\n",
       "</style>\n",
       "<table border=\"1\" class=\"dataframe\">\n",
       "  <thead>\n",
       "    <tr style=\"text-align: right;\">\n",
       "      <th></th>\n",
       "      <th>Category</th>\n",
       "      <th>Value</th>\n",
       "    </tr>\n",
       "  </thead>\n",
       "  <tbody>\n",
       "    <tr>\n",
       "      <th>0</th>\n",
       "      <td>A</td>\n",
       "      <td>10</td>\n",
       "    </tr>\n",
       "    <tr>\n",
       "      <th>1</th>\n",
       "      <td>B</td>\n",
       "      <td>20</td>\n",
       "    </tr>\n",
       "    <tr>\n",
       "      <th>2</th>\n",
       "      <td>A</td>\n",
       "      <td>30</td>\n",
       "    </tr>\n",
       "    <tr>\n",
       "      <th>3</th>\n",
       "      <td>B</td>\n",
       "      <td>40</td>\n",
       "    </tr>\n",
       "    <tr>\n",
       "      <th>4</th>\n",
       "      <td>A</td>\n",
       "      <td>50</td>\n",
       "    </tr>\n",
       "    <tr>\n",
       "      <th>5</th>\n",
       "      <td>B</td>\n",
       "      <td>60</td>\n",
       "    </tr>\n",
       "  </tbody>\n",
       "</table>\n",
       "</div>"
      ],
      "text/plain": [
       "  Category  Value\n",
       "0        A     10\n",
       "1        B     20\n",
       "2        A     30\n",
       "3        B     40\n",
       "4        A     50\n",
       "5        B     60"
      ]
     },
     "execution_count": 24,
     "metadata": {},
     "output_type": "execute_result"
    }
   ],
   "source": [
    "import pandas as pd\n",
    "\n",
    "# 예시 데이터프레임\n",
    "df = pd.DataFrame(\n",
    "    {\"Category\": [\"A\", \"B\", \"A\", \"B\", \"A\", \"B\"], \"Value\": [10, 20, 30, 40, 50, 60]}\n",
    ")\n",
    "df"
   ]
  },
  {
   "cell_type": "code",
   "execution_count": null,
   "metadata": {},
   "outputs": [
    {
     "name": "stdout",
     "output_type": "stream",
     "text": [
      "Category\n",
      "A    30.0\n",
      "B    40.0\n",
      "Name: Value, dtype: float64\n"
     ]
    }
   ],
   "source": [
    "# Category 열을 기준으로 그룹화하고, 각 그룹의 Value 합계 계산\n",
    "grouped = df.groupby(\"Category\")[\"Value\"].mean()\n",
    "print(grouped)"
   ]
  },
  {
   "cell_type": "code",
   "execution_count": 28,
   "metadata": {},
   "outputs": [
    {
     "name": "stdout",
     "output_type": "stream",
     "text": [
      "   ID  Age  Salary   JoinDate   Department\n",
      "0   1   56   88053 2020-07-14        Sales\n",
      "1   2   69   51959 2022-04-23           HR\n",
      "2   3   46   35530 2017-05-25           HR\n",
      "3   4   32   33748 2012-08-29  Engineering\n",
      "4   5   60   43545 2013-03-12        Sales\n"
     ]
    }
   ],
   "source": [
    "import pandas as pd\n",
    "import numpy as np\n",
    "\n",
    "# 임의의 데이터 생성\n",
    "np.random.seed(42)\n",
    "\n",
    "# 200개의 샘플을 생성\n",
    "data = {\n",
    "    \"ID\": range(1, 201),\n",
    "    \"Age\": np.random.randint(18, 70, 200),\n",
    "    \"Salary\": np.random.randint(30000, 120000, 200),\n",
    "    \"JoinDate\": pd.to_datetime(\n",
    "        np.random.choice(pd.date_range(\"2010-01-01\", \"2024-01-01\", freq=\"D\"), 200)\n",
    "    ),\n",
    "    \"Department\": np.random.choice([\"HR\", \"Engineering\", \"Marketing\", \"Sales\"], 200),\n",
    "}\n",
    "\n",
    "df = pd.DataFrame(data)\n",
    "\n",
    "# 예시 데이터 출력\n",
    "print(df.head())"
   ]
  },
  {
   "cell_type": "code",
   "execution_count": 29,
   "metadata": {},
   "outputs": [
    {
     "name": "stdout",
     "output_type": "stream",
     "text": [
      "<class 'pandas.core.frame.DataFrame'>\n",
      "RangeIndex: 200 entries, 0 to 199\n",
      "Data columns (total 5 columns):\n",
      " #   Column      Non-Null Count  Dtype         \n",
      "---  ------      --------------  -----         \n",
      " 0   ID          200 non-null    int64         \n",
      " 1   Age         200 non-null    int32         \n",
      " 2   Salary      200 non-null    int32         \n",
      " 3   JoinDate    200 non-null    datetime64[ns]\n",
      " 4   Department  200 non-null    object        \n",
      "dtypes: datetime64[ns](1), int32(2), int64(1), object(1)\n",
      "memory usage: 6.4+ KB\n"
     ]
    }
   ],
   "source": [
    "df.info()"
   ]
  },
  {
   "cell_type": "code",
   "execution_count": null,
   "metadata": {},
   "outputs": [
    {
     "data": {
      "text/html": [
       "<div>\n",
       "<style scoped>\n",
       "    .dataframe tbody tr th:only-of-type {\n",
       "        vertical-align: middle;\n",
       "    }\n",
       "\n",
       "    .dataframe tbody tr th {\n",
       "        vertical-align: top;\n",
       "    }\n",
       "\n",
       "    .dataframe thead th {\n",
       "        text-align: right;\n",
       "    }\n",
       "</style>\n",
       "<table border=\"1\" class=\"dataframe\">\n",
       "  <thead>\n",
       "    <tr style=\"text-align: right;\">\n",
       "      <th></th>\n",
       "      <th>Department</th>\n",
       "      <th>Salary</th>\n",
       "      <th>Age</th>\n",
       "    </tr>\n",
       "  </thead>\n",
       "  <tbody>\n",
       "    <tr>\n",
       "      <th>0</th>\n",
       "      <td>Engineering</td>\n",
       "      <td>69940.930233</td>\n",
       "      <td>39.930233</td>\n",
       "    </tr>\n",
       "    <tr>\n",
       "      <th>1</th>\n",
       "      <td>HR</td>\n",
       "      <td>74215.632353</td>\n",
       "      <td>46.632353</td>\n",
       "    </tr>\n",
       "    <tr>\n",
       "      <th>2</th>\n",
       "      <td>Marketing</td>\n",
       "      <td>78425.395349</td>\n",
       "      <td>43.534884</td>\n",
       "    </tr>\n",
       "    <tr>\n",
       "      <th>3</th>\n",
       "      <td>Sales</td>\n",
       "      <td>70936.086957</td>\n",
       "      <td>41.847826</td>\n",
       "    </tr>\n",
       "  </tbody>\n",
       "</table>\n",
       "</div>"
      ],
      "text/plain": [
       "    Department        Salary        Age\n",
       "0  Engineering  69940.930233  39.930233\n",
       "1           HR  74215.632353  46.632353\n",
       "2    Marketing  78425.395349  43.534884\n",
       "3        Sales  70936.086957  41.847826"
      ]
     },
     "execution_count": 30,
     "metadata": {},
     "output_type": "execute_result"
    }
   ],
   "source": [
    "# 부서별 평균 Salary와 Age 계산\n",
    "df_grouped = (\n",
    "    df.groupby(\"Department\").agg({\"Salary\": \"mean\", \"Age\": \"mean\"}).reset_index()\n",
    ")\n",
    "df_grouped"
   ]
  },
  {
   "cell_type": "code",
   "execution_count": null,
   "metadata": {},
   "outputs": [
    {
     "name": "stdout",
     "output_type": "stream",
     "text": [
      "    Department   Salary  Age\n",
      "0  Engineering  69,940$   39\n",
      "1           HR  74,215$   46\n",
      "2    Marketing  78,425$   43\n",
      "3        Sales  70,936$   41\n"
     ]
    }
   ],
   "source": [
    "df_grouped[\"Age\"] = df_grouped[\"Age\"].astype(int)\n",
    "df_grouped[\"Salary\"] = df_grouped[\"Salary\"].astype(int).apply(lambda x: f\"{x:,}$\")\n",
    "\n",
    "# 그룹화 결과 출력\n",
    "print(df_grouped)"
   ]
  },
  {
   "cell_type": "code",
   "execution_count": null,
   "metadata": {},
   "outputs": [
    {
     "name": "stdout",
     "output_type": "stream",
     "text": [
      "      ID  Age  Salary   JoinDate   Department AgeGroup\n",
      "0      1   56   88053 2020-07-14        Sales      50s\n",
      "1      2   69   51959 2022-04-23           HR      60s\n",
      "2      3   46   35530 2017-05-25           HR      40s\n",
      "3      4   32   33748 2012-08-29  Engineering      30s\n",
      "4      5   60   43545 2013-03-12        Sales      60s\n",
      "..   ...  ...     ...        ...          ...      ...\n",
      "195  196   69  118891 2013-05-02           HR      60s\n",
      "196  197   30  117545 2014-03-21    Marketing      30s\n",
      "197  198   58  119912 2018-11-11           HR      50s\n",
      "198  199   20  100316 2016-07-14           HR      20s\n",
      "199  200   56   32368 2020-03-08        Sales      50s\n",
      "\n",
      "[200 rows x 6 columns]\n",
      "AgeGroup\n",
      "40s    43\n",
      "50s    42\n",
      "20s    40\n",
      "60s    36\n",
      "30s    34\n",
      "Name: count, dtype: int64\n"
     ]
    }
   ],
   "source": [
    "# 나이대 생성 (20대, 30대, 40대, ...)\n",
    "df[\"AgeGroup\"] = pd.cut(\n",
    "    df[\"Age\"], bins=[18, 29, 39, 49, 59, 70], labels=[\"20s\", \"30s\", \"40s\", \"50s\", \"60s\"]\n",
    ")\n",
    "print(df)\n",
    "print(df[\"AgeGroup\"].value_counts())"
   ]
  },
  {
   "cell_type": "code",
   "execution_count": 35,
   "metadata": {},
   "outputs": [
    {
     "name": "stdout",
     "output_type": "stream",
     "text": [
      "     Department AgeGroup  Salary\n",
      "0   Engineering      20s   82927\n",
      "1   Engineering      30s   54684\n",
      "2   Engineering      40s   77273\n",
      "3   Engineering      50s   64838\n",
      "4   Engineering      60s   58671\n",
      "5            HR      20s   93663\n",
      "6            HR      30s   71029\n",
      "7            HR      40s   68392\n",
      "8            HR      50s   69270\n",
      "9            HR      60s   74467\n",
      "10    Marketing      20s   78948\n",
      "11    Marketing      30s   77102\n",
      "12    Marketing      40s   78859\n",
      "13    Marketing      50s   77060\n",
      "14    Marketing      60s   80412\n",
      "15        Sales      20s   80436\n",
      "16        Sales      30s   87935\n",
      "17        Sales      40s   56644\n",
      "18        Sales      50s   56206\n",
      "19        Sales      60s   68368\n"
     ]
    },
    {
     "name": "stderr",
     "output_type": "stream",
     "text": [
      "C:\\Users\\데스크\\AppData\\Local\\Temp\\ipykernel_11048\\3544406417.py:3: FutureWarning: The default of observed=False is deprecated and will be changed to True in a future version of pandas. Pass observed=False to retain current behavior or observed=True to adopt the future default and silence this warning.\n",
      "  df.groupby([\"Department\", \"AgeGroup\"])\n"
     ]
    }
   ],
   "source": [
    "# 부서별, 나이대별 평균 Salary 계산\n",
    "df_grouped_age = (\n",
    "    df.groupby([\"Department\", \"AgeGroup\"])\n",
    "    .agg({\"Salary\": \"mean\"})\n",
    "    .astype(int)\n",
    "    .reset_index()\n",
    ")\n",
    "\n",
    "# 결과 출력\n",
    "print(df_grouped_age)"
   ]
  },
  {
   "cell_type": "code",
   "execution_count": 37,
   "metadata": {},
   "outputs": [
    {
     "data": {
      "text/html": [
       "<div>\n",
       "<style scoped>\n",
       "    .dataframe tbody tr th:only-of-type {\n",
       "        vertical-align: middle;\n",
       "    }\n",
       "\n",
       "    .dataframe tbody tr th {\n",
       "        vertical-align: top;\n",
       "    }\n",
       "\n",
       "    .dataframe thead th {\n",
       "        text-align: right;\n",
       "    }\n",
       "</style>\n",
       "<table border=\"1\" class=\"dataframe\">\n",
       "  <thead>\n",
       "    <tr style=\"text-align: right;\">\n",
       "      <th></th>\n",
       "      <th>name</th>\n",
       "      <th>age</th>\n",
       "      <th>score</th>\n",
       "      <th>city</th>\n",
       "    </tr>\n",
       "  </thead>\n",
       "  <tbody>\n",
       "    <tr>\n",
       "      <th>0</th>\n",
       "      <td>Jack</td>\n",
       "      <td>32</td>\n",
       "      <td>66</td>\n",
       "      <td>Incheon</td>\n",
       "    </tr>\n",
       "    <tr>\n",
       "      <th>1</th>\n",
       "      <td>Jack</td>\n",
       "      <td>35</td>\n",
       "      <td>64</td>\n",
       "      <td>Seoul</td>\n",
       "    </tr>\n",
       "    <tr>\n",
       "      <th>2</th>\n",
       "      <td>Charlie</td>\n",
       "      <td>41</td>\n",
       "      <td>63</td>\n",
       "      <td>Seoul</td>\n",
       "    </tr>\n",
       "    <tr>\n",
       "      <th>3</th>\n",
       "      <td>Alice</td>\n",
       "      <td>20</td>\n",
       "      <td>72</td>\n",
       "      <td>Busan</td>\n",
       "    </tr>\n",
       "    <tr>\n",
       "      <th>4</th>\n",
       "      <td>Lee</td>\n",
       "      <td>23</td>\n",
       "      <td>96</td>\n",
       "      <td>Seoul</td>\n",
       "    </tr>\n",
       "    <tr>\n",
       "      <th>...</th>\n",
       "      <td>...</td>\n",
       "      <td>...</td>\n",
       "      <td>...</td>\n",
       "      <td>...</td>\n",
       "    </tr>\n",
       "    <tr>\n",
       "      <th>95</th>\n",
       "      <td>Alice</td>\n",
       "      <td>45</td>\n",
       "      <td>75</td>\n",
       "      <td>Busan</td>\n",
       "    </tr>\n",
       "    <tr>\n",
       "      <th>96</th>\n",
       "      <td>Ivy</td>\n",
       "      <td>30</td>\n",
       "      <td>71</td>\n",
       "      <td>Busan</td>\n",
       "    </tr>\n",
       "    <tr>\n",
       "      <th>97</th>\n",
       "      <td>Grace</td>\n",
       "      <td>40</td>\n",
       "      <td>98</td>\n",
       "      <td>Busan</td>\n",
       "    </tr>\n",
       "    <tr>\n",
       "      <th>98</th>\n",
       "      <td>Ivy</td>\n",
       "      <td>31</td>\n",
       "      <td>89</td>\n",
       "      <td>Incheon</td>\n",
       "    </tr>\n",
       "    <tr>\n",
       "      <th>99</th>\n",
       "      <td>Jack</td>\n",
       "      <td>24</td>\n",
       "      <td>61</td>\n",
       "      <td>Busan</td>\n",
       "    </tr>\n",
       "  </tbody>\n",
       "</table>\n",
       "<p>100 rows × 4 columns</p>\n",
       "</div>"
      ],
      "text/plain": [
       "       name  age  score     city\n",
       "0      Jack   32     66  Incheon\n",
       "1      Jack   35     64    Seoul\n",
       "2   Charlie   41     63    Seoul\n",
       "3     Alice   20     72    Busan\n",
       "4       Lee   23     96    Seoul\n",
       "..      ...  ...    ...      ...\n",
       "95    Alice   45     75    Busan\n",
       "96      Ivy   30     71    Busan\n",
       "97    Grace   40     98    Busan\n",
       "98      Ivy   31     89  Incheon\n",
       "99     Jack   24     61    Busan\n",
       "\n",
       "[100 rows x 4 columns]"
      ]
     },
     "execution_count": 37,
     "metadata": {},
     "output_type": "execute_result"
    }
   ],
   "source": [
    "# 데이터 생성을 위한 코드\n",
    "import pandas as pd\n",
    "import numpy as np\n",
    "\n",
    "# 난수 생성기 시드 설정 (재현성 위해)\n",
    "np.random.seed(0)\n",
    "\n",
    "# 랜덤 이름, 나이, 점수 생성\n",
    "names = [\n",
    "    \"Alice\",\n",
    "    \"Bob\",\n",
    "    \"Charlie\",\n",
    "    \"David\",\n",
    "    \"Eve\",\n",
    "    \"Frank\",\n",
    "    \"Grace\",\n",
    "    \"Hannah\",\n",
    "    \"Ivy\",\n",
    "    \"Jack\",\n",
    "    \"Kim\",\n",
    "    \"Lee\",\n",
    "]\n",
    "age = np.random.randint(20, 50, size=100)  # 나이는 20-50 사이에서 랜덤 생성\n",
    "score = np.random.randint(60, 100, size=100)  # 점수는 60-100 사이에서 랜덤 생성\n",
    "city = np.random.choice(\n",
    "    [\"Seoul\", \"Busan\", \"Incheon\"], size=100\n",
    ")  # 도시 목록에서 랜덤으로 선택\n",
    "\n",
    "# 랜덤하게 이름 선택\n",
    "name = np.random.choice(names, size=100)\n",
    "\n",
    "# DataFrame 생성\n",
    "df = pd.DataFrame(\n",
    "    {\n",
    "        \"name\": name,\n",
    "        \"age\": age.astype(int),  # int형으로 변환\n",
    "        \"score\": score.astype(int),  # int형으로 변환\n",
    "        \"city\": city,\n",
    "    }\n",
    ")\n",
    "df"
   ]
  },
  {
   "cell_type": "code",
   "execution_count": null,
   "metadata": {},
   "outputs": [
    {
     "name": "stdout",
     "output_type": "stream",
     "text": [
      "                 age  score\n",
      "city    name               \n",
      "Busan   Alice     29     84\n",
      "        Bob       38     85\n",
      "        Charlie   24     71\n",
      "        David     35     74\n",
      "        Eve       39     80\n",
      "        Grace     36     79\n",
      "        Hannah    35     70\n",
      "        Ivy       34     78\n",
      "        Jack      31     71\n",
      "        Kim       37     78\n",
      "        Lee       39     73\n",
      "Incheon Alice     36     76\n",
      "        Bob       30     73\n",
      "        David     34     69\n",
      "        Eve       40     76\n",
      "        Frank     20     79\n",
      "        Grace     38     86\n",
      "        Hannah    36     94\n",
      "        Ivy       31     82\n",
      "        Jack      35     75\n",
      "        Kim       34     79\n",
      "        Lee       32     77\n",
      "Seoul   Bob       27     80\n",
      "        Charlie   31     66\n",
      "        David     26     74\n",
      "        Eve       26     95\n",
      "        Frank     27     84\n",
      "        Hannah    34     74\n",
      "        Ivy       28     82\n",
      "        Jack      27     77\n",
      "        Kim       33     73\n",
      "        Lee       25     93\n"
     ]
    }
   ],
   "source": [
    "# 'city'를 기준으로 그룹화하여 평균 점수 계산\n",
    "grouped = df.groupby([\"city\", \"name\"]).mean().astype(int)\n",
    "print(grouped)"
   ]
  },
  {
   "cell_type": "code",
   "execution_count": null,
   "metadata": {},
   "outputs": [
    {
     "name": "stdout",
     "output_type": "stream",
     "text": [
      "         age     score      \n",
      "        mean max   max   sum\n",
      "city                        \n",
      "Busan     34  48    98  3196\n",
      "Incheon   34  49    96  2351\n",
      "Seoul     29  44    99  2285\n"
     ]
    }
   ],
   "source": [
    "# 'city'를 기준으로 'age'와 'score'에 대해 여러 집계 함수 적용\n",
    "grouped = (\n",
    "    df.groupby(\"city\")\n",
    "    .agg({\"age\": [\"mean\", \"max\"], \"score\": [\"max\", \"sum\"]})\n",
    "    .astype(int)\n",
    ")\n",
    "print(grouped)"
   ]
  },
  {
   "cell_type": "code",
   "execution_count": null,
   "metadata": {},
   "outputs": [
    {
     "name": "stdout",
     "output_type": "stream",
     "text": [
      "       name  age  score     city  normalized_score\n",
      "0      Jack   32     66  Incheon               -12\n",
      "1      Jack   35     64    Seoul               -14\n",
      "2   Charlie   41     63    Seoul               -15\n",
      "3     Alice   20     72    Busan                -5\n",
      "4      Jack   23     96    Seoul                17\n",
      "..      ...  ...    ...      ...               ...\n",
      "95   Hannah   45     75    Busan                -2\n",
      "96    Grace   30     71    Busan                -6\n",
      "97     Jack   40     98    Busan                20\n",
      "98      Eve   31     89  Incheon                10\n",
      "99      Bob   24     61    Busan               -16\n",
      "\n",
      "[100 rows x 5 columns]\n"
     ]
    }
   ],
   "source": [
    "# 그룹화 후 변환: 각 그룹의 평균을 빼서 데이터 정규화\n",
    "df[\"normalized_score\"] = (\n",
    "    df.groupby(\"city\")[\"score\"].transform(lambda x: x - x.mean()).astype(int)\n",
    ")\n",
    "print(df)"
   ]
  },
  {
   "cell_type": "markdown",
   "metadata": {},
   "source": [
    "### pivot() 함수\n",
    "> pivot() 함수는 데이터를 재구성하는 데 사용됩니다. 주로 **행(row)**과 **열(column)**을 기준으로 데이터를 변환하여 원하는 형태로 데이터를 **피벗(pivot)**할 수 있습니다. pivot()을 사용하면 인덱스와 열을 기준으로 데이터를 재구성할 수 있습니다.\n",
    "\n",
    "> - 2.1 기본 사용법\n",
    "> - pivot() 함수는 index, columns, values 매개변수를 사용하여 데이터를 재구성합니다.\n",
    "\n",
    "> - index: 행 인덱스로 사용할 열\n",
    "> - columns: 열 인덱스로 사용할 열\n",
    "> - values: 피벗할 값이 있는 열"
   ]
  },
  {
   "cell_type": "code",
   "execution_count": 6,
   "metadata": {},
   "outputs": [
    {
     "name": "stdout",
     "output_type": "stream",
     "text": [
      "   ID  Age  Salary   JoinDate   Department\n",
      "0   1   56   88053 2020-07-14        Sales\n",
      "1   2   69   51959 2022-04-23           HR\n",
      "2   3   46   35530 2017-05-25           HR\n",
      "3   4   32   33748 2012-08-29  Engineering\n",
      "4   5   60   43545 2013-03-12        Sales\n"
     ]
    }
   ],
   "source": [
    "import pandas as pd\n",
    "import numpy as np\n",
    "\n",
    "# 임의의 데이터 생성\n",
    "np.random.seed(42)\n",
    "\n",
    "# 200개의 샘플을 생성\n",
    "data = {\n",
    "    \"ID\": range(1, 201),\n",
    "    \"Age\": np.random.randint(18, 70, 200),\n",
    "    \"Salary\": np.random.randint(30000, 120000, 200),\n",
    "    \"JoinDate\": pd.to_datetime(\n",
    "        np.random.choice(pd.date_range(\"2010-01-01\", \"2024-01-01\", freq=\"D\"), 200)\n",
    "    ),\n",
    "    \"Department\": np.random.choice([\"HR\", \"Engineering\", \"Marketing\", \"Sales\"], 200),\n",
    "}\n",
    "\n",
    "df = pd.DataFrame(data)\n",
    "\n",
    "# 예시 데이터 출력\n",
    "print(df.head())"
   ]
  },
  {
   "cell_type": "code",
   "execution_count": 7,
   "metadata": {},
   "outputs": [
    {
     "name": "stdout",
     "output_type": "stream",
     "text": [
      "             Salary\n",
      "Department         \n",
      "Engineering  69,940\n",
      "HR           74,215\n",
      "Marketing    78,425\n",
      "Sales        70,936\n"
     ]
    }
   ],
   "source": [
    "# 부서별 평균 Salary 계산 (피벗)\n",
    "df_pivot = (\n",
    "    df.pivot_table(values=\"Salary\", index=\"Department\", aggfunc=\"mean\")\n",
    "    .astype(int)\n",
    "    .map(lambda x: f\"{x:,}\")\n",
    ")\n",
    "\n",
    "# 피벗 결과 출력\n",
    "print(df_pivot)"
   ]
  },
  {
   "cell_type": "code",
   "execution_count": 8,
   "metadata": {},
   "outputs": [
    {
     "name": "stdout",
     "output_type": "stream",
     "text": [
      "     Department AgeGroup  Salary\n",
      "0   Engineering      20s   82927\n",
      "1   Engineering      30s   54684\n",
      "2   Engineering      40s   77273\n",
      "3   Engineering      50s   64838\n",
      "4   Engineering      60s   58671\n",
      "5            HR      20s   93663\n",
      "6            HR      30s   71029\n",
      "7            HR      40s   68392\n",
      "8            HR      50s   69270\n",
      "9            HR      60s   74467\n",
      "10    Marketing      20s   78948\n",
      "11    Marketing      30s   77102\n",
      "12    Marketing      40s   78859\n",
      "13    Marketing      50s   77060\n",
      "14    Marketing      60s   80412\n",
      "15        Sales      20s   80436\n",
      "16        Sales      30s   87935\n",
      "17        Sales      40s   56644\n",
      "18        Sales      50s   56206\n",
      "19        Sales      60s   68368\n"
     ]
    },
    {
     "name": "stderr",
     "output_type": "stream",
     "text": [
      "/var/folders/h8/dk4pn1l11_5f5z7pscs8gr0r0000gn/T/ipykernel_10359/3405579629.py:8: FutureWarning: The default of observed=False is deprecated and will be changed to True in a future version of pandas. Pass observed=False to retain current behavior or observed=True to adopt the future default and silence this warning.\n",
      "  df.groupby([\"Department\", \"AgeGroup\"])\n"
     ]
    }
   ],
   "source": [
    "# 나이대 생성 (20대, 30대, 40대, ...)\n",
    "df[\"AgeGroup\"] = pd.cut(\n",
    "    df[\"Age\"], bins=[18, 29, 39, 49, 59, 70], labels=[\"20s\", \"30s\", \"40s\", \"50s\", \"60s\"]\n",
    ")\n",
    "\n",
    "# 부서별, 나이대별 평균 Salary 계산\n",
    "df_grouped_age = (\n",
    "    df.groupby([\"Department\", \"AgeGroup\"])\n",
    "    .agg({\"Salary\": \"mean\"})\n",
    "    .astype(int)\n",
    "    .reset_index()\n",
    ")\n",
    "\n",
    "# 결과 출력\n",
    "print(df_grouped_age)"
   ]
  },
  {
   "cell_type": "code",
   "execution_count": 9,
   "metadata": {},
   "outputs": [
    {
     "name": "stdout",
     "output_type": "stream",
     "text": [
      "              mean                                  sum                  \\\n",
      "AgeGroup       20s    30s    40s    50s    60s      20s     30s     40s   \n",
      "Department                                                                \n",
      "Engineering  82927  54684  77273  64838  58671   746350  492156  695464   \n",
      "HR           93663  71029  68392  69270  74467  1030295  568235  957493   \n",
      "Marketing    78948  77102  78859  77060  80412   631586  616822  867449   \n",
      "Sales        80436  87935  56644  56206  68368   965243  791416  509802   \n",
      "\n",
      "                               \n",
      "AgeGroup         50s      60s  \n",
      "Department                     \n",
      "Engineering   583548   234687  \n",
      "HR           1108326  1265953  \n",
      "Marketing     693545   562890  \n",
      "Sales         449653   546946  \n"
     ]
    },
    {
     "name": "stderr",
     "output_type": "stream",
     "text": [
      "/var/folders/h8/dk4pn1l11_5f5z7pscs8gr0r0000gn/T/ipykernel_10359/754589455.py:3: FutureWarning: The default value of observed=False is deprecated and will change to observed=True in a future version of pandas. Specify observed=False to silence this warning and retain the current behavior\n",
      "  df.pivot_table(\n",
      "/var/folders/h8/dk4pn1l11_5f5z7pscs8gr0r0000gn/T/ipykernel_10359/754589455.py:3: FutureWarning: The default value of observed=False is deprecated and will change to observed=True in a future version of pandas. Specify observed=False to silence this warning and retain the current behavior\n",
      "  df.pivot_table(\n"
     ]
    }
   ],
   "source": [
    "# 부서별, 나이대별 평균 Salary 계산 (피벗)\n",
    "df_pivot_age = (\n",
    "    df.pivot_table(\n",
    "        values=\"Salary\", index=\"Department\", columns=\"AgeGroup\", aggfunc=[\"mean\", \"sum\"]\n",
    "    ).astype(int)\n",
    "    # .map(lambda x: f\"{x:,}$\")\n",
    ")\n",
    "\n",
    "# 피벗 결과 출력\n",
    "print(df_pivot_age)"
   ]
  },
  {
   "cell_type": "code",
   "execution_count": null,
   "metadata": {},
   "outputs": [
    {
     "name": "stdout",
     "output_type": "stream",
     "text": [
      "             Salary\n",
      "Department         \n",
      "Engineering   69940\n",
      "HR            74215\n",
      "Marketing     78425\n",
      "Sales         70936\n"
     ]
    }
   ],
   "source": [
    "# 부서별 평균 Salary 계산 (피벗)\n",
    "df_pivot = df.pivot_table(values=\"Salary\", index=\"Department\", aggfunc=\"mean\").astype(\n",
    "    int\n",
    ")\n",
    "\n",
    "# 피벗 결과 출력\n",
    "print(df_pivot)"
   ]
  },
  {
   "cell_type": "code",
   "execution_count": 11,
   "metadata": {},
   "outputs": [
    {
     "name": "stdout",
     "output_type": "stream",
     "text": [
      "      ID  Age  Salary   JoinDate   Department AgeGroup\n",
      "0      1   56   88053 2020-07-14        Sales      50s\n",
      "1      2   69   51959 2022-04-23           HR      60s\n",
      "6      7   38   64766 2017-08-06    Marketing      30s\n",
      "7      8   56  103530 2015-06-06    Marketing      50s\n",
      "8      9   36   91087 2012-05-03           HR      30s\n",
      "..   ...  ...     ...        ...          ...      ...\n",
      "191  192   56   80993 2014-03-23           HR      50s\n",
      "192  193   50   59592 2013-04-06  Engineering      50s\n",
      "195  196   69  118891 2013-05-02           HR      60s\n",
      "196  197   30  117545 2014-03-21    Marketing      30s\n",
      "197  198   58  119912 2018-11-11           HR      50s\n",
      "\n",
      "[110 rows x 6 columns]\n"
     ]
    }
   ],
   "source": [
    "# 30대 이상이고, Salary가 50,000 이상인 데이터 선택\n",
    "df_filtered_age = df[(df[\"Age\"] >= 30) & (df[\"Salary\"] >= 50000)]\n",
    "\n",
    "# 결과 출력\n",
    "print(df_filtered_age)"
   ]
  },
  {
   "cell_type": "code",
   "execution_count": 15,
   "metadata": {},
   "outputs": [],
   "source": [
    "df_filtered_age = df[[\"AgeGroup\"]]"
   ]
  },
  {
   "cell_type": "code",
   "execution_count": 17,
   "metadata": {},
   "outputs": [
    {
     "name": "stdout",
     "output_type": "stream",
     "text": [
      "     Department AgeGroup  Salary\n",
      "2   Engineering      40s   77273\n",
      "3   Engineering      50s   64838\n",
      "6            HR      30s   71029\n",
      "7            HR      40s   68392\n",
      "8            HR      50s   69270\n",
      "11    Marketing      30s   77102\n",
      "12    Marketing      40s   78859\n",
      "13    Marketing      50s   77060\n",
      "16        Sales      30s   87935\n"
     ]
    }
   ],
   "source": [
    "# 부서별 평균 Salary가 60,000 이상이고, 나이대가 30대 이상인 부서만 선택\n",
    "df_filtered_complex = df_grouped_age[\n",
    "    (df_grouped_age[\"Salary\"] >= 60000)\n",
    "    & (df_grouped_age[\"AgeGroup\"].isin([\"30s\", \"40s\", \"50s\"]))\n",
    "]\n",
    "\n",
    "# 결과 출력\n",
    "print(df_filtered_complex)"
   ]
  },
  {
   "cell_type": "code",
   "execution_count": 21,
   "metadata": {},
   "outputs": [
    {
     "data": {
      "text/html": [
       "<div>\n",
       "<style scoped>\n",
       "    .dataframe tbody tr th:only-of-type {\n",
       "        vertical-align: middle;\n",
       "    }\n",
       "\n",
       "    .dataframe tbody tr th {\n",
       "        vertical-align: top;\n",
       "    }\n",
       "\n",
       "    .dataframe thead th {\n",
       "        text-align: right;\n",
       "    }\n",
       "</style>\n",
       "<table border=\"1\" class=\"dataframe\">\n",
       "  <thead>\n",
       "    <tr style=\"text-align: right;\">\n",
       "      <th></th>\n",
       "      <th>ID</th>\n",
       "      <th>Age</th>\n",
       "      <th>Salary</th>\n",
       "      <th>JoinDate</th>\n",
       "      <th>Department</th>\n",
       "      <th>AgeGroup</th>\n",
       "    </tr>\n",
       "  </thead>\n",
       "  <tbody>\n",
       "    <tr>\n",
       "      <th>0</th>\n",
       "      <td>1</td>\n",
       "      <td>56</td>\n",
       "      <td>88053</td>\n",
       "      <td>2020-07-14</td>\n",
       "      <td>Sales</td>\n",
       "      <td>50s</td>\n",
       "    </tr>\n",
       "    <tr>\n",
       "      <th>1</th>\n",
       "      <td>2</td>\n",
       "      <td>69</td>\n",
       "      <td>51959</td>\n",
       "      <td>2022-04-23</td>\n",
       "      <td>HR</td>\n",
       "      <td>60s</td>\n",
       "    </tr>\n",
       "    <tr>\n",
       "      <th>2</th>\n",
       "      <td>3</td>\n",
       "      <td>46</td>\n",
       "      <td>35530</td>\n",
       "      <td>2017-05-25</td>\n",
       "      <td>HR</td>\n",
       "      <td>40s</td>\n",
       "    </tr>\n",
       "    <tr>\n",
       "      <th>3</th>\n",
       "      <td>4</td>\n",
       "      <td>32</td>\n",
       "      <td>33748</td>\n",
       "      <td>2012-08-29</td>\n",
       "      <td>Engineering</td>\n",
       "      <td>30s</td>\n",
       "    </tr>\n",
       "    <tr>\n",
       "      <th>4</th>\n",
       "      <td>5</td>\n",
       "      <td>60</td>\n",
       "      <td>43545</td>\n",
       "      <td>2013-03-12</td>\n",
       "      <td>Sales</td>\n",
       "      <td>60s</td>\n",
       "    </tr>\n",
       "    <tr>\n",
       "      <th>...</th>\n",
       "      <td>...</td>\n",
       "      <td>...</td>\n",
       "      <td>...</td>\n",
       "      <td>...</td>\n",
       "      <td>...</td>\n",
       "      <td>...</td>\n",
       "    </tr>\n",
       "    <tr>\n",
       "      <th>195</th>\n",
       "      <td>196</td>\n",
       "      <td>69</td>\n",
       "      <td>118891</td>\n",
       "      <td>2013-05-02</td>\n",
       "      <td>HR</td>\n",
       "      <td>60s</td>\n",
       "    </tr>\n",
       "    <tr>\n",
       "      <th>196</th>\n",
       "      <td>197</td>\n",
       "      <td>30</td>\n",
       "      <td>117545</td>\n",
       "      <td>2014-03-21</td>\n",
       "      <td>Marketing</td>\n",
       "      <td>30s</td>\n",
       "    </tr>\n",
       "    <tr>\n",
       "      <th>197</th>\n",
       "      <td>198</td>\n",
       "      <td>58</td>\n",
       "      <td>119912</td>\n",
       "      <td>2018-11-11</td>\n",
       "      <td>HR</td>\n",
       "      <td>50s</td>\n",
       "    </tr>\n",
       "    <tr>\n",
       "      <th>198</th>\n",
       "      <td>199</td>\n",
       "      <td>20</td>\n",
       "      <td>100316</td>\n",
       "      <td>2016-07-14</td>\n",
       "      <td>HR</td>\n",
       "      <td>20s</td>\n",
       "    </tr>\n",
       "    <tr>\n",
       "      <th>199</th>\n",
       "      <td>200</td>\n",
       "      <td>56</td>\n",
       "      <td>32368</td>\n",
       "      <td>2020-03-08</td>\n",
       "      <td>Sales</td>\n",
       "      <td>50s</td>\n",
       "    </tr>\n",
       "  </tbody>\n",
       "</table>\n",
       "<p>200 rows × 6 columns</p>\n",
       "</div>"
      ],
      "text/plain": [
       "      ID  Age  Salary   JoinDate   Department AgeGroup\n",
       "0      1   56   88053 2020-07-14        Sales      50s\n",
       "1      2   69   51959 2022-04-23           HR      60s\n",
       "2      3   46   35530 2017-05-25           HR      40s\n",
       "3      4   32   33748 2012-08-29  Engineering      30s\n",
       "4      5   60   43545 2013-03-12        Sales      60s\n",
       "..   ...  ...     ...        ...          ...      ...\n",
       "195  196   69  118891 2013-05-02           HR      60s\n",
       "196  197   30  117545 2014-03-21    Marketing      30s\n",
       "197  198   58  119912 2018-11-11           HR      50s\n",
       "198  199   20  100316 2016-07-14           HR      20s\n",
       "199  200   56   32368 2020-03-08        Sales      50s\n",
       "\n",
       "[200 rows x 6 columns]"
      ]
     },
     "execution_count": 21,
     "metadata": {},
     "output_type": "execute_result"
    }
   ],
   "source": [
    "df"
   ]
  },
  {
   "cell_type": "code",
   "execution_count": 22,
   "metadata": {},
   "outputs": [
    {
     "data": {
      "image/png": "[encoded data removed]",
      "text/plain": [
       "<Figure size 1000x600 with 1 Axes>"
      ]
     },
     "metadata": {},
     "output_type": "display_data"
    }
   ],
   "source": [
    "import seaborn as sns\n",
    "import matplotlib.pyplot as plt\n",
    "\n",
    "# 부서별 평균 Salary를 시각화\n",
    "plt.figure(figsize=(10, 6))\n",
    "sns.boxplot(x=\"Department\", y=\"Salary\", data=df)\n",
    "plt.title(\"Average Salary by Department\")\n",
    "plt.show()\n",
    "\n",
    "# 부서별, 나이대별 평균 연봉 시각화\n",
    "# plt.figure(figsize=(12, 6))\n",
    "# sns.heatmap(df_pivot_age, annot=True, cmap='YlGnBu', fmt='.0f', linewidths=0.5)\n",
    "# plt.title('Average Salary by Department and Age Group')\n",
    "# plt.show()"
   ]
  },
  {
   "cell_type": "code",
   "execution_count": 28,
   "metadata": {},
   "outputs": [
    {
     "name": "stdout",
     "output_type": "stream",
     "text": [
      "score  60  61  62  63  64  65  66  67  68  69  ...  89  90  91  92  93  94  \\\n",
      "age                                            ...                           \n",
      "20      0   0   0   0   0   0   0   0   0   0  ...   0   0   1   0   0   0   \n",
      "21      1   0   0   0   0   0   0   0   0   0  ...   1   0   0   1   0   0   \n",
      "22      0   0   0   0   0   0   0   0   1   0  ...   0   0   0   0   0   0   \n",
      "23      0   0   1   0   0   0   0   0   0   0  ...   0   0   0   0   0   0   \n",
      "24      0   1   0   0   0   0   0   0   1   0  ...   0   0   0   0   0   0   \n",
      "25      0   0   1   0   0   0   0   0   0   0  ...   0   1   0   0   0   0   \n",
      "26      0   0   0   1   0   0   0   0   0   0  ...   0   0   0   0   1   0   \n",
      "27      0   0   1   0   0   0   0   0   0   0  ...   0   0   0   0   0   1   \n",
      "28      1   0   0   0   0   0   0   0   0   0  ...   0   0   0   0   0   0   \n",
      "29      1   0   0   0   0   0   0   0   0   0  ...   0   0   0   0   0   0   \n",
      "30      0   0   0   0   0   0   0   0   0   0  ...   0   0   0   0   0   0   \n",
      "31      0   0   0   1   0   0   0   0   0   0  ...   1   0   0   0   0   0   \n",
      "32      0   0   0   0   0   1   1   0   0   0  ...   0   0   0   0   0   0   \n",
      "33      0   0   0   0   0   0   0   0   0   1  ...   0   0   0   0   0   0   \n",
      "34      0   0   0   1   0   0   1   1   0   0  ...   0   0   0   0   0   0   \n",
      "35      0   0   0   2   1   0   0   0   0   0  ...   0   0   0   0   0   0   \n",
      "36      0   0   0   0   0   0   0   0   0   0  ...   0   0   0   0   0   1   \n",
      "37      0   0   0   0   1   0   0   0   0   0  ...   0   0   0   0   0   0   \n",
      "38      0   0   0   0   0   0   0   0   0   0  ...   0   1   0   0   0   0   \n",
      "39      0   1   1   0   0   0   0   0   0   0  ...   0   0   0   0   0   0   \n",
      "40      0   0   0   0   0   0   0   0   0   0  ...   0   1   0   1   0   0   \n",
      "41      0   0   0   1   0   0   0   0   0   0  ...   0   0   0   0   0   0   \n",
      "43      0   0   0   0   0   1   0   0   0   0  ...   1   0   0   1   0   1   \n",
      "44      1   0   0   0   0   0   0   0   0   0  ...   0   0   1   0   0   1   \n",
      "45      0   0   0   0   0   0   0   0   0   0  ...   0   0   0   0   0   0   \n",
      "46      0   0   0   0   0   0   0   0   0   0  ...   0   1   0   0   0   0   \n",
      "47      0   0   0   0   0   0   0   0   0   0  ...   0   0   1   0   0   0   \n",
      "48      0   0   0   0   0   0   0   0   0   0  ...   0   0   0   0   0   0   \n",
      "49      0   0   0   0   0   0   0   0   0   0  ...   0   0   0   0   0   0   \n",
      "\n",
      "score  95  96  98  99  \n",
      "age                    \n",
      "20      1   0   0   0  \n",
      "21      0   0   0   0  \n",
      "22      0   0   0   0  \n",
      "23      0   1   0   0  \n",
      "24      0   0   0   0  \n",
      "25      0   0   0   1  \n",
      "26      1   1   0   0  \n",
      "27      0   0   0   0  \n",
      "28      0   0   0   0  \n",
      "29      1   0   0   0  \n",
      "30      0   0   0   0  \n",
      "31      0   1   0   0  \n",
      "32      0   0   0   0  \n",
      "33      0   0   0   0  \n",
      "34      0   0   0   0  \n",
      "35      0   0   0   0  \n",
      "36      0   0   0   0  \n",
      "37      0   0   0   0  \n",
      "38      0   0   0   0  \n",
      "39      1   0   0   0  \n",
      "40      0   0   1   0  \n",
      "41      0   0   0   0  \n",
      "43      0   0   0   0  \n",
      "44      0   0   0   0  \n",
      "45      0   0   1   0  \n",
      "46      0   0   0   0  \n",
      "47      0   0   0   0  \n",
      "48      0   0   0   0  \n",
      "49      0   1   0   0  \n",
      "\n",
      "[29 rows x 38 columns]\n"
     ]
    }
   ],
   "source": [
    "import pandas as pd\n",
    "import numpy as np\n",
    "\n",
    "# 난수 생성기 시드 설정 (재현성 위해)\n",
    "np.random.seed(0)\n",
    "\n",
    "# 랜덤 이름, 나이, 점수 생성\n",
    "names = [\n",
    "    \"Alice\", \"Bob\", \"Charlie\", \"David\", \"Eve\", \"Frank\", \"Grace\", \"Hannah\", \"Ivy\", \"Jack\", \"Kim\", \"Lee\",\n",
    "]\n",
    "age = np.random.randint(20, 50, size=100)  # 나이는 20-50 사이에서 랜덤 생성\n",
    "score = np.random.randint(60, 100, size=100)  # 점수는 60-100 사이에서 랜덤 생성\n",
    "city = np.random.choice([\"Seoul\", \"Busan\", \"Incheon\"], size=100)  # 도시 목록에서 랜덤으로 선택\n",
    "\n",
    "# 랜덤하게 이름 선택\n",
    "name = np.random.choice(names, size=100)\n",
    "\n",
    "# DataFrame 생성\n",
    "df = pd.DataFrame({\n",
    "    \"name\": name,\n",
    "    \"age\": age.astype(int),  # int형으로 변환\n",
    "    \"score\": score.astype(int),  # int형으로 변환\n",
    "    \"city\": city,\n",
    "})\n",
    "\n",
    "# 피벗 테이블 생성 (중복 데이터를 처리하기 위해 'score'의 평균 사용)\n",
    "pivot_df = df.pivot_table(index=\"age\", columns=\"score\", values=\"name\", aggfunc='count', fill_value=0)\n",
    "print(pivot_df)\n"
   ]
  },
  {
   "cell_type": "code",
   "execution_count": null,
   "metadata": {},
   "outputs": [
    {
     "name": "stdout",
     "output_type": "stream",
     "text": [
      "city        Busan  Seoul\n",
      "date                    \n",
      "2022-01-01    NaN    6.0\n",
      "2022-01-02   11.0    NaN\n"
     ]
    }
   ],
   "source": [
    "# 중복된 값이 있는 예시\n",
    "df = pd.DataFrame(\n",
    "    {\n",
    "        \"date\": [\"2022-01-01\", \"2022-01-01\", \"2022-01-02\", \"2022-01-02\"],\n",
    "        \"city\": [\"Seoul\", \"Seoul\", \"Busan\", \"Busan\"],\n",
    "        \"temperature\": [5, 7, 10, 12],\n",
    "    }\n",
    ")\n",
    "\n",
    "# pivot_table()을 사용하여 중복값을 평균으로 처리\n",
    "pivot_df = df.pivot_table(\n",
    "    index=\"date\", columns=\"city\", values=\"temperature\", aggfunc=\"mean\"\n",
    ")\n",
    "print(pivot_df)"
   ]
  },
  {
   "cell_type": "code",
   "execution_count": 29,
   "metadata": {},
   "outputs": [
    {
     "name": "stdout",
     "output_type": "stream",
     "text": [
      "Groupby result:\n",
      "                     score\n",
      "city    name              \n",
      "Busan   Alice    79.666667\n",
      "        Bob      93.000000\n",
      "        Charlie  85.400000\n",
      "        David    78.600000\n",
      "        Eve      82.000000\n",
      "        Frank    79.500000\n",
      "        Grace    84.571429\n",
      "        Hannah   69.666667\n",
      "        Ivy      64.000000\n",
      "        Jack     83.000000\n",
      "Incheon Alice    67.000000\n",
      "        Bob      76.600000\n",
      "        Charlie  82.500000\n",
      "        David    84.250000\n",
      "        Eve      61.000000\n",
      "        Frank    79.666667\n",
      "        Grace    71.500000\n",
      "        Hannah   76.000000\n",
      "        Ivy      77.600000\n",
      "        Jack     83.000000\n",
      "Seoul   Alice    72.333333\n",
      "        Bob      79.666667\n",
      "        Charlie  77.000000\n",
      "        David    90.000000\n",
      "        Eve      74.750000\n",
      "        Grace    86.750000\n",
      "        Hannah   82.500000\n",
      "        Jack     88.000000\n",
      "\n",
      "Pivot Table result:\n",
      "name         Alice        Bob  Charlie  David    Eve      Frank      Grace  \\\n",
      "city                                                                         \n",
      "Busan    79.666667  93.000000     85.4  78.60  82.00  79.500000  84.571429   \n",
      "Incheon  67.000000  76.600000     82.5  84.25  61.00  79.666667  71.500000   \n",
      "Seoul    72.333333  79.666667     77.0  90.00  74.75        NaN  86.750000   \n",
      "\n",
      "name        Hannah   Ivy  Jack  \n",
      "city                            \n",
      "Busan    69.666667  64.0  83.0  \n",
      "Incheon  76.000000  77.6  83.0  \n",
      "Seoul    82.500000   NaN  88.0  \n"
     ]
    }
   ],
   "source": [
    "names = [\n",
    "    \"Alice\",\n",
    "    \"Bob\",\n",
    "    \"Charlie\",\n",
    "    \"David\",\n",
    "    \"Eve\",\n",
    "    \"Frank\",\n",
    "    \"Grace\",\n",
    "    \"Hannah\",\n",
    "    \"Ivy\",\n",
    "    \"Jack\",\n",
    "]\n",
    "age = np.random.randint(20, 50, size=100)  # 나이는 20-50 사이에서 랜덤 생성\n",
    "score = np.random.randint(60, 100, size=100)  # 점수는 60-100 사이에서 랜덤 생성\n",
    "city = np.random.choice(\n",
    "    [\"Seoul\", \"Busan\", \"Incheon\"], size=100\n",
    ")  # 도시 목록에서 랜덤으로 선택\n",
    "\n",
    "# 랜덤하게 이름 선택\n",
    "name = np.random.choice(names, size=100)\n",
    "\n",
    "# 예시 데이터프레임\n",
    "df = pd.DataFrame(\n",
    "    {\n",
    "        \"name\": name,\n",
    "        \"age\": age.astype(int),  # int형으로 변환\n",
    "        \"score\": score.astype(int),  # int형으로 변환\n",
    "        \"city\": city,\n",
    "    }\n",
    ")\n",
    "\n",
    "# 1. 'city'와 'name'을 기준으로 평균 점수 계산 (groupby 사용)\n",
    "grouped_df = df.groupby([\"city\", \"name\"]).agg({\"score\": \"mean\"})\n",
    "print(\"Groupby result:\")\n",
    "print(grouped_df)\n",
    "\n",
    "# 2. 'city'와 'name'을 기준으로 피벗 (pivot_table 사용)\n",
    "pivot_df = df.pivot_table(index=\"city\", columns=\"name\", values=\"score\", aggfunc=\"mean\")\n",
    "print(\"\\nPivot Table result:\")\n",
    "print(pivot_df)"
   ]
  },
  {
   "cell_type": "markdown",
   "metadata": {},
   "source": [
    "### pivot_table()의 주요 매개변수:\n",
    "> - index: 행 인덱스 기준이 되는 열\n",
    "> - columns: 열 인덱스 기준이 되는 열\n",
    "> - values: 피벗하려는 값이 들어 있는 열\n",
    "> - aggfunc: 중복 값에 대한 집계 함수(기본값은 mean으로 평균을 계산)"
   ]
  },
  {
   "cell_type": "code",
   "execution_count": null,
   "metadata": {},
   "outputs": [],
   "source": []
  },
  {
   "cell_type": "code",
   "execution_count": null,
   "metadata": {},
   "outputs": [],
   "source": []
  }
 ],
 "metadata": {
  "kernelspec": {
   "display_name": "Python 3",
   "language": "python",
   "name": "python3"
  },
  "language_info": {
   "codemirror_mode": {
    "name": "ipython",
    "version": 3
   },
   "file_extension": ".py",
   "mimetype": "text/x-python",
   "name": "python",
   "nbconvert_exporter": "python",
   "pygments_lexer": "ipython3",
   "version": "3.11.10"
  }
 },
 "nbformat": 4,
 "nbformat_minor": 2
}
