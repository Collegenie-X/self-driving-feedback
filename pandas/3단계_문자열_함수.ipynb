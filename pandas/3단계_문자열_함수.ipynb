{
 "cells": [
  {
   "cell_type": "markdown",
   "metadata": {
    "vscode": {
     "languageId": "plaintext"
    }
   },
   "source": [
    "## str 함수들 개요\n",
    "> str 함수들은 DataFrame의 열이나 Series의 문자열 데이터를 처리하는 데 사용됩니다. Pandas는 문자열을 직접 다룰 수 있도록 다양한 메서드를 제공합니다. 각 메서드는 일반적으로 str.<method_name> 형태로 사용됩니다.\n",
    "\n",
    "\n",
    "> - ### 문자열 변환: str.lower(), str.upper(), str.title()\n",
    "> - ### 공백 및 특정 문자 처리: str.strip(), str.replace(), str.contains()\n",
    "> - ### 패턴 추출 및 분할: str.extract(), str.split(), str.findall()\n",
    "> - ### 길이 계산 및 숫자 채우기: str.len(), str.zfill()\n",
    "> - ### 문자열 결합: str.cat()"
   ]
  },
  {
   "cell_type": "markdown",
   "metadata": {},
   "source": [
    "> str.lower() / str.upper()\n",
    "- str.lower(): 문자열을 모두 소문자로 변환합니다.\n",
    "- str.upper(): 문자열을 모두 대문자로 변환합니다."
   ]
  },
  {
   "cell_type": "code",
   "execution_count": 2,
   "metadata": {},
   "outputs": [
    {
     "data": {
      "text/html": [
       "<div>\n",
       "<style scoped>\n",
       "    .dataframe tbody tr th:only-of-type {\n",
       "        vertical-align: middle;\n",
       "    }\n",
       "\n",
       "    .dataframe tbody tr th {\n",
       "        vertical-align: top;\n",
       "    }\n",
       "\n",
       "    .dataframe thead th {\n",
       "        text-align: right;\n",
       "    }\n",
       "</style>\n",
       "<table border=\"1\" class=\"dataframe\">\n",
       "  <thead>\n",
       "    <tr style=\"text-align: right;\">\n",
       "      <th></th>\n",
       "      <th>Name</th>\n",
       "    </tr>\n",
       "  </thead>\n",
       "  <tbody>\n",
       "    <tr>\n",
       "      <th>0</th>\n",
       "      <td>Alice</td>\n",
       "    </tr>\n",
       "    <tr>\n",
       "      <th>1</th>\n",
       "      <td>BOB</td>\n",
       "    </tr>\n",
       "    <tr>\n",
       "      <th>2</th>\n",
       "      <td>Charlie</td>\n",
       "    </tr>\n",
       "    <tr>\n",
       "      <th>3</th>\n",
       "      <td>dAVID</td>\n",
       "    </tr>\n",
       "  </tbody>\n",
       "</table>\n",
       "</div>"
      ],
      "text/plain": [
       "      Name\n",
       "0    Alice\n",
       "1      BOB\n",
       "2  Charlie\n",
       "3    dAVID"
      ]
     },
     "execution_count": 2,
     "metadata": {},
     "output_type": "execute_result"
    }
   ],
   "source": [
    "import pandas as pd\n",
    "\n",
    "# 예시 데이터\n",
    "df = pd.DataFrame({\n",
    "    'Name': ['Alice', 'BOB', 'Charlie', 'dAVID']\n",
    "})\n",
    "\n",
    "df\n"
   ]
  },
  {
   "cell_type": "code",
   "execution_count": 3,
   "metadata": {},
   "outputs": [
    {
     "name": "stdout",
     "output_type": "stream",
     "text": [
      "      Name name_lower name_upper\n",
      "0    Alice      alice      ALICE\n",
      "1      BOB        bob        BOB\n",
      "2  Charlie    charlie    CHARLIE\n",
      "3    dAVID      david      DAVID\n"
     ]
    }
   ],
   "source": [
    "# 소문자 변환\n",
    "df['name_lower'] = df['Name'].str.lower()\n",
    "\n",
    "# 대문자 변환\n",
    "df['name_upper'] = df['Name'].str.upper()\n",
    "\n",
    "print(df)\n"
   ]
  },
  {
   "cell_type": "markdown",
   "metadata": {},
   "source": [
    "> str.strip() / str.lstrip() / str.rstrip()\n",
    "- str.strip(): 문자열 양쪽에 있는 공백(또는 다른 문자)을 제거합니다.\n",
    "- str.lstrip(): 문자열 왼쪽에서 공백(또는 다른 문자)을 제거합니다.\n",
    "- str.rstrip(): 문자열 오른쪽에서 공백(또는 다른 문자)을 제거합니다."
   ]
  },
  {
   "cell_type": "code",
   "execution_count": 6,
   "metadata": {},
   "outputs": [
    {
     "data": {
      "text/plain": [
       "'  Charlie  '"
      ]
     },
     "execution_count": 6,
     "metadata": {},
     "output_type": "execute_result"
    }
   ],
   "source": [
    "import pandas as pd\n",
    "df = pd.DataFrame({\n",
    "    'Name': ['  Alice  ', ' Bob ', '  Charlie  ', ' David ']\n",
    "})\n",
    "df.iloc[2,0]"
   ]
  },
  {
   "cell_type": "code",
   "execution_count": 7,
   "metadata": {},
   "outputs": [
    {
     "data": {
      "text/plain": [
       "'Charlie'"
      ]
     },
     "execution_count": 7,
     "metadata": {},
     "output_type": "execute_result"
    }
   ],
   "source": [
    "df[\"Name\"] = df[\"Name\"].str.strip()\n",
    "df.iloc[2,0]"
   ]
  },
  {
   "cell_type": "code",
   "execution_count": null,
   "metadata": {},
   "outputs": [],
   "source": [
    "\n",
    "# 양쪽 공백 제거\n",
    "df['name_stripped'] = df['Name'].str.strip()\n",
    "\n",
    "# 왼쪽 공백 제거\n",
    "df['name_lstrip'] = df['Name'].str.lstrip()\n",
    "\n",
    "# 오른쪽 공백 제거\n",
    "df['name_rstrip'] = df['Name'].str.rstrip()\n",
    "\n",
    "print(df)\n"
   ]
  },
  {
   "cell_type": "code",
   "execution_count": 9,
   "metadata": {},
   "outputs": [
    {
     "name": "stdout",
     "output_type": "stream",
     "text": [
      "                 Email             NewEmail\n",
      "0    alice@company.com    alice@company.com\n",
      "1        bob@never.com        bob@naver.com\n",
      "2  charlie@company.com  charlie@company.com\n"
     ]
    }
   ],
   "source": [
    "df = pd.DataFrame({\n",
    "    'Email': ['alice@company.com', 'bob@never.com', 'charlie@company.com']\n",
    "})\n",
    "\n",
    "# 도메인 변경\n",
    "df['NewEmail'] = df['Email'].str.replace('@never.com', '@naver.com')\n",
    "\n",
    "print(df)"
   ]
  },
  {
   "cell_type": "code",
   "execution_count": 10,
   "metadata": {},
   "outputs": [
    {
     "data": {
      "text/html": [
       "<div>\n",
       "<style scoped>\n",
       "    .dataframe tbody tr th:only-of-type {\n",
       "        vertical-align: middle;\n",
       "    }\n",
       "\n",
       "    .dataframe tbody tr th {\n",
       "        vertical-align: top;\n",
       "    }\n",
       "\n",
       "    .dataframe thead th {\n",
       "        text-align: right;\n",
       "    }\n",
       "</style>\n",
       "<table border=\"1\" class=\"dataframe\">\n",
       "  <thead>\n",
       "    <tr style=\"text-align: right;\">\n",
       "      <th></th>\n",
       "      <th>NewEmail</th>\n",
       "    </tr>\n",
       "  </thead>\n",
       "  <tbody>\n",
       "    <tr>\n",
       "      <th>0</th>\n",
       "      <td>alice@company.com</td>\n",
       "    </tr>\n",
       "    <tr>\n",
       "      <th>1</th>\n",
       "      <td>bob@naver.com</td>\n",
       "    </tr>\n",
       "    <tr>\n",
       "      <th>2</th>\n",
       "      <td>charlie@company.com</td>\n",
       "    </tr>\n",
       "  </tbody>\n",
       "</table>\n",
       "</div>"
      ],
      "text/plain": [
       "              NewEmail\n",
       "0    alice@company.com\n",
       "1        bob@naver.com\n",
       "2  charlie@company.com"
      ]
     },
     "execution_count": 10,
     "metadata": {},
     "output_type": "execute_result"
    }
   ],
   "source": [
    "df[[\"NewEmail\"]]"
   ]
  },
  {
   "cell_type": "markdown",
   "metadata": {},
   "source": [
    "> str.contains()\n",
    "- str.contains(substring): 문자열이 특정 부분 문자열을 포함하는지 여부를 확인하여 True 또는 False로 반환합니다."
   ]
  },
  {
   "cell_type": "code",
   "execution_count": 13,
   "metadata": {},
   "outputs": [
    {
     "name": "stdout",
     "output_type": "stream",
     "text": [
      "       Name\n",
      "0  스타벅스-명일점\n",
      "3      스타벅스\n",
      "4  스타벅스-홍대점\n",
      "5  스타벅스-공일점\n"
     ]
    }
   ],
   "source": [
    "df = pd.DataFrame({\n",
    "    'Name': ['스타벅스-명일점','카페베네','이디야','스타벅스', '스타벅스-홍대점', '스타벅스-공일점']\n",
    "})\n",
    "\n",
    "# 'a'가 포함된 이름 확인\n",
    "print(df[df['Name'].str.contains('스타벅스')]) \n",
    "\n"
   ]
  },
  {
   "cell_type": "markdown",
   "metadata": {},
   "source": [
    "> str.startswith() / str.endswith()\n",
    "- str.startswith(prefix): 문자열이 특정 접두사로 시작하는지 확인합니다.\n",
    "- str.endswith(suffix): 문자열이 특정 접미사로 끝나는지 확인합니다."
   ]
  },
  {
   "cell_type": "code",
   "execution_count": 6,
   "metadata": {},
   "outputs": [
    {
     "name": "stdout",
     "output_type": "stream",
     "text": [
      "      Name  starts_with_A  ends_with_e\n",
      "0    Alice           True         True\n",
      "1      Bob          False        False\n",
      "2  Charlie          False         True\n",
      "3    David          False        False\n"
     ]
    }
   ],
   "source": [
    "df = pd.DataFrame({\n",
    "    'Name': ['Alice', 'Bob', 'Charlie', 'David']\n",
    "})\n",
    "\n",
    "# 'A'로 시작하는 이름 확인\n",
    "df['starts_with_A'] = df['Name'].str.startswith('A')\n",
    "\n",
    "# 'e'로 끝나는 이름 확인\n",
    "df['ends_with_e'] = df['Name'].str.endswith('e')\n",
    "\n",
    "print(df)\n"
   ]
  },
  {
   "cell_type": "markdown",
   "metadata": {},
   "source": [
    "> str.split()\n",
    "-  str.split(delimiter): 문자열을 구분자로 나눕니다."
   ]
  },
  {
   "cell_type": "code",
   "execution_count": 14,
   "metadata": {},
   "outputs": [
    {
     "name": "stdout",
     "output_type": "stream",
     "text": [
      "       Full_Name First_Name Last_Name\n",
      "0    Alice Smith      Alice     Smith\n",
      "1      Bob Brown        Bob     Brown\n",
      "2  Charlie White    Charlie     White\n"
     ]
    }
   ],
   "source": [
    "df = pd.DataFrame({\n",
    "    'Full_Name': ['Alice Smith', 'Bob Brown', 'Charlie White']\n",
    "})\n",
    "\n",
    "# 공백을 기준으로 이름과 성 나누기\n",
    "df[['First_Name', 'Last_Name']] = df['Full_Name'].str.split(' ', expand=True)\n",
    "\n",
    "print(df)\n"
   ]
  },
  {
   "cell_type": "markdown",
   "metadata": {},
   "source": [
    "> str.extract()\n",
    "- str.extract(pattern): 정규 표현식 패턴을 이용하여 문자열에서 일치하는 부분을 추출합니다."
   ]
  },
  {
   "cell_type": "code",
   "execution_count": 8,
   "metadata": {},
   "outputs": [
    {
     "name": "stdout",
     "output_type": "stream",
     "text": [
      "                  Email numbers\n",
      "0    alice123@gmail.com     123\n",
      "1    bob456@hotmail.com     456\n",
      "2  charlie789@yahoo.com     789\n"
     ]
    }
   ],
   "source": [
    "df = pd.DataFrame({\n",
    "    'Email': ['alice123@gmail.com', 'bob456@hotmail.com', 'charlie789@yahoo.com']\n",
    "})\n",
    "\n",
    "# 이메일에서 숫자만 추출\n",
    "df['numbers'] = df['Email'].str.extract(r'(\\d+)')\n",
    "\n",
    "print(df)\n"
   ]
  },
  {
   "cell_type": "markdown",
   "metadata": {},
   "source": [
    "> str.findall()\n",
    "- str.findall(pattern): 문자열에서 정규 표현식 패턴에 맞는 모든 부분을 찾아서 반환합니다."
   ]
  },
  {
   "cell_type": "code",
   "execution_count": 10,
   "metadata": {},
   "outputs": [
    {
     "name": "stdout",
     "output_type": "stream",
     "text": [
      "                                text numbers\n",
      "0  Alice has 3 apples and 2 bananas.  [3, 2]\n",
      "1                 Bob has 4 oranges.     [4]\n",
      "2  Charlie has 5 grapes and 1 apple.  [5, 1]\n"
     ]
    }
   ],
   "source": [
    "df = pd.DataFrame({\n",
    "    'text': ['Alice has 3 apples and 2 bananas.', 'Bob has 4 oranges.', 'Charlie has 5 grapes and 1 apple.']\n",
    "})\n",
    "\n",
    "# 숫자 찾기\n",
    "df['numbers'] = df['text'].str.findall(r'\\d+')\n",
    "\n",
    "print(df)\n"
   ]
  },
  {
   "cell_type": "markdown",
   "metadata": {},
   "source": [
    "> str.count()\n",
    "- str.count(substring): 특정 부분 문자열이 문자열에 몇 번 나타나는지 셉니다."
   ]
  },
  {
   "cell_type": "code",
   "execution_count": 11,
   "metadata": {},
   "outputs": [
    {
     "name": "stdout",
     "output_type": "stream",
     "text": [
      "              text  apple_count\n",
      "0        apple pie            1\n",
      "1  apple apple pie            2\n",
      "2       banana pie            0\n",
      "3        pie apple            1\n"
     ]
    }
   ],
   "source": [
    "df = pd.DataFrame({\n",
    "    'text': ['apple pie', 'apple apple pie', 'banana pie', 'pie apple']\n",
    "})\n",
    "\n",
    "# 'apple'이 나타나는 횟수 계산\n",
    "df['apple_count'] = df['text'].str.count('apple')\n",
    "\n",
    "print(df)\n"
   ]
  },
  {
   "cell_type": "markdown",
   "metadata": {},
   "source": [
    "> str.len()\n",
    "- str.len(): 문자열의 길이를 반환합니다."
   ]
  },
  {
   "cell_type": "code",
   "execution_count": 12,
   "metadata": {},
   "outputs": [
    {
     "name": "stdout",
     "output_type": "stream",
     "text": [
      "     text  text_length\n",
      "0   apple            5\n",
      "1  banana            6\n",
      "2  cherry            6\n"
     ]
    }
   ],
   "source": [
    "df = pd.DataFrame({\n",
    "    'text': ['apple', 'banana', 'cherry']\n",
    "})\n",
    "\n",
    "# 문자열 길이 계산\n",
    "df['text_length'] = df['text'].str.len()\n",
    "\n",
    "print(df)\n"
   ]
  },
  {
   "cell_type": "markdown",
   "metadata": {},
   "source": [
    "> str.zfill()\n",
    "- str.zfill(width): 문자열의 길이를 width로 맞추고, 부족한 자리는 0으로 채웁니다."
   ]
  },
  {
   "cell_type": "code",
   "execution_count": 13,
   "metadata": {},
   "outputs": [
    {
     "name": "stdout",
     "output_type": "stream",
     "text": [
      "  number number_padded\n",
      "0      1         00001\n",
      "1     23         00023\n",
      "2    456         00456\n"
     ]
    }
   ],
   "source": [
    "df = pd.DataFrame({\n",
    "    'number': ['1', '23', '456']\n",
    "})\n",
    "\n",
    "# 5자리로 맞추고 왼쪽에 0을 채우기\n",
    "df['number_padded'] = df['number'].str.zfill(5)\n",
    "\n",
    "print(df)\n"
   ]
  },
  {
   "cell_type": "markdown",
   "metadata": {},
   "source": [
    "> str.cat()\n",
    "- str.cat(sep): 문자열을 결합할 때 구분자를 지정할 수 있습니다."
   ]
  },
  {
   "cell_type": "code",
   "execution_count": 14,
   "metadata": {},
   "outputs": [
    {
     "name": "stdout",
     "output_type": "stream",
     "text": [
      "  first_name last_name      full_name\n",
      "0      Alice     Smith    Alice Smith\n",
      "1        Bob     Brown      Bob Brown\n",
      "2    Charlie     White  Charlie White\n"
     ]
    }
   ],
   "source": [
    "df = pd.DataFrame({\n",
    "    'first_name': ['Alice', 'Bob', 'Charlie'],\n",
    "    'last_name': ['Smith', 'Brown', 'White']\n",
    "})\n",
    "\n",
    "# 공백을 기준으로 이름과 성 결합\n",
    "df['full_name'] = df['first_name'].str.cat(df['last_name'], sep=' ')\n",
    "\n",
    "print(df)\n"
   ]
  }
 ],
 "metadata": {
  "kernelspec": {
   "display_name": "Python 3",
   "language": "python",
   "name": "python3"
  },
  "language_info": {
   "codemirror_mode": {
    "name": "ipython",
    "version": 3
   },
   "file_extension": ".py",
   "mimetype": "text/x-python",
   "name": "python",
   "nbconvert_exporter": "python",
   "pygments_lexer": "ipython3",
   "version": "3.13.2"
  }
 },
 "nbformat": 4,
 "nbformat_minor": 2
}
