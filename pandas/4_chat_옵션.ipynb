{
 "cells": [
  {
   "cell_type": "markdown",
   "metadata": {},
   "source": [
    "아래는 **Streamlit 차트에서 자주 사용되는 주요 옵션값을 자세히 설명한 표**입니다.  \n",
    "이 옵션들은 Streamlit에서 기본적으로 제공되는 `st.line_chart`, `st.bar_chart`, `st.area_chart`, `st.scatter_chart`, 그리고 `st.altair_chart` 함수들에 적용할 수 있습니다.\n"
   ]
  },
  {
   "cell_type": "markdown",
   "metadata": {},
   "source": [
    "\n",
    "---\n",
    "\n",
    "## 📌 **Streamlit 차트 주요 옵션값**\n",
    "\n",
    "### ✅ **공통 옵션**\n",
    "\n",
    "| 옵션                   | 설명                           | 사용 예시                            |\n",
    "|------------------------|--------------------------------|-------------------------------------|\n",
    "| `use_container_width`  | 차트를 컨테이너의 너비에 맞춤 (`True` 권장) | `st.altair_chart(chart, use_container_width=True)` |\n",
    "| `width`, `height`      | 차트의 너비와 높이 설정 (**픽셀 단위**) | 차트에 따라 `width=600, height=400` |\n",
    "\n",
    "---\n"
   ]
  },
  {
   "cell_type": "markdown",
   "metadata": {},
   "source": [
    "\n",
    "## ✅ **`st.line_chart`, `st.bar_chart`, `st.area_chart`**\n",
    "\n",
    "| 옵션            | 설명                               | 사용 예시                             |\n",
    "|-----------------|-----------------------------------|--------------------------------------|\n",
    "| `data`          | 입력 데이터 (`pd.DataFrame`, `dict`) | `st.line_chart(df)` 또는 `st.line_chart({'A':[1,2]})` |\n",
    "| `x`, `y`        | 데이터의 특정 열을 x축, y축으로 설정 (**Streamlit 최신버전**) | `st.line_chart(df, x='Date', y=['Sales','Profit'])` |\n",
    "| `color`         | 데이터의 컬럼별 색상 지정 (Streamlit 기본 색상 사용 권장) | 지원되지 않음 (`Altair` 등 사용 권장) |\n",
    "\n",
    "**참고:**  \n",
    "`st.line_chart`, `st.bar_chart`, `st.area_chart` 등은 간단한 사용이 목적이라 옵션이 최소화되어 있습니다.  \n",
    "복잡한 옵션 적용은 Altair나 Matplotlib 이용을 권장합니다.\n",
    "\n",
    "---\n"
   ]
  },
  {
   "cell_type": "markdown",
   "metadata": {},
   "source": [
    "| 옵션 | 설명 | 사용 예시 |\n",
    "|-------|-------|---------|\n",
    "| `data` | 차트로 그릴 데이터 (DataFrame, dict 등) | `st.line_chart(df)` |\n",
    "| `x`, `y` | 데이터의 특정 열을 x축, y축으로 설정 | `st.line_chart(df, x='날짜', y='매출')` |\n",
    "| `use_container_width` | 차트 너비를 컨테이너에 맞춤 | `st.line_chart(df, use_container_width=True)` |"
   ]
  },
  {
   "cell_type": "code",
   "execution_count": 8,
   "metadata": {},
   "outputs": [
    {
     "name": "stderr",
     "output_type": "stream",
     "text": [
      "2025-03-19 20:56:33.145 Thread 'MainThread': missing ScriptRunContext! This warning can be ignored when running in bare mode.\n",
      "2025-03-19 20:56:33.146 Thread 'MainThread': missing ScriptRunContext! This warning can be ignored when running in bare mode.\n",
      "2025-03-19 20:56:33.177 Thread 'MainThread': missing ScriptRunContext! This warning can be ignored when running in bare mode.\n",
      "2025-03-19 20:56:33.178 Thread 'MainThread': missing ScriptRunContext! This warning can be ignored when running in bare mode.\n"
     ]
    },
    {
     "data": {
      "text/plain": [
       "DeltaGenerator()"
      ]
     },
     "execution_count": 8,
     "metadata": {},
     "output_type": "execute_result"
    }
   ],
   "source": [
    "import streamlit as st\n",
    "import pandas as pd\n",
    "import numpy as np\n",
    "\n",
    "st.title(\"선 그래프 예시\")\n",
    "\n",
    "df = pd.DataFrame({\n",
    "    '날짜': pd.date_range('2023-01-01', periods=100),\n",
    "    '매출': np.random.randint(100, 500, 100)\n",
    "})\n",
    "\n",
    "st.line_chart(df.set_index('날짜'), use_container_width=True)"
   ]
  },
  {
   "cell_type": "markdown",
   "metadata": {},
   "source": [
    "| 옵션 | 설명 | 사용 예시 |\n",
    "|-------|-------|---------|\n",
    "| `data` | 차트 데이터 (DataFrame, dict 등) | `st.bar_chart(data)` |\n",
    "| `use_container_width` | 컨테이너 너비에 맞춤 | `st.bar_chart(data, use_container_width=True)` |"
   ]
  },
  {
   "cell_type": "code",
   "execution_count": 9,
   "metadata": {},
   "outputs": [
    {
     "name": "stderr",
     "output_type": "stream",
     "text": [
      "2025-03-19 20:56:33.184 Thread 'MainThread': missing ScriptRunContext! This warning can be ignored when running in bare mode.\n",
      "2025-03-19 20:56:33.184 Thread 'MainThread': missing ScriptRunContext! This warning can be ignored when running in bare mode.\n",
      "2025-03-19 20:56:33.190 Thread 'MainThread': missing ScriptRunContext! This warning can be ignored when running in bare mode.\n",
      "2025-03-19 20:56:33.190 Thread 'MainThread': missing ScriptRunContext! This warning can be ignored when running in bare mode.\n"
     ]
    },
    {
     "data": {
      "text/plain": [
       "DeltaGenerator()"
      ]
     },
     "execution_count": 9,
     "metadata": {},
     "output_type": "execute_result"
    }
   ],
   "source": [
    "import streamlit as st\n",
    "import pandas as pd\n",
    "\n",
    "st.title(\"막대 그래프 예시\")\n",
    "\n",
    "data = pd.DataFrame({\n",
    "    '상품': ['A', 'B', 'C', 'D'],\n",
    "    '판매량': [120, 250, 80, 160]\n",
    "}).set_index('상품')\n",
    "\n",
    "st.bar_chart(data, use_container_width=True)"
   ]
  },
  {
   "cell_type": "markdown",
   "metadata": {},
   "source": [
    "\n",
    "\n",
    "## ✅ **`st.scatter_chart` 옵션**\n",
    "\n",
    "| 옵션     | 설명                                  | 사용 예시                               |\n",
    "|----------|---------------------------------------|----------------------------------------|\n",
    "| `data`   | 입력 데이터 (`pd.DataFrame`, `dict`)   | `st.scatter_chart({'x':x,'y':y})`      |\n",
    "| `x`, `y` | DataFrame에서 특정 열을 x축, y축으로 선택 | `st.scatter_chart(df, x='A', y='B')`   |\n",
    "| `size`   | 점의 크기 설정 (고정값 또는 열 이름)    | 데이터 컬럼으로 설정 가능 (`size='C'`) |\n",
    "| `color`  | 점의 색상 설정 (열 이름으로 설정 가능)  | `color='category'`                     |\n",
    "\n",
    "**참고:**  \n",
    "`st.scatter_chart`는 옵션이 제한적이므로,  \n",
    "다양한 옵션 사용 시 Altair나 Matplotlib의 사용이 효과적입니다.\n",
    "\n",
    "---\n"
   ]
  },
  {
   "cell_type": "markdown",
   "metadata": {},
   "source": [
    "\n",
    "\n",
    "## ✅ **`st.altair_chart` 옵션 (추천!)**\n",
    "\n",
    "`Altair`는 Streamlit과 가장 호환이 뛰어나며 **상세 옵션 조정이 가능**합니다.\n",
    "\n",
    "| 옵션 (`encode` 내 사용) | 설명                              | 사용 예시                                         |\n",
    "|-------------------------|-----------------------------------|---------------------------------------------------|\n",
    "| `x`, `y`                | x축, y축 설정 (`:Q` 숫자형, `:O` 순서형) | `x='Year:O', y='Value:Q'`                        |\n",
    "| `color`                 | 데이터 그룹별 색상 구분             | `color='Category:N'`                             |\n",
    "| `size`                  | 데이터 크기 (산점도에서 유용)        | `size='Sales:Q'`                                 |\n",
    "| `tooltip`               | 마우스 오버시 추가 정보 표시         | `tooltip=['Year','Sales']`                       |\n",
    "| `opacity`               | 불투명도 (0~1) 설정                 | `.mark_circle(opacity=0.7)`                      |\n",
    "| `mark_point`            | 데이터 포인트에 점 추가             | `.mark_line(point=True)`                         |\n",
    "| `interactive()`         | 줌/팬 기능 활성화                   | `.interactive()`                                 |\n",
    "| `properties`            | 차트 너비, 높이, 제목 설정          | `.properties(width=600, height=400, title='제목')`|\n",
    "\n",
    "---\n"
   ]
  },
  {
   "cell_type": "markdown",
   "metadata": {},
   "source": [
    "| 옵션 | 설명 | 사용 예시 |\n",
    "|-------|-------|---------|\n",
    "| `chart` | Altair 객체 | `st.altair_chart(chart)` |\n",
    "| `use_container_width` | 컨테이너 너비에 맞춤 | `st.altair_chart(chart, use_container_width=True)` |\n",
    "\n",
    "> **Altair 내부 옵션**  \n",
    "> - `encode()` : x, y, color, size, tooltip 등 상세 옵션 지정  \n",
    "> - `interactive()` : 상호작용 가능하게 설정  \n",
    "> - `mark_line()`, `mark_bar()`, `mark_circle()` : 차트 형태 지정  \n",
    "> - `properties()` : 차트 크기, 제목 설정  "
   ]
  },
  {
   "cell_type": "code",
   "execution_count": 10,
   "metadata": {},
   "outputs": [
    {
     "name": "stderr",
     "output_type": "stream",
     "text": [
      "2025-03-19 20:56:33.195 Thread 'MainThread': missing ScriptRunContext! This warning can be ignored when running in bare mode.\n",
      "2025-03-19 20:56:33.196 Thread 'MainThread': missing ScriptRunContext! This warning can be ignored when running in bare mode.\n",
      "2025-03-19 20:56:33.210 Thread 'MainThread': missing ScriptRunContext! This warning can be ignored when running in bare mode.\n",
      "2025-03-19 20:56:33.210 Thread 'MainThread': missing ScriptRunContext! This warning can be ignored when running in bare mode.\n"
     ]
    },
    {
     "data": {
      "text/plain": [
       "DeltaGenerator()"
      ]
     },
     "execution_count": 10,
     "metadata": {},
     "output_type": "execute_result"
    }
   ],
   "source": [
    "import streamlit as st\n",
    "import altair as alt\n",
    "import pandas as pd\n",
    "\n",
    "st.title(\"Altair 선 그래프 예시\")\n",
    "\n",
    "df = pd.DataFrame({\n",
    "    'Year': ['2020', '2021', '2022', '2023'],\n",
    "    'Sales': [100, 150, 120, 170],\n",
    "    'Profit': [30, 40, 35, 45]\n",
    "}).melt('Year', var_name='Type', value_name='Value')\n",
    "\n",
    "chart = alt.Chart(df).mark_line(point=True).encode(\n",
    "    x='Year:O',\n",
    "    y='Value:Q',\n",
    "    color='Type:N',\n",
    "    tooltip=['Year', 'Type', 'Value']\n",
    ").properties(\n",
    "    width=600,\n",
    "    height=400,\n",
    "    title='연도별 매출 및 이익'\n",
    ").interactive()\n",
    "\n",
    "st.altair_chart(chart, use_container_width=True)"
   ]
  },
  {
   "cell_type": "markdown",
   "metadata": {},
   "source": [
    "\n",
    "\n",
    "## 📌 **옵션 활용 예시 (Altair 차트)**\n",
    "\n",
    "아래는 Altair 옵션 사용의 예시입니다.\n"
   ]
  },
  {
   "cell_type": "code",
   "execution_count": 11,
   "metadata": {},
   "outputs": [
    {
     "name": "stderr",
     "output_type": "stream",
     "text": [
      "2025-03-19 20:56:33.247 Thread 'MainThread': missing ScriptRunContext! This warning can be ignored when running in bare mode.\n",
      "2025-03-19 20:56:33.248 Thread 'MainThread': missing ScriptRunContext! This warning can be ignored when running in bare mode.\n"
     ]
    },
    {
     "data": {
      "text/plain": [
       "DeltaGenerator()"
      ]
     },
     "execution_count": 11,
     "metadata": {},
     "output_type": "execute_result"
    }
   ],
   "source": [
    "\n",
    "import altair as alt\n",
    "import streamlit as st\n",
    "import pandas as pd\n",
    "\n",
    "# 데이터 생성\n",
    "df = pd.DataFrame({\n",
    "    'Year': ['2020','2021','2022','2023'],\n",
    "    'Sales': [100, 150, 120, 170],\n",
    "    'Profit': [30, 40, 35, 45]\n",
    "})\n",
    "\n",
    "# 데이터 형태 변환\n",
    "df_melted = df.melt('Year', var_name='Type', value_name='Value')\n",
    "\n",
    "# Altair 차트 생성 (옵션 사용 예시)\n",
    "chart = alt.Chart(df_melted).mark_line(point=True).encode(\n",
    "    x=alt.X('Year:O', title='년도', axis=alt.Axis(labelAngle=0)),\n",
    "    y=alt.Y('Value:Q', title='값'),\n",
    "    color=alt.Color('Type:N', title='구분'),\n",
    "    tooltip=['Year', 'Type', 'Value']\n",
    ").properties(\n",
    "    width=600,\n",
    "    height=400,\n",
    "    title='연도별 판매액과 이익 변화'\n",
    ").interactive()\n",
    "\n",
    "st.altair_chart(chart, use_container_width=True)\n",
    "\n"
   ]
  },
  {
   "cell_type": "markdown",
   "metadata": {},
   "source": [
    "## 📌 **③ st.area_chart (영역 그래프)**"
   ]
  },
  {
   "cell_type": "markdown",
   "metadata": {},
   "source": [
    "| 옵션 | 설명 | 사용 예시 |\n",
    "|-------|-------|---------|\n",
    "| `data` | 차트 데이터 (DataFrame, dict 등) | `st.area_chart(df)` |\n",
    "| `use_container_width` | 컨테이너 너비에 맞춤 | `st.area_chart(df, use_container_width=True)` |"
   ]
  },
  {
   "cell_type": "code",
   "execution_count": 12,
   "metadata": {},
   "outputs": [
    {
     "name": "stderr",
     "output_type": "stream",
     "text": [
      "2025-03-19 20:56:33.255 Thread 'MainThread': missing ScriptRunContext! This warning can be ignored when running in bare mode.\n",
      "2025-03-19 20:56:33.256 Thread 'MainThread': missing ScriptRunContext! This warning can be ignored when running in bare mode.\n",
      "2025-03-19 20:56:33.263 Thread 'MainThread': missing ScriptRunContext! This warning can be ignored when running in bare mode.\n",
      "2025-03-19 20:56:33.264 Thread 'MainThread': missing ScriptRunContext! This warning can be ignored when running in bare mode.\n"
     ]
    },
    {
     "data": {
      "text/plain": [
       "DeltaGenerator()"
      ]
     },
     "execution_count": 12,
     "metadata": {},
     "output_type": "execute_result"
    }
   ],
   "source": [
    "import streamlit as st\n",
    "import pandas as pd\n",
    "import numpy as np\n",
    "\n",
    "st.title(\"영역 그래프 예시\")\n",
    "\n",
    "df = pd.DataFrame({\n",
    "    '월': range(1,13),\n",
    "    '제품A': np.random.randint(100, 300, 12),\n",
    "    '제품B': np.random.randint(200, 400, 12)\n",
    "}).set_index('월')\n",
    "\n",
    "st.area_chart(df, use_container_width=True)"
   ]
  },
  {
   "cell_type": "markdown",
   "metadata": {},
   "source": [
    "\n",
    "\n",
    "---\n",
    "\n",
    "## 📌 **옵션 활용 예시 (Matplotlib 차트)**\n",
    "\n",
    "Matplotlib 옵션도 쉽게 Streamlit과 통합하여 사용할 수 있습니다.\n",
    "\n"
   ]
  },
  {
   "cell_type": "code",
   "execution_count": 13,
   "metadata": {},
   "outputs": [
    {
     "name": "stderr",
     "output_type": "stream",
     "text": [
      "2025-03-19 20:56:33.275 Thread 'MainThread': missing ScriptRunContext! This warning can be ignored when running in bare mode.\n",
      "/opt/homebrew/lib/python3.11/site-packages/streamlit/elements/pyplot.py:176: UserWarning: Glyph 52629 (\\N{HANGUL SYLLABLE CUG}) missing from current font.\n",
      "  fig.savefig(image, **kwargs)\n",
      "/opt/homebrew/lib/python3.11/site-packages/streamlit/elements/pyplot.py:176: UserWarning: Glyph 50696 (\\N{HANGUL SYLLABLE YE}) missing from current font.\n",
      "  fig.savefig(image, **kwargs)\n",
      "/opt/homebrew/lib/python3.11/site-packages/streamlit/elements/pyplot.py:176: UserWarning: Glyph 51228 (\\N{HANGUL SYLLABLE JE}) missing from current font.\n",
      "  fig.savefig(image, **kwargs)\n",
      "2025-03-19 20:56:33.559 Thread 'MainThread': missing ScriptRunContext! This warning can be ignored when running in bare mode.\n",
      "2025-03-19 20:56:33.559 Thread 'MainThread': missing ScriptRunContext! This warning can be ignored when running in bare mode.\n"
     ]
    },
    {
     "data": {
      "text/plain": [
       "DeltaGenerator()"
      ]
     },
     "execution_count": 13,
     "metadata": {},
     "output_type": "execute_result"
    }
   ],
   "source": [
    "\n",
    "import matplotlib.pyplot as plt\n",
    "import streamlit as st\n",
    "import numpy as np\n",
    "\n",
    "x = np.linspace(0,10,100)\n",
    "y1 = np.sin(x)\n",
    "y2 = np.cos(x)\n",
    "\n",
    "fig, ax = plt.subplots(figsize=(10,5))\n",
    "ax.plot(x, y1, label='sin(x)', linestyle='--', marker='o', color='blue')\n",
    "ax.plot(x, y2, label='cos(x)', linestyle='-', marker='x', color='red')\n",
    "ax.set_title('Matplotlib 예제')\n",
    "ax.set_xlabel('X축')\n",
    "ax.set_ylabel('Y축')\n",
    "ax.legend()\n",
    "ax.grid(True)\n",
    "\n",
    "st.pyplot(fig)\n",
    "\n"
   ]
  },
  {
   "cell_type": "markdown",
   "metadata": {},
   "source": [
    "\n",
    "\n",
    "---\n",
    "\n",
    "### 📝 **정리: Streamlit 차트 추천 활용법**\n",
    "\n",
    "- **간단한 차트:** `st.line_chart`, `st.bar_chart`, `st.area_chart`\n",
    "- **복잡하고 다양한 옵션이 필요한 경우:** `st.altair_chart` 또는 `st.pyplot(Matplotlib)`  \n",
    "\n",
    "위 옵션 표와 예시를 참고하여 원하는 형태로 자유롭게 차트를 구현해 보세요."
   ]
  }
 ],
 "metadata": {
  "kernelspec": {
   "display_name": "Python 3",
   "language": "python",
   "name": "python3"
  },
  "language_info": {
   "codemirror_mode": {
    "name": "ipython",
    "version": 3
   },
   "file_extension": ".py",
   "mimetype": "text/x-python",
   "name": "python",
   "nbconvert_exporter": "python",
   "pygments_lexer": "ipython3",
   "version": "3.11.10"
  }
 },
 "nbformat": 4,
 "nbformat_minor": 2
}
